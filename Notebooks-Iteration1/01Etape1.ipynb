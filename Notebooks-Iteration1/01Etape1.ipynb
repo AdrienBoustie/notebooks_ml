{
 "cells": [
  {
   "cell_type": "code",
   "execution_count": 1,
   "metadata": {},
   "outputs": [],
   "source": [
    "import pandas as pd\n",
    "import numpy as np\n",
    "import seaborn as sns\n",
    "%matplotlib inline"
   ]
  },
  {
   "cell_type": "markdown",
   "metadata": {},
   "source": [
    "Pour réaliser les exercices de ce noteboook, il sera utile de regarder les liens des ressources et la documentation de sklearn et de pandas."
   ]
  },
  {
   "cell_type": "markdown",
   "metadata": {},
   "source": [
    "# Import data and get into column format"
   ]
  },
  {
   "cell_type": "code",
   "execution_count": 2,
   "metadata": {},
   "outputs": [
    {
     "data": {
      "text/plain": [
       "(31953, 32)"
      ]
     },
     "execution_count": 2,
     "metadata": {},
     "output_type": "execute_result"
    }
   ],
   "source": [
    "# read the following file 'ESP_PUBLIC.IDENTITE_ARBRE.csv' from the website in Resources C\n",
    "# and store the content in a dataframe variable named df\n",
    "df=pd.read_csv(\"ESP_PUBLIC.IDENTITE_ARBRE.csv\")\n",
    "df.shape"
   ]
  },
  {
   "cell_type": "code",
   "execution_count": 3,
   "metadata": {},
   "outputs": [
    {
     "data": {
      "text/html": [
       "<div>\n",
       "<style scoped>\n",
       "    .dataframe tbody tr th:only-of-type {\n",
       "        vertical-align: middle;\n",
       "    }\n",
       "\n",
       "    .dataframe tbody tr th {\n",
       "        vertical-align: top;\n",
       "    }\n",
       "\n",
       "    .dataframe thead th {\n",
       "        text-align: right;\n",
       "    }\n",
       "</style>\n",
       "<table border=\"1\" class=\"dataframe\">\n",
       "  <thead>\n",
       "    <tr style=\"text-align: right;\">\n",
       "      <th></th>\n",
       "      <th>ELEM_POINT_ID</th>\n",
       "      <th>CODE</th>\n",
       "      <th>NOM</th>\n",
       "      <th>GENRE</th>\n",
       "      <th>GENRE_DESC</th>\n",
       "      <th>CATEGORIE</th>\n",
       "      <th>CATEGORIE_DESC</th>\n",
       "      <th>SOUS_CATEGORIE</th>\n",
       "      <th>SOUS_CATEGORIE_DESC</th>\n",
       "      <th>CODE_PARENT</th>\n",
       "      <th>...</th>\n",
       "      <th>COURRIER</th>\n",
       "      <th>IDENTIFIANTPLU</th>\n",
       "      <th>TYPEIMPLANTATIONPLU</th>\n",
       "      <th>INTITULEPROTECTIONPLU</th>\n",
       "      <th>ANNEEABATTAGE</th>\n",
       "      <th>ESSOUCHEMENT</th>\n",
       "      <th>DIAMETREARBRE</th>\n",
       "      <th>CAUSEABATTAGE</th>\n",
       "      <th>COLLECTIVITE</th>\n",
       "      <th>GeoJSON</th>\n",
       "    </tr>\n",
       "  </thead>\n",
       "  <tbody>\n",
       "    <tr>\n",
       "      <td>0</td>\n",
       "      <td>32215</td>\n",
       "      <td>ESP32919</td>\n",
       "      <td>ESP32919</td>\n",
       "      <td>VEG</td>\n",
       "      <td>VEGETATION</td>\n",
       "      <td>ESP01</td>\n",
       "      <td>Arbre</td>\n",
       "      <td>ESP151</td>\n",
       "      <td>Arbre de voirie</td>\n",
       "      <td>ESP32840</td>\n",
       "      <td>...</td>\n",
       "      <td>NaN</td>\n",
       "      <td>NaN</td>\n",
       "      <td>NaN</td>\n",
       "      <td>NaN</td>\n",
       "      <td>NaN</td>\n",
       "      <td>NaN</td>\n",
       "      <td>NaN</td>\n",
       "      <td>NaN</td>\n",
       "      <td>Grenoble Alpes Métropole</td>\n",
       "      <td>{\"type\":\"Point\",\"coordinates\":[5.7199186831633...</td>\n",
       "    </tr>\n",
       "    <tr>\n",
       "      <td>1</td>\n",
       "      <td>32214</td>\n",
       "      <td>ESP32918</td>\n",
       "      <td>ESP32918</td>\n",
       "      <td>VEG</td>\n",
       "      <td>VEGETATION</td>\n",
       "      <td>ESP01</td>\n",
       "      <td>Arbre</td>\n",
       "      <td>ESP151</td>\n",
       "      <td>Arbre de voirie</td>\n",
       "      <td>ESP32840</td>\n",
       "      <td>...</td>\n",
       "      <td>NaN</td>\n",
       "      <td>NaN</td>\n",
       "      <td>NaN</td>\n",
       "      <td>NaN</td>\n",
       "      <td>NaN</td>\n",
       "      <td>NaN</td>\n",
       "      <td>NaN</td>\n",
       "      <td>NaN</td>\n",
       "      <td>Grenoble Alpes Métropole</td>\n",
       "      <td>{\"type\":\"Point\",\"coordinates\":[5.7199940483740...</td>\n",
       "    </tr>\n",
       "    <tr>\n",
       "      <td>2</td>\n",
       "      <td>32213</td>\n",
       "      <td>ESP32917</td>\n",
       "      <td>ESP32917</td>\n",
       "      <td>VEG</td>\n",
       "      <td>VEGETATION</td>\n",
       "      <td>ESP01</td>\n",
       "      <td>Arbre</td>\n",
       "      <td>ESP151</td>\n",
       "      <td>Arbre de voirie</td>\n",
       "      <td>ESP32840</td>\n",
       "      <td>...</td>\n",
       "      <td>NaN</td>\n",
       "      <td>NaN</td>\n",
       "      <td>NaN</td>\n",
       "      <td>NaN</td>\n",
       "      <td>NaN</td>\n",
       "      <td>NaN</td>\n",
       "      <td>NaN</td>\n",
       "      <td>NaN</td>\n",
       "      <td>Grenoble Alpes Métropole</td>\n",
       "      <td>{\"type\":\"Point\",\"coordinates\":[5.7200063674702...</td>\n",
       "    </tr>\n",
       "    <tr>\n",
       "      <td>3</td>\n",
       "      <td>32212</td>\n",
       "      <td>ESP32916</td>\n",
       "      <td>ESP32916</td>\n",
       "      <td>VEG</td>\n",
       "      <td>VEGETATION</td>\n",
       "      <td>ESP01</td>\n",
       "      <td>Arbre</td>\n",
       "      <td>ESP151</td>\n",
       "      <td>Arbre de voirie</td>\n",
       "      <td>ESP32840</td>\n",
       "      <td>...</td>\n",
       "      <td>NaN</td>\n",
       "      <td>NaN</td>\n",
       "      <td>NaN</td>\n",
       "      <td>NaN</td>\n",
       "      <td>NaN</td>\n",
       "      <td>NaN</td>\n",
       "      <td>NaN</td>\n",
       "      <td>NaN</td>\n",
       "      <td>Grenoble Alpes Métropole</td>\n",
       "      <td>{\"type\":\"Point\",\"coordinates\":[5.7199594073925...</td>\n",
       "    </tr>\n",
       "    <tr>\n",
       "      <td>4</td>\n",
       "      <td>32211</td>\n",
       "      <td>ESP32915</td>\n",
       "      <td>ESP32915</td>\n",
       "      <td>VEG</td>\n",
       "      <td>VEGETATION</td>\n",
       "      <td>ESP01</td>\n",
       "      <td>Arbre</td>\n",
       "      <td>ESP151</td>\n",
       "      <td>Arbre de voirie</td>\n",
       "      <td>ESP32840</td>\n",
       "      <td>...</td>\n",
       "      <td>NaN</td>\n",
       "      <td>NaN</td>\n",
       "      <td>NaN</td>\n",
       "      <td>NaN</td>\n",
       "      <td>NaN</td>\n",
       "      <td>NaN</td>\n",
       "      <td>NaN</td>\n",
       "      <td>NaN</td>\n",
       "      <td>Grenoble Alpes Métropole</td>\n",
       "      <td>{\"type\":\"Point\",\"coordinates\":[5.720047467919,...</td>\n",
       "    </tr>\n",
       "  </tbody>\n",
       "</table>\n",
       "<p>5 rows × 32 columns</p>\n",
       "</div>"
      ],
      "text/plain": [
       "   ELEM_POINT_ID      CODE       NOM GENRE  GENRE_DESC CATEGORIE  \\\n",
       "0          32215  ESP32919  ESP32919   VEG  VEGETATION     ESP01   \n",
       "1          32214  ESP32918  ESP32918   VEG  VEGETATION     ESP01   \n",
       "2          32213  ESP32917  ESP32917   VEG  VEGETATION     ESP01   \n",
       "3          32212  ESP32916  ESP32916   VEG  VEGETATION     ESP01   \n",
       "4          32211  ESP32915  ESP32915   VEG  VEGETATION     ESP01   \n",
       "\n",
       "  CATEGORIE_DESC SOUS_CATEGORIE SOUS_CATEGORIE_DESC CODE_PARENT  ... COURRIER  \\\n",
       "0          Arbre         ESP151     Arbre de voirie    ESP32840  ...      NaN   \n",
       "1          Arbre         ESP151     Arbre de voirie    ESP32840  ...      NaN   \n",
       "2          Arbre         ESP151     Arbre de voirie    ESP32840  ...      NaN   \n",
       "3          Arbre         ESP151     Arbre de voirie    ESP32840  ...      NaN   \n",
       "4          Arbre         ESP151     Arbre de voirie    ESP32840  ...      NaN   \n",
       "\n",
       "   IDENTIFIANTPLU TYPEIMPLANTATIONPLU INTITULEPROTECTIONPLU ANNEEABATTAGE  \\\n",
       "0             NaN                 NaN                   NaN           NaN   \n",
       "1             NaN                 NaN                   NaN           NaN   \n",
       "2             NaN                 NaN                   NaN           NaN   \n",
       "3             NaN                 NaN                   NaN           NaN   \n",
       "4             NaN                 NaN                   NaN           NaN   \n",
       "\n",
       "  ESSOUCHEMENT DIAMETREARBRE  CAUSEABATTAGE              COLLECTIVITE  \\\n",
       "0          NaN           NaN            NaN  Grenoble Alpes Métropole   \n",
       "1          NaN           NaN            NaN  Grenoble Alpes Métropole   \n",
       "2          NaN           NaN            NaN  Grenoble Alpes Métropole   \n",
       "3          NaN           NaN            NaN  Grenoble Alpes Métropole   \n",
       "4          NaN           NaN            NaN  Grenoble Alpes Métropole   \n",
       "\n",
       "                                             GeoJSON  \n",
       "0  {\"type\":\"Point\",\"coordinates\":[5.7199186831633...  \n",
       "1  {\"type\":\"Point\",\"coordinates\":[5.7199940483740...  \n",
       "2  {\"type\":\"Point\",\"coordinates\":[5.7200063674702...  \n",
       "3  {\"type\":\"Point\",\"coordinates\":[5.7199594073925...  \n",
       "4  {\"type\":\"Point\",\"coordinates\":[5.720047467919,...  \n",
       "\n",
       "[5 rows x 32 columns]"
      ]
     },
     "execution_count": 3,
     "metadata": {},
     "output_type": "execute_result"
    }
   ],
   "source": [
    "# display the first 5 lines of the file\n",
    "df.head()"
   ]
  },
  {
   "cell_type": "code",
   "execution_count": 4,
   "metadata": {},
   "outputs": [
    {
     "data": {
      "text/plain": [
       "'{\"type\":\"Point\",\"coordinates\":[5.71991868316333,45.1902373901707]}'"
      ]
     },
     "execution_count": 4,
     "metadata": {},
     "output_type": "execute_result"
    }
   ],
   "source": [
    "# explain what the following line does in a markdown cell below: \n",
    "# what is the input, what is the output, which is the type of the output\n",
    "df.GeoJSON[0]"
   ]
  },
  {
   "cell_type": "markdown",
   "metadata": {},
   "source": [
    "**explanations here**\n",
    "\n",
    "It's showing the first row of the Sequence (first element)\n",
    "which is a str"
   ]
  },
  {
   "cell_type": "code",
   "execution_count": 5,
   "metadata": {},
   "outputs": [
    {
     "name": "stdout",
     "output_type": "stream",
     "text": [
      "{\"type\":\"Point\",\"coordinates\":[5.72000636747023,45.1903222955413]} {'type': 'Point', 'coordinates': [5.72000636747023, 45.1903222955413]} {\"type\":\"Point\",\"coordinates\":[5.72000636747023,45.1903222955413]}\n"
     ]
    }
   ],
   "source": [
    "import json\n",
    "#x = json.loads('{\"foo\" : \"bar\", \"hello\" : \"world\"}')\n",
    "print(df.GeoJSON[2],json.loads(df.GeoJSON[2]),df.GeoJSON[2])"
   ]
  },
  {
   "cell_type": "code",
   "execution_count": 6,
   "metadata": {},
   "outputs": [
    {
     "data": {
      "text/plain": [
       "0        {'type': 'Point', 'coordinates': [5.7199186831...\n",
       "1        {'type': 'Point', 'coordinates': [5.7199940483...\n",
       "2        {'type': 'Point', 'coordinates': [5.7200063674...\n",
       "3        {'type': 'Point', 'coordinates': [5.7199594073...\n",
       "4        {'type': 'Point', 'coordinates': [5.7200474679...\n",
       "                               ...                        \n",
       "31948    {'type': 'Point', 'coordinates': [5.7117236533...\n",
       "31949    {'type': 'Point', 'coordinates': [5.7119827720...\n",
       "31950    {'type': 'Point', 'coordinates': [5.7116286455...\n",
       "31951    {'type': 'Point', 'coordinates': [5.7119395933...\n",
       "31952    {'type': 'Point', 'coordinates': [5.7117201813...\n",
       "Length: 31953, dtype: object"
      ]
     },
     "execution_count": 6,
     "metadata": {},
     "output_type": "execute_result"
    }
   ],
   "source": [
    "# change the json string to a python dictionary on each of the values in the GeoJSON Column using \"apply\"\n",
    "\n",
    "\n",
    "A=pd.DataFrame(df.GeoJSON)\n",
    "A=A.apply(lambda x:json.loads(x[0]),axis=1 )      \n",
    "df.GeoJSON=A\n",
    "A\n",
    "\n"
   ]
  },
  {
   "cell_type": "code",
   "execution_count": null,
   "metadata": {},
   "outputs": [],
   "source": []
  },
  {
   "cell_type": "code",
   "execution_count": 7,
   "metadata": {},
   "outputs": [
    {
     "name": "stdout",
     "output_type": "stream",
     "text": [
      "<class 'dict'> [5.71991868316333, 45.1902373901707]\n"
     ]
    }
   ],
   "source": [
    "# display the coordinates of the first element in the GeoJSON column\n",
    "print(type(df.iloc[0,-1]),df.iloc[0,-1][\"coordinates\"])"
   ]
  },
  {
   "cell_type": "code",
   "execution_count": 8,
   "metadata": {},
   "outputs": [
    {
     "data": {
      "text/plain": [
       "0        [5.71991868316333, 45.1902373901707]\n",
       "1        [5.71999404837408, 45.1902804861137]\n",
       "2        [5.72000636747023, 45.1903222955413]\n",
       "3        [5.71995940739258, 45.1903592495204]\n",
       "4          [5.720047467919, 45.1904417102787]\n",
       "                         ...                 \n",
       "31948    [5.71172365334341, 45.1649497242899]\n",
       "31949    [5.71198277200449, 45.1648222221272]\n",
       "31950    [5.71162864556154, 45.1649668978421]\n",
       "31951    [5.71193959338567, 45.1649180978557]\n",
       "31952     [5.7117201813578, 45.1648672120428]\n",
       "Name: coordinates, Length: 31953, dtype: object"
      ]
     },
     "execution_count": 8,
     "metadata": {},
     "output_type": "execute_result"
    }
   ],
   "source": [
    "# import pandas as pd\n",
    "# use  pandas.io.json.json_normalize  to normalize the json coordinates into a new variable \"coord\"\n",
    "coord=pd.io.json.json_normalize(df.GeoJSON)[\"coordinates\"]\n",
    "coord"
   ]
  },
  {
   "cell_type": "code",
   "execution_count": 9,
   "metadata": {},
   "outputs": [
    {
     "data": {
      "text/plain": [
       "0        {'longitude': 5.71991868316333, 'latitude': 45...\n",
       "1        {'longitude': 5.71999404837408, 'latitude': 45...\n",
       "2        {'longitude': 5.72000636747023, 'latitude': 45...\n",
       "3        {'longitude': 5.71995940739258, 'latitude': 45...\n",
       "4        {'longitude': 5.720047467919, 'latitude': 45.1...\n",
       "                               ...                        \n",
       "31948    {'longitude': 5.71172365334341, 'latitude': 45...\n",
       "31949    {'longitude': 5.71198277200449, 'latitude': 45...\n",
       "31950    {'longitude': 5.71162864556154, 'latitude': 45...\n",
       "31951    {'longitude': 5.71193959338567, 'latitude': 45...\n",
       "31952    {'longitude': 5.7117201813578, 'latitude': 45....\n",
       "Name: coordinates, Length: 31953, dtype: object"
      ]
     },
     "execution_count": 9,
     "metadata": {},
     "output_type": "execute_result"
    }
   ],
   "source": [
    "# store the longitude and latitude in two variables starting from the values in the \"coord\" variable using \"apply\"\n",
    "\n",
    "longitude = None\n",
    "latitude = None\n",
    "#coord.apply(lambda x:{\"longitude\":x[0],\"latitude\":x[1]})\n",
    "a=coord.apply(lambda x:{\"longitude\":x[0],\"latitude\":x[1]})\n",
    "longitude=coord.apply(lambda x:x[1])\n",
    "latitude=coord.apply(lambda x:x[0])\n",
    "a"
   ]
  },
  {
   "cell_type": "code",
   "execution_count": 10,
   "metadata": {},
   "outputs": [],
   "source": [
    "# remove the GeoJSON column from the dataframe df without copying it.\n",
    "del(df[\"GeoJSON\"])"
   ]
  },
  {
   "cell_type": "code",
   "execution_count": 11,
   "metadata": {},
   "outputs": [
    {
     "data": {
      "text/html": [
       "<div>\n",
       "<style scoped>\n",
       "    .dataframe tbody tr th:only-of-type {\n",
       "        vertical-align: middle;\n",
       "    }\n",
       "\n",
       "    .dataframe tbody tr th {\n",
       "        vertical-align: top;\n",
       "    }\n",
       "\n",
       "    .dataframe thead th {\n",
       "        text-align: right;\n",
       "    }\n",
       "</style>\n",
       "<table border=\"1\" class=\"dataframe\">\n",
       "  <thead>\n",
       "    <tr style=\"text-align: right;\">\n",
       "      <th></th>\n",
       "      <th>ELEM_POINT_ID</th>\n",
       "      <th>CODE</th>\n",
       "      <th>NOM</th>\n",
       "      <th>GENRE</th>\n",
       "      <th>GENRE_DESC</th>\n",
       "      <th>CATEGORIE</th>\n",
       "      <th>CATEGORIE_DESC</th>\n",
       "      <th>SOUS_CATEGORIE</th>\n",
       "      <th>SOUS_CATEGORIE_DESC</th>\n",
       "      <th>CODE_PARENT</th>\n",
       "      <th>...</th>\n",
       "      <th>IDENTIFIANTPLU</th>\n",
       "      <th>TYPEIMPLANTATIONPLU</th>\n",
       "      <th>INTITULEPROTECTIONPLU</th>\n",
       "      <th>ANNEEABATTAGE</th>\n",
       "      <th>ESSOUCHEMENT</th>\n",
       "      <th>DIAMETREARBRE</th>\n",
       "      <th>CAUSEABATTAGE</th>\n",
       "      <th>COLLECTIVITE</th>\n",
       "      <th>LONGITUDE</th>\n",
       "      <th>LATITUDE</th>\n",
       "    </tr>\n",
       "  </thead>\n",
       "  <tbody>\n",
       "    <tr>\n",
       "      <td>0</td>\n",
       "      <td>32215</td>\n",
       "      <td>ESP32919</td>\n",
       "      <td>ESP32919</td>\n",
       "      <td>VEG</td>\n",
       "      <td>VEGETATION</td>\n",
       "      <td>ESP01</td>\n",
       "      <td>Arbre</td>\n",
       "      <td>ESP151</td>\n",
       "      <td>Arbre de voirie</td>\n",
       "      <td>ESP32840</td>\n",
       "      <td>...</td>\n",
       "      <td>NaN</td>\n",
       "      <td>NaN</td>\n",
       "      <td>NaN</td>\n",
       "      <td>NaN</td>\n",
       "      <td>NaN</td>\n",
       "      <td>NaN</td>\n",
       "      <td>NaN</td>\n",
       "      <td>Grenoble Alpes Métropole</td>\n",
       "      <td>45.190237</td>\n",
       "      <td>5.719919</td>\n",
       "    </tr>\n",
       "    <tr>\n",
       "      <td>1</td>\n",
       "      <td>32214</td>\n",
       "      <td>ESP32918</td>\n",
       "      <td>ESP32918</td>\n",
       "      <td>VEG</td>\n",
       "      <td>VEGETATION</td>\n",
       "      <td>ESP01</td>\n",
       "      <td>Arbre</td>\n",
       "      <td>ESP151</td>\n",
       "      <td>Arbre de voirie</td>\n",
       "      <td>ESP32840</td>\n",
       "      <td>...</td>\n",
       "      <td>NaN</td>\n",
       "      <td>NaN</td>\n",
       "      <td>NaN</td>\n",
       "      <td>NaN</td>\n",
       "      <td>NaN</td>\n",
       "      <td>NaN</td>\n",
       "      <td>NaN</td>\n",
       "      <td>Grenoble Alpes Métropole</td>\n",
       "      <td>45.190280</td>\n",
       "      <td>5.719994</td>\n",
       "    </tr>\n",
       "    <tr>\n",
       "      <td>2</td>\n",
       "      <td>32213</td>\n",
       "      <td>ESP32917</td>\n",
       "      <td>ESP32917</td>\n",
       "      <td>VEG</td>\n",
       "      <td>VEGETATION</td>\n",
       "      <td>ESP01</td>\n",
       "      <td>Arbre</td>\n",
       "      <td>ESP151</td>\n",
       "      <td>Arbre de voirie</td>\n",
       "      <td>ESP32840</td>\n",
       "      <td>...</td>\n",
       "      <td>NaN</td>\n",
       "      <td>NaN</td>\n",
       "      <td>NaN</td>\n",
       "      <td>NaN</td>\n",
       "      <td>NaN</td>\n",
       "      <td>NaN</td>\n",
       "      <td>NaN</td>\n",
       "      <td>Grenoble Alpes Métropole</td>\n",
       "      <td>45.190322</td>\n",
       "      <td>5.720006</td>\n",
       "    </tr>\n",
       "    <tr>\n",
       "      <td>3</td>\n",
       "      <td>32212</td>\n",
       "      <td>ESP32916</td>\n",
       "      <td>ESP32916</td>\n",
       "      <td>VEG</td>\n",
       "      <td>VEGETATION</td>\n",
       "      <td>ESP01</td>\n",
       "      <td>Arbre</td>\n",
       "      <td>ESP151</td>\n",
       "      <td>Arbre de voirie</td>\n",
       "      <td>ESP32840</td>\n",
       "      <td>...</td>\n",
       "      <td>NaN</td>\n",
       "      <td>NaN</td>\n",
       "      <td>NaN</td>\n",
       "      <td>NaN</td>\n",
       "      <td>NaN</td>\n",
       "      <td>NaN</td>\n",
       "      <td>NaN</td>\n",
       "      <td>Grenoble Alpes Métropole</td>\n",
       "      <td>45.190359</td>\n",
       "      <td>5.719959</td>\n",
       "    </tr>\n",
       "    <tr>\n",
       "      <td>4</td>\n",
       "      <td>32211</td>\n",
       "      <td>ESP32915</td>\n",
       "      <td>ESP32915</td>\n",
       "      <td>VEG</td>\n",
       "      <td>VEGETATION</td>\n",
       "      <td>ESP01</td>\n",
       "      <td>Arbre</td>\n",
       "      <td>ESP151</td>\n",
       "      <td>Arbre de voirie</td>\n",
       "      <td>ESP32840</td>\n",
       "      <td>...</td>\n",
       "      <td>NaN</td>\n",
       "      <td>NaN</td>\n",
       "      <td>NaN</td>\n",
       "      <td>NaN</td>\n",
       "      <td>NaN</td>\n",
       "      <td>NaN</td>\n",
       "      <td>NaN</td>\n",
       "      <td>Grenoble Alpes Métropole</td>\n",
       "      <td>45.190442</td>\n",
       "      <td>5.720047</td>\n",
       "    </tr>\n",
       "    <tr>\n",
       "      <td>...</td>\n",
       "      <td>...</td>\n",
       "      <td>...</td>\n",
       "      <td>...</td>\n",
       "      <td>...</td>\n",
       "      <td>...</td>\n",
       "      <td>...</td>\n",
       "      <td>...</td>\n",
       "      <td>...</td>\n",
       "      <td>...</td>\n",
       "      <td>...</td>\n",
       "      <td>...</td>\n",
       "      <td>...</td>\n",
       "      <td>...</td>\n",
       "      <td>...</td>\n",
       "      <td>...</td>\n",
       "      <td>...</td>\n",
       "      <td>...</td>\n",
       "      <td>...</td>\n",
       "      <td>...</td>\n",
       "      <td>...</td>\n",
       "      <td>...</td>\n",
       "    </tr>\n",
       "    <tr>\n",
       "      <td>31948</td>\n",
       "      <td>23339</td>\n",
       "      <td>ESP28693</td>\n",
       "      <td>ESP28693</td>\n",
       "      <td>VEG</td>\n",
       "      <td>VEGETATION</td>\n",
       "      <td>ESP01</td>\n",
       "      <td>Arbre</td>\n",
       "      <td>ESP151</td>\n",
       "      <td>Arbre de voirie</td>\n",
       "      <td>ESP1221</td>\n",
       "      <td>...</td>\n",
       "      <td>NaN</td>\n",
       "      <td>NaN</td>\n",
       "      <td>NaN</td>\n",
       "      <td>NaN</td>\n",
       "      <td>NaN</td>\n",
       "      <td>NaN</td>\n",
       "      <td>NaN</td>\n",
       "      <td>Grenoble Alpes Métropole</td>\n",
       "      <td>45.164950</td>\n",
       "      <td>5.711724</td>\n",
       "    </tr>\n",
       "    <tr>\n",
       "      <td>31949</td>\n",
       "      <td>919</td>\n",
       "      <td>ESP26621</td>\n",
       "      <td>ESP26621</td>\n",
       "      <td>VEG</td>\n",
       "      <td>VEGETATION</td>\n",
       "      <td>ESP01</td>\n",
       "      <td>Arbre</td>\n",
       "      <td>ESP151</td>\n",
       "      <td>Arbre de voirie</td>\n",
       "      <td>ESP1221</td>\n",
       "      <td>...</td>\n",
       "      <td>NaN</td>\n",
       "      <td>NaN</td>\n",
       "      <td>NaN</td>\n",
       "      <td>NaN</td>\n",
       "      <td>NaN</td>\n",
       "      <td>NaN</td>\n",
       "      <td>NaN</td>\n",
       "      <td>Grenoble Alpes Métropole</td>\n",
       "      <td>45.164822</td>\n",
       "      <td>5.711983</td>\n",
       "    </tr>\n",
       "    <tr>\n",
       "      <td>31950</td>\n",
       "      <td>19628</td>\n",
       "      <td>ESP24819</td>\n",
       "      <td>ESP24819</td>\n",
       "      <td>VEG</td>\n",
       "      <td>VEGETATION</td>\n",
       "      <td>ESP01</td>\n",
       "      <td>Arbre</td>\n",
       "      <td>ESP151</td>\n",
       "      <td>Arbre de voirie</td>\n",
       "      <td>ESP1221</td>\n",
       "      <td>...</td>\n",
       "      <td>NaN</td>\n",
       "      <td>NaN</td>\n",
       "      <td>NaN</td>\n",
       "      <td>NaN</td>\n",
       "      <td>NaN</td>\n",
       "      <td>NaN</td>\n",
       "      <td>NaN</td>\n",
       "      <td>Grenoble Alpes Métropole</td>\n",
       "      <td>45.164967</td>\n",
       "      <td>5.711629</td>\n",
       "    </tr>\n",
       "    <tr>\n",
       "      <td>31951</td>\n",
       "      <td>15999</td>\n",
       "      <td>ESP23135</td>\n",
       "      <td>ESP23135</td>\n",
       "      <td>VEG</td>\n",
       "      <td>VEGETATION</td>\n",
       "      <td>ESP01</td>\n",
       "      <td>Arbre</td>\n",
       "      <td>ESP151</td>\n",
       "      <td>Arbre de voirie</td>\n",
       "      <td>ESP1221</td>\n",
       "      <td>...</td>\n",
       "      <td>NaN</td>\n",
       "      <td>NaN</td>\n",
       "      <td>NaN</td>\n",
       "      <td>NaN</td>\n",
       "      <td>NaN</td>\n",
       "      <td>NaN</td>\n",
       "      <td>NaN</td>\n",
       "      <td>Grenoble Alpes Métropole</td>\n",
       "      <td>45.164918</td>\n",
       "      <td>5.711940</td>\n",
       "    </tr>\n",
       "    <tr>\n",
       "      <td>31952</td>\n",
       "      <td>27070</td>\n",
       "      <td>ESP22552</td>\n",
       "      <td>ESP22552</td>\n",
       "      <td>VEG</td>\n",
       "      <td>VEGETATION</td>\n",
       "      <td>ESP01</td>\n",
       "      <td>Arbre</td>\n",
       "      <td>ESP151</td>\n",
       "      <td>Arbre de voirie</td>\n",
       "      <td>ESP1221</td>\n",
       "      <td>...</td>\n",
       "      <td>NaN</td>\n",
       "      <td>NaN</td>\n",
       "      <td>NaN</td>\n",
       "      <td>NaN</td>\n",
       "      <td>NaN</td>\n",
       "      <td>NaN</td>\n",
       "      <td>NaN</td>\n",
       "      <td>Grenoble Alpes Métropole</td>\n",
       "      <td>45.164867</td>\n",
       "      <td>5.711720</td>\n",
       "    </tr>\n",
       "  </tbody>\n",
       "</table>\n",
       "<p>31953 rows × 33 columns</p>\n",
       "</div>"
      ],
      "text/plain": [
       "       ELEM_POINT_ID      CODE       NOM GENRE  GENRE_DESC CATEGORIE  \\\n",
       "0              32215  ESP32919  ESP32919   VEG  VEGETATION     ESP01   \n",
       "1              32214  ESP32918  ESP32918   VEG  VEGETATION     ESP01   \n",
       "2              32213  ESP32917  ESP32917   VEG  VEGETATION     ESP01   \n",
       "3              32212  ESP32916  ESP32916   VEG  VEGETATION     ESP01   \n",
       "4              32211  ESP32915  ESP32915   VEG  VEGETATION     ESP01   \n",
       "...              ...       ...       ...   ...         ...       ...   \n",
       "31948          23339  ESP28693  ESP28693   VEG  VEGETATION     ESP01   \n",
       "31949            919  ESP26621  ESP26621   VEG  VEGETATION     ESP01   \n",
       "31950          19628  ESP24819  ESP24819   VEG  VEGETATION     ESP01   \n",
       "31951          15999  ESP23135  ESP23135   VEG  VEGETATION     ESP01   \n",
       "31952          27070  ESP22552  ESP22552   VEG  VEGETATION     ESP01   \n",
       "\n",
       "      CATEGORIE_DESC SOUS_CATEGORIE SOUS_CATEGORIE_DESC CODE_PARENT  ...  \\\n",
       "0              Arbre         ESP151     Arbre de voirie    ESP32840  ...   \n",
       "1              Arbre         ESP151     Arbre de voirie    ESP32840  ...   \n",
       "2              Arbre         ESP151     Arbre de voirie    ESP32840  ...   \n",
       "3              Arbre         ESP151     Arbre de voirie    ESP32840  ...   \n",
       "4              Arbre         ESP151     Arbre de voirie    ESP32840  ...   \n",
       "...              ...            ...                 ...         ...  ...   \n",
       "31948          Arbre         ESP151     Arbre de voirie     ESP1221  ...   \n",
       "31949          Arbre         ESP151     Arbre de voirie     ESP1221  ...   \n",
       "31950          Arbre         ESP151     Arbre de voirie     ESP1221  ...   \n",
       "31951          Arbre         ESP151     Arbre de voirie     ESP1221  ...   \n",
       "31952          Arbre         ESP151     Arbre de voirie     ESP1221  ...   \n",
       "\n",
       "      IDENTIFIANTPLU  TYPEIMPLANTATIONPLU INTITULEPROTECTIONPLU ANNEEABATTAGE  \\\n",
       "0                NaN                  NaN                   NaN           NaN   \n",
       "1                NaN                  NaN                   NaN           NaN   \n",
       "2                NaN                  NaN                   NaN           NaN   \n",
       "3                NaN                  NaN                   NaN           NaN   \n",
       "4                NaN                  NaN                   NaN           NaN   \n",
       "...              ...                  ...                   ...           ...   \n",
       "31948            NaN                  NaN                   NaN           NaN   \n",
       "31949            NaN                  NaN                   NaN           NaN   \n",
       "31950            NaN                  NaN                   NaN           NaN   \n",
       "31951            NaN                  NaN                   NaN           NaN   \n",
       "31952            NaN                  NaN                   NaN           NaN   \n",
       "\n",
       "      ESSOUCHEMENT DIAMETREARBRE CAUSEABATTAGE              COLLECTIVITE  \\\n",
       "0              NaN           NaN           NaN  Grenoble Alpes Métropole   \n",
       "1              NaN           NaN           NaN  Grenoble Alpes Métropole   \n",
       "2              NaN           NaN           NaN  Grenoble Alpes Métropole   \n",
       "3              NaN           NaN           NaN  Grenoble Alpes Métropole   \n",
       "4              NaN           NaN           NaN  Grenoble Alpes Métropole   \n",
       "...            ...           ...           ...                       ...   \n",
       "31948          NaN           NaN           NaN  Grenoble Alpes Métropole   \n",
       "31949          NaN           NaN           NaN  Grenoble Alpes Métropole   \n",
       "31950          NaN           NaN           NaN  Grenoble Alpes Métropole   \n",
       "31951          NaN           NaN           NaN  Grenoble Alpes Métropole   \n",
       "31952          NaN           NaN           NaN  Grenoble Alpes Métropole   \n",
       "\n",
       "       LONGITUDE  LATITUDE  \n",
       "0      45.190237  5.719919  \n",
       "1      45.190280  5.719994  \n",
       "2      45.190322  5.720006  \n",
       "3      45.190359  5.719959  \n",
       "4      45.190442  5.720047  \n",
       "...          ...       ...  \n",
       "31948  45.164950  5.711724  \n",
       "31949  45.164822  5.711983  \n",
       "31950  45.164967  5.711629  \n",
       "31951  45.164918  5.711940  \n",
       "31952  45.164867  5.711720  \n",
       "\n",
       "[31953 rows x 33 columns]"
      ]
     },
     "execution_count": 11,
     "metadata": {},
     "output_type": "execute_result"
    }
   ],
   "source": [
    "# define two new cols for the LONGITUDE and LATITUDE \n",
    "# and assign them the values contained in the variables longitude and latitude \n",
    "df.loc[:,\"LONGITUDE\"]=longitude\n",
    "df.loc[:,\"LATITUDE\"]=latitude\n",
    "df"
   ]
  },
  {
   "cell_type": "markdown",
   "metadata": {},
   "source": [
    "# Investigate data "
   ]
  },
  {
   "cell_type": "markdown",
   "metadata": {},
   "source": [
    "Run and explain the result of the following python cell in the space below\n"
   ]
  },
  {
   "cell_type": "code",
   "execution_count": 12,
   "metadata": {},
   "outputs": [
    {
     "data": {
      "text/html": [
       "<div>\n",
       "<style scoped>\n",
       "    .dataframe tbody tr th:only-of-type {\n",
       "        vertical-align: middle;\n",
       "    }\n",
       "\n",
       "    .dataframe tbody tr th {\n",
       "        vertical-align: top;\n",
       "    }\n",
       "\n",
       "    .dataframe thead th {\n",
       "        text-align: right;\n",
       "    }\n",
       "</style>\n",
       "<table border=\"1\" class=\"dataframe\">\n",
       "  <thead>\n",
       "    <tr style=\"text-align: right;\">\n",
       "      <th></th>\n",
       "      <th>ELEM_POINT_ID</th>\n",
       "      <th>CODE</th>\n",
       "      <th>NOM</th>\n",
       "      <th>GENRE</th>\n",
       "      <th>GENRE_DESC</th>\n",
       "      <th>CATEGORIE</th>\n",
       "      <th>CATEGORIE_DESC</th>\n",
       "      <th>SOUS_CATEGORIE</th>\n",
       "      <th>SOUS_CATEGORIE_DESC</th>\n",
       "      <th>CODE_PARENT</th>\n",
       "      <th>...</th>\n",
       "      <th>IDENTIFIANTPLU</th>\n",
       "      <th>TYPEIMPLANTATIONPLU</th>\n",
       "      <th>INTITULEPROTECTIONPLU</th>\n",
       "      <th>ANNEEABATTAGE</th>\n",
       "      <th>ESSOUCHEMENT</th>\n",
       "      <th>DIAMETREARBRE</th>\n",
       "      <th>CAUSEABATTAGE</th>\n",
       "      <th>COLLECTIVITE</th>\n",
       "      <th>LONGITUDE</th>\n",
       "      <th>LATITUDE</th>\n",
       "    </tr>\n",
       "  </thead>\n",
       "  <tbody>\n",
       "    <tr>\n",
       "      <td>0</td>\n",
       "      <td>32215</td>\n",
       "      <td>ESP32919</td>\n",
       "      <td>ESP32919</td>\n",
       "      <td>VEG</td>\n",
       "      <td>VEGETATION</td>\n",
       "      <td>ESP01</td>\n",
       "      <td>Arbre</td>\n",
       "      <td>ESP151</td>\n",
       "      <td>Arbre de voirie</td>\n",
       "      <td>ESP32840</td>\n",
       "      <td>...</td>\n",
       "      <td>NaN</td>\n",
       "      <td>NaN</td>\n",
       "      <td>NaN</td>\n",
       "      <td>NaN</td>\n",
       "      <td>NaN</td>\n",
       "      <td>NaN</td>\n",
       "      <td>NaN</td>\n",
       "      <td>Grenoble Alpes Métropole</td>\n",
       "      <td>45.190237</td>\n",
       "      <td>5.719919</td>\n",
       "    </tr>\n",
       "    <tr>\n",
       "      <td>1</td>\n",
       "      <td>32214</td>\n",
       "      <td>ESP32918</td>\n",
       "      <td>ESP32918</td>\n",
       "      <td>VEG</td>\n",
       "      <td>VEGETATION</td>\n",
       "      <td>ESP01</td>\n",
       "      <td>Arbre</td>\n",
       "      <td>ESP151</td>\n",
       "      <td>Arbre de voirie</td>\n",
       "      <td>ESP32840</td>\n",
       "      <td>...</td>\n",
       "      <td>NaN</td>\n",
       "      <td>NaN</td>\n",
       "      <td>NaN</td>\n",
       "      <td>NaN</td>\n",
       "      <td>NaN</td>\n",
       "      <td>NaN</td>\n",
       "      <td>NaN</td>\n",
       "      <td>Grenoble Alpes Métropole</td>\n",
       "      <td>45.190280</td>\n",
       "      <td>5.719994</td>\n",
       "    </tr>\n",
       "    <tr>\n",
       "      <td>2</td>\n",
       "      <td>32213</td>\n",
       "      <td>ESP32917</td>\n",
       "      <td>ESP32917</td>\n",
       "      <td>VEG</td>\n",
       "      <td>VEGETATION</td>\n",
       "      <td>ESP01</td>\n",
       "      <td>Arbre</td>\n",
       "      <td>ESP151</td>\n",
       "      <td>Arbre de voirie</td>\n",
       "      <td>ESP32840</td>\n",
       "      <td>...</td>\n",
       "      <td>NaN</td>\n",
       "      <td>NaN</td>\n",
       "      <td>NaN</td>\n",
       "      <td>NaN</td>\n",
       "      <td>NaN</td>\n",
       "      <td>NaN</td>\n",
       "      <td>NaN</td>\n",
       "      <td>Grenoble Alpes Métropole</td>\n",
       "      <td>45.190322</td>\n",
       "      <td>5.720006</td>\n",
       "    </tr>\n",
       "    <tr>\n",
       "      <td>3</td>\n",
       "      <td>32212</td>\n",
       "      <td>ESP32916</td>\n",
       "      <td>ESP32916</td>\n",
       "      <td>VEG</td>\n",
       "      <td>VEGETATION</td>\n",
       "      <td>ESP01</td>\n",
       "      <td>Arbre</td>\n",
       "      <td>ESP151</td>\n",
       "      <td>Arbre de voirie</td>\n",
       "      <td>ESP32840</td>\n",
       "      <td>...</td>\n",
       "      <td>NaN</td>\n",
       "      <td>NaN</td>\n",
       "      <td>NaN</td>\n",
       "      <td>NaN</td>\n",
       "      <td>NaN</td>\n",
       "      <td>NaN</td>\n",
       "      <td>NaN</td>\n",
       "      <td>Grenoble Alpes Métropole</td>\n",
       "      <td>45.190359</td>\n",
       "      <td>5.719959</td>\n",
       "    </tr>\n",
       "    <tr>\n",
       "      <td>4</td>\n",
       "      <td>32211</td>\n",
       "      <td>ESP32915</td>\n",
       "      <td>ESP32915</td>\n",
       "      <td>VEG</td>\n",
       "      <td>VEGETATION</td>\n",
       "      <td>ESP01</td>\n",
       "      <td>Arbre</td>\n",
       "      <td>ESP151</td>\n",
       "      <td>Arbre de voirie</td>\n",
       "      <td>ESP32840</td>\n",
       "      <td>...</td>\n",
       "      <td>NaN</td>\n",
       "      <td>NaN</td>\n",
       "      <td>NaN</td>\n",
       "      <td>NaN</td>\n",
       "      <td>NaN</td>\n",
       "      <td>NaN</td>\n",
       "      <td>NaN</td>\n",
       "      <td>Grenoble Alpes Métropole</td>\n",
       "      <td>45.190442</td>\n",
       "      <td>5.720047</td>\n",
       "    </tr>\n",
       "  </tbody>\n",
       "</table>\n",
       "<p>5 rows × 33 columns</p>\n",
       "</div>"
      ],
      "text/plain": [
       "   ELEM_POINT_ID      CODE       NOM GENRE  GENRE_DESC CATEGORIE  \\\n",
       "0          32215  ESP32919  ESP32919   VEG  VEGETATION     ESP01   \n",
       "1          32214  ESP32918  ESP32918   VEG  VEGETATION     ESP01   \n",
       "2          32213  ESP32917  ESP32917   VEG  VEGETATION     ESP01   \n",
       "3          32212  ESP32916  ESP32916   VEG  VEGETATION     ESP01   \n",
       "4          32211  ESP32915  ESP32915   VEG  VEGETATION     ESP01   \n",
       "\n",
       "  CATEGORIE_DESC SOUS_CATEGORIE SOUS_CATEGORIE_DESC CODE_PARENT  ...  \\\n",
       "0          Arbre         ESP151     Arbre de voirie    ESP32840  ...   \n",
       "1          Arbre         ESP151     Arbre de voirie    ESP32840  ...   \n",
       "2          Arbre         ESP151     Arbre de voirie    ESP32840  ...   \n",
       "3          Arbre         ESP151     Arbre de voirie    ESP32840  ...   \n",
       "4          Arbre         ESP151     Arbre de voirie    ESP32840  ...   \n",
       "\n",
       "  IDENTIFIANTPLU  TYPEIMPLANTATIONPLU INTITULEPROTECTIONPLU ANNEEABATTAGE  \\\n",
       "0            NaN                  NaN                   NaN           NaN   \n",
       "1            NaN                  NaN                   NaN           NaN   \n",
       "2            NaN                  NaN                   NaN           NaN   \n",
       "3            NaN                  NaN                   NaN           NaN   \n",
       "4            NaN                  NaN                   NaN           NaN   \n",
       "\n",
       "  ESSOUCHEMENT DIAMETREARBRE CAUSEABATTAGE              COLLECTIVITE  \\\n",
       "0          NaN           NaN           NaN  Grenoble Alpes Métropole   \n",
       "1          NaN           NaN           NaN  Grenoble Alpes Métropole   \n",
       "2          NaN           NaN           NaN  Grenoble Alpes Métropole   \n",
       "3          NaN           NaN           NaN  Grenoble Alpes Métropole   \n",
       "4          NaN           NaN           NaN  Grenoble Alpes Métropole   \n",
       "\n",
       "   LONGITUDE  LATITUDE  \n",
       "0  45.190237  5.719919  \n",
       "1  45.190280  5.719994  \n",
       "2  45.190322  5.720006  \n",
       "3  45.190359  5.719959  \n",
       "4  45.190442  5.720047  \n",
       "\n",
       "[5 rows x 33 columns]"
      ]
     },
     "execution_count": 12,
     "metadata": {},
     "output_type": "execute_result"
    }
   ],
   "source": [
    "df.head()"
   ]
  },
  {
   "cell_type": "markdown",
   "metadata": {},
   "source": [
    "*here*\n",
    "It's strange, a question above asked me to show 5 firsts elements."
   ]
  },
  {
   "cell_type": "markdown",
   "metadata": {},
   "source": [
    "Run and explain the result of the following python cell in the space below\n"
   ]
  },
  {
   "cell_type": "code",
   "execution_count": 13,
   "metadata": {},
   "outputs": [
    {
     "data": {
      "text/plain": [
       "(31953, 33)"
      ]
     },
     "execution_count": 13,
     "metadata": {},
     "output_type": "execute_result"
    }
   ],
   "source": [
    "df.shape"
   ]
  },
  {
   "cell_type": "markdown",
   "metadata": {},
   "source": [
    "*here*\n",
    "size of matrix"
   ]
  },
  {
   "cell_type": "code",
   "execution_count": 14,
   "metadata": {},
   "outputs": [
    {
     "data": {
      "text/plain": [
       "ELEM_POINT_ID                0\n",
       "CODE                         0\n",
       "NOM                          0\n",
       "GENRE                        0\n",
       "GENRE_DESC                   0\n",
       "CATEGORIE                    0\n",
       "CATEGORIE_DESC               0\n",
       "SOUS_CATEGORIE               0\n",
       "SOUS_CATEGORIE_DESC          0\n",
       "CODE_PARENT                  0\n",
       "CODE_PARENT_DESC             0\n",
       "ADR_SECTEUR                  0\n",
       "BIEN_REFERENCE               0\n",
       "GENRE_BOTA                 229\n",
       "ESPECE                    2024\n",
       "VARIETE                  27738\n",
       "STADEDEDEVELOPPEMENT      2175\n",
       "EQUIPE                   31953\n",
       "REMARQUES                30427\n",
       "ANNEEDEPLANTATION          553\n",
       "RAISONDEPLANTATION       29204\n",
       "TRAITEMENTCHENILLES      29663\n",
       "COURRIER                 31953\n",
       "IDENTIFIANTPLU           31347\n",
       "TYPEIMPLANTATIONPLU      31347\n",
       "INTITULEPROTECTIONPLU    31347\n",
       "ANNEEABATTAGE            31953\n",
       "ESSOUCHEMENT             31953\n",
       "DIAMETREARBRE            31953\n",
       "CAUSEABATTAGE            31953\n",
       "COLLECTIVITE               185\n",
       "LONGITUDE                    0\n",
       "LATITUDE                     0\n",
       "dtype: int64"
      ]
     },
     "execution_count": 14,
     "metadata": {},
     "output_type": "execute_result"
    }
   ],
   "source": [
    "df.isnull().sum()"
   ]
  },
  {
   "cell_type": "markdown",
   "metadata": {},
   "source": [
    "Run and explain the results of the following python cells in the space below\n"
   ]
  },
  {
   "cell_type": "code",
   "execution_count": 15,
   "metadata": {},
   "outputs": [
    {
     "data": {
      "text/plain": [
       "0        12\n",
       "1        13\n",
       "2        12\n",
       "3        12\n",
       "4        13\n",
       "         ..\n",
       "31948    13\n",
       "31949    13\n",
       "31950    13\n",
       "31951    13\n",
       "31952    13\n",
       "Length: 31953, dtype: int64"
      ]
     },
     "execution_count": 15,
     "metadata": {},
     "output_type": "execute_result"
    }
   ],
   "source": [
    "df.isnull().sum()\n",
    "df.isnull().sum(axis=1)"
   ]
  },
  {
   "cell_type": "markdown",
   "metadata": {},
   "source": [
    "*here* it adds up each occurence of null values. It proceed as a conditional count\n",
    "first is on columns, second on rows"
   ]
  },
  {
   "cell_type": "markdown",
   "metadata": {},
   "source": [
    "Run and explain the results of the following python cell in the space below\n"
   ]
  },
  {
   "cell_type": "code",
   "execution_count": 16,
   "metadata": {},
   "outputs": [
    {
     "data": {
      "text/plain": [
       "ELEM_POINT_ID            31953\n",
       "CODE                     31953\n",
       "NOM                      31953\n",
       "GENRE                    31953\n",
       "GENRE_DESC               31953\n",
       "CATEGORIE                31953\n",
       "CATEGORIE_DESC           31953\n",
       "SOUS_CATEGORIE           31953\n",
       "SOUS_CATEGORIE_DESC      31953\n",
       "CODE_PARENT              31953\n",
       "CODE_PARENT_DESC         31953\n",
       "ADR_SECTEUR              31953\n",
       "BIEN_REFERENCE           31953\n",
       "GENRE_BOTA               31724\n",
       "ESPECE                   29929\n",
       "VARIETE                   4215\n",
       "STADEDEDEVELOPPEMENT     29778\n",
       "EQUIPE                       0\n",
       "REMARQUES                 1526\n",
       "ANNEEDEPLANTATION        31400\n",
       "RAISONDEPLANTATION        2749\n",
       "TRAITEMENTCHENILLES       2290\n",
       "COURRIER                     0\n",
       "IDENTIFIANTPLU             606\n",
       "TYPEIMPLANTATIONPLU        606\n",
       "INTITULEPROTECTIONPLU      606\n",
       "ANNEEABATTAGE                0\n",
       "ESSOUCHEMENT                 0\n",
       "DIAMETREARBRE                0\n",
       "CAUSEABATTAGE                0\n",
       "COLLECTIVITE             31768\n",
       "LONGITUDE                31953\n",
       "LATITUDE                 31953\n",
       "dtype: int64"
      ]
     },
     "execution_count": 16,
     "metadata": {},
     "output_type": "execute_result"
    }
   ],
   "source": [
    "df.count()"
   ]
  },
  {
   "cell_type": "code",
   "execution_count": 17,
   "metadata": {},
   "outputs": [
    {
     "data": {
      "text/plain": [
       "ELEM_POINT_ID            True\n",
       "CODE                     True\n",
       "NOM                      True\n",
       "GENRE                    True\n",
       "GENRE_DESC               True\n",
       "CATEGORIE                True\n",
       "CATEGORIE_DESC           True\n",
       "SOUS_CATEGORIE           True\n",
       "SOUS_CATEGORIE_DESC      True\n",
       "CODE_PARENT              True\n",
       "CODE_PARENT_DESC         True\n",
       "ADR_SECTEUR              True\n",
       "BIEN_REFERENCE           True\n",
       "GENRE_BOTA               True\n",
       "ESPECE                   True\n",
       "VARIETE                  True\n",
       "STADEDEDEVELOPPEMENT     True\n",
       "EQUIPE                   True\n",
       "REMARQUES                True\n",
       "ANNEEDEPLANTATION        True\n",
       "RAISONDEPLANTATION       True\n",
       "TRAITEMENTCHENILLES      True\n",
       "COURRIER                 True\n",
       "IDENTIFIANTPLU           True\n",
       "TYPEIMPLANTATIONPLU      True\n",
       "INTITULEPROTECTIONPLU    True\n",
       "ANNEEABATTAGE            True\n",
       "ESSOUCHEMENT             True\n",
       "DIAMETREARBRE            True\n",
       "CAUSEABATTAGE            True\n",
       "COLLECTIVITE             True\n",
       "LONGITUDE                True\n",
       "LATITUDE                 True\n",
       "dtype: bool"
      ]
     },
     "execution_count": 17,
     "metadata": {},
     "output_type": "execute_result"
    }
   ],
   "source": [
    "df.isnull().sum()+df.count()==[31953 for i in range(len(df.columns))]"
   ]
  },
  {
   "cell_type": "markdown",
   "metadata": {},
   "source": [
    "*here* It count not null values, see above"
   ]
  },
  {
   "cell_type": "markdown",
   "metadata": {},
   "source": [
    "Run and explain the result of the following python cell in the space below\n"
   ]
  },
  {
   "cell_type": "code",
   "execution_count": 18,
   "metadata": {},
   "outputs": [
    {
     "data": {
      "text/plain": [
       "ELEM_POINT_ID              int64\n",
       "CODE                      object\n",
       "NOM                       object\n",
       "GENRE                     object\n",
       "GENRE_DESC                object\n",
       "CATEGORIE                 object\n",
       "CATEGORIE_DESC            object\n",
       "SOUS_CATEGORIE            object\n",
       "SOUS_CATEGORIE_DESC       object\n",
       "CODE_PARENT               object\n",
       "CODE_PARENT_DESC          object\n",
       "ADR_SECTEUR                int64\n",
       "BIEN_REFERENCE            object\n",
       "GENRE_BOTA                object\n",
       "ESPECE                    object\n",
       "VARIETE                   object\n",
       "STADEDEDEVELOPPEMENT      object\n",
       "EQUIPE                   float64\n",
       "REMARQUES                 object\n",
       "ANNEEDEPLANTATION        float64\n",
       "RAISONDEPLANTATION        object\n",
       "TRAITEMENTCHENILLES       object\n",
       "COURRIER                 float64\n",
       "IDENTIFIANTPLU           float64\n",
       "TYPEIMPLANTATIONPLU       object\n",
       "INTITULEPROTECTIONPLU     object\n",
       "ANNEEABATTAGE            float64\n",
       "ESSOUCHEMENT             float64\n",
       "DIAMETREARBRE            float64\n",
       "CAUSEABATTAGE            float64\n",
       "COLLECTIVITE              object\n",
       "LONGITUDE                float64\n",
       "LATITUDE                 float64\n",
       "dtype: object"
      ]
     },
     "execution_count": 18,
     "metadata": {},
     "output_type": "execute_result"
    }
   ],
   "source": [
    "df.dtypes"
   ]
  },
  {
   "cell_type": "markdown",
   "metadata": {},
   "source": [
    "*here* it shows types"
   ]
  },
  {
   "cell_type": "markdown",
   "metadata": {},
   "source": [
    "Run and explain the result of the following python cell in the space below\n"
   ]
  },
  {
   "cell_type": "code",
   "execution_count": 19,
   "metadata": {},
   "outputs": [
    {
     "data": {
      "text/plain": [
       "Ville de Grenoble           16222\n",
       "Grenoble Alpes Métropole    15546\n",
       "Name: COLLECTIVITE, dtype: int64"
      ]
     },
     "execution_count": 19,
     "metadata": {},
     "output_type": "execute_result"
    }
   ],
   "source": [
    "df.COLLECTIVITE.value_counts()"
   ]
  },
  {
   "cell_type": "code",
   "execution_count": null,
   "metadata": {},
   "outputs": [],
   "source": []
  },
  {
   "cell_type": "markdown",
   "metadata": {},
   "source": [
    "*here* it counts the number of occurences of each values"
   ]
  },
  {
   "cell_type": "markdown",
   "metadata": {},
   "source": [
    "## Quick plots\n",
    "\n",
    "Use seaborn scatter to plot the data using *LONGITUDE* and *LATITUDE* as `x` and `y` axis and three features of your choice as `hue` parameter."
   ]
  },
  {
   "cell_type": "code",
   "execution_count": 20,
   "metadata": {},
   "outputs": [
    {
     "data": {
      "text/plain": [
       "ELEM_POINT_ID            31953\n",
       "CODE                     31953\n",
       "NOM                      31953\n",
       "GENRE                        1\n",
       "GENRE_DESC                   1\n",
       "CATEGORIE                    1\n",
       "CATEGORIE_DESC               1\n",
       "SOUS_CATEGORIE               4\n",
       "SOUS_CATEGORIE_DESC          4\n",
       "CODE_PARENT               1458\n",
       "CODE_PARENT_DESC          1458\n",
       "ADR_SECTEUR                  6\n",
       "BIEN_REFERENCE           31953\n",
       "GENRE_BOTA                 119\n",
       "ESPECE                     275\n",
       "VARIETE                    183\n",
       "STADEDEDEVELOPPEMENT         3\n",
       "EQUIPE                       0\n",
       "REMARQUES                   10\n",
       "ANNEEDEPLANTATION           62\n",
       "RAISONDEPLANTATION           3\n",
       "TRAITEMENTCHENILLES          3\n",
       "COURRIER                     0\n",
       "IDENTIFIANTPLU              46\n",
       "TYPEIMPLANTATIONPLU          4\n",
       "INTITULEPROTECTIONPLU        3\n",
       "ANNEEABATTAGE                0\n",
       "ESSOUCHEMENT                 0\n",
       "DIAMETREARBRE                0\n",
       "CAUSEABATTAGE                0\n",
       "COLLECTIVITE                 2\n",
       "LONGITUDE                31952\n",
       "LATITUDE                 31952\n",
       "dtype: int64"
      ]
     },
     "execution_count": 20,
     "metadata": {},
     "output_type": "execute_result"
    }
   ],
   "source": [
    "#we need to see how many different category their is for each columns in order to group them on \n",
    "#the graph\n",
    "\n",
    "df.nunique()"
   ]
  },
  {
   "cell_type": "code",
   "execution_count": 21,
   "metadata": {},
   "outputs": [
    {
     "data": {
      "text/plain": [
       "<matplotlib.axes._subplots.AxesSubplot at 0x257d3ddb248>"
      ]
     },
     "execution_count": 21,
     "metadata": {},
     "output_type": "execute_result"
    },
    {
     "data": {
      "image/png": "[encoded data removed]",
      "text/plain": [
       "<Figure size 432x288 with 1 Axes>"
      ]
     },
     "metadata": {
      "needs_background": "light"
     },
     "output_type": "display_data"
    }
   ],
   "source": [
    "# code for plotting the first feature here\n",
    "sns.scatterplot(df.LONGITUDE,df.LATITUDE,hue=df.SOUS_CATEGORIE )"
   ]
  },
  {
   "cell_type": "code",
   "execution_count": 22,
   "metadata": {},
   "outputs": [
    {
     "data": {
      "text/plain": [
       "<matplotlib.axes._subplots.AxesSubplot at 0x257d863e388>"
      ]
     },
     "execution_count": 22,
     "metadata": {},
     "output_type": "execute_result"
    },
    {
     "data": {
      "image/png": "[encoded data removed]",
      "text/plain": [
       "<Figure size 432x288 with 1 Axes>"
      ]
     },
     "metadata": {
      "needs_background": "light"
     },
     "output_type": "display_data"
    }
   ],
   "source": [
    "# code for plotting the second feature here\n",
    "sns.scatterplot(df.LONGITUDE,df.LATITUDE,hue=df.REMARQUES)\n",
    "# need to use matplotlib in order to \n",
    "# handle the legend\n"
   ]
  },
  {
   "cell_type": "code",
   "execution_count": 23,
   "metadata": {},
   "outputs": [
    {
     "data": {
      "text/plain": [
       "<matplotlib.axes._subplots.AxesSubplot at 0x257d8777308>"
      ]
     },
     "execution_count": 23,
     "metadata": {},
     "output_type": "execute_result"
    },
    {
     "data": {
      "image/png": "[encoded data removed]",
      "text/plain": [
       "<Figure size 432x288 with 1 Axes>"
      ]
     },
     "metadata": {
      "needs_background": "light"
     },
     "output_type": "display_data"
    }
   ],
   "source": [
    "# code for plotting the third feature here\n",
    "sns.scatterplot(df.LONGITUDE,df.LATITUDE,hue=df.ADR_SECTEUR )"
   ]
  },
  {
   "cell_type": "markdown",
   "metadata": {},
   "source": [
    "# Remove non- useful columns"
   ]
  },
  {
   "cell_type": "markdown",
   "metadata": {},
   "source": [
    "Display the total number of lines in the dataframe"
   ]
  },
  {
   "cell_type": "code",
   "execution_count": 24,
   "metadata": {},
   "outputs": [
    {
     "data": {
      "text/plain": [
       "ELEM_POINT_ID             True\n",
       "CODE                      True\n",
       "NOM                       True\n",
       "GENRE                     True\n",
       "GENRE_DESC                True\n",
       "CATEGORIE                 True\n",
       "CATEGORIE_DESC            True\n",
       "SOUS_CATEGORIE            True\n",
       "SOUS_CATEGORIE_DESC       True\n",
       "CODE_PARENT               True\n",
       "CODE_PARENT_DESC          True\n",
       "ADR_SECTEUR               True\n",
       "BIEN_REFERENCE            True\n",
       "GENRE_BOTA               False\n",
       "ESPECE                   False\n",
       "VARIETE                  False\n",
       "STADEDEDEVELOPPEMENT     False\n",
       "EQUIPE                   False\n",
       "REMARQUES                False\n",
       "ANNEEDEPLANTATION        False\n",
       "RAISONDEPLANTATION       False\n",
       "TRAITEMENTCHENILLES      False\n",
       "COURRIER                 False\n",
       "IDENTIFIANTPLU           False\n",
       "TYPEIMPLANTATIONPLU      False\n",
       "INTITULEPROTECTIONPLU    False\n",
       "ANNEEABATTAGE            False\n",
       "ESSOUCHEMENT             False\n",
       "DIAMETREARBRE            False\n",
       "CAUSEABATTAGE            False\n",
       "COLLECTIVITE             False\n",
       "LONGITUDE                 True\n",
       "LATITUDE                  True\n",
       "dtype: bool"
      ]
     },
     "execution_count": 24,
     "metadata": {},
     "output_type": "execute_result"
    }
   ],
   "source": [
    "# code here\n",
    "df.shape[0]\n",
    "df.count()==df.shape[0]"
   ]
  },
  {
   "cell_type": "markdown",
   "metadata": {},
   "source": [
    "Display the columns names for columns with all missing values\n",
    "\n",
    "*(please do it in one line...)*"
   ]
  },
  {
   "cell_type": "code",
   "execution_count": 25,
   "metadata": {},
   "outputs": [
    {
     "data": {
      "text/plain": [
       "Index(['GENRE_BOTA', 'ESPECE', 'VARIETE', 'STADEDEDEVELOPPEMENT', 'EQUIPE',\n",
       "       'REMARQUES', 'ANNEEDEPLANTATION', 'RAISONDEPLANTATION',\n",
       "       'TRAITEMENTCHENILLES', 'COURRIER', 'IDENTIFIANTPLU',\n",
       "       'TYPEIMPLANTATIONPLU', 'INTITULEPROTECTIONPLU', 'ANNEEABATTAGE',\n",
       "       'ESSOUCHEMENT', 'DIAMETREARBRE', 'CAUSEABATTAGE', 'COLLECTIVITE'],\n",
       "      dtype='object')"
      ]
     },
     "execution_count": 25,
     "metadata": {},
     "output_type": "execute_result"
    }
   ],
   "source": [
    "# the line of code here\n",
    "df.count().loc[df.count()!=df.shape[0]].index"
   ]
  },
  {
   "cell_type": "markdown",
   "metadata": {},
   "source": [
    "Display the columns names for columns where there are no missing values\n",
    "\n",
    "*(please do it in one line...)*"
   ]
  },
  {
   "cell_type": "code",
   "execution_count": 46,
   "metadata": {},
   "outputs": [
    {
     "data": {
      "text/plain": [
       "Index(['ELEM_POINT_ID', 'CODE', 'NOM', 'GENRE', 'GENRE_DESC', 'CATEGORIE',\n",
       "       'CATEGORIE_DESC', 'SOUS_CATEGORIE', 'SOUS_CATEGORIE_DESC',\n",
       "       'CODE_PARENT', 'CODE_PARENT_DESC', 'ADR_SECTEUR', 'BIEN_REFERENCE',\n",
       "       'LONGITUDE', 'LATITUDE'],\n",
       "      dtype='object')"
      ]
     },
     "execution_count": 46,
     "metadata": {},
     "output_type": "execute_result"
    }
   ],
   "source": [
    "# the line of code here\n",
    "df.count()[df.count()==df.shape[0]].index"
   ]
  },
  {
   "cell_type": "markdown",
   "metadata": {},
   "source": [
    "How many distinct values are there for the column GENRE_BOTA?\n",
    "\n",
    "*(please do it in one line...)*"
   ]
  },
  {
   "cell_type": "code",
   "execution_count": 27,
   "metadata": {},
   "outputs": [
    {
     "data": {
      "text/plain": [
       "119"
      ]
     },
     "execution_count": 27,
     "metadata": {},
     "output_type": "execute_result"
    }
   ],
   "source": [
    "# code here\n",
    "df.GENRE_BOTA.nunique()"
   ]
  },
  {
   "cell_type": "markdown",
   "metadata": {},
   "source": [
    "Where are the missing values?\n",
    "\n",
    "['GENRE_BOTA', 'ESPECE', 'VARIETE', 'STADEDEDEVELOPPEMENT', 'EQUIPE',\n",
    "       'REMARQUES', 'ANNEEDEPLANTATION', 'RAISONDEPLANTATION',\n",
    "       'TRAITEMENTCHENILLES', 'COURRIER', 'IDENTIFIANTPLU',\n",
    "       'TYPEIMPLANTATIONPLU', 'INTITULEPROTECTIONPLU', 'ANNEEABATTAGE',\n",
    "       'ESSOUCHEMENT', 'DIAMETREARBRE', 'CAUSEABATTAGE', 'COLLECTIVITE']\n",
    "\n",
    "Use the seaborn heatmap plot for displaying all missing values"
   ]
  },
  {
   "cell_type": "code",
   "execution_count": 28,
   "metadata": {},
   "outputs": [
    {
     "data": {
      "text/plain": [
       "<matplotlib.axes._subplots.AxesSubplot at 0x257d87f5f48>"
      ]
     },
     "execution_count": 28,
     "metadata": {},
     "output_type": "execute_result"
    },
    {
     "data": {
      "image/png": "[encoded data removed]",
      "text/plain": [
       "<Figure size 432x288 with 2 Axes>"
      ]
     },
     "metadata": {
      "needs_background": "light"
     },
     "output_type": "display_data"
    }
   ],
   "source": [
    "# code here\n",
    "data=df.isnull()\n",
    "sns.heatmap(data)"
   ]
  },
  {
   "cell_type": "code",
   "execution_count": 29,
   "metadata": {},
   "outputs": [],
   "source": [
    "import missingno as msno"
   ]
  },
  {
   "cell_type": "markdown",
   "metadata": {},
   "source": [
    "Use the `matrix` and `heatmap` functions of the `missingno` library for displaying a heatmap, a missing values matrix and a dendrogram."
   ]
  },
  {
   "cell_type": "code",
   "execution_count": 30,
   "metadata": {},
   "outputs": [
    {
     "data": {
      "text/plain": [
       "<matplotlib.axes._subplots.AxesSubplot at 0x257d9e5b388>"
      ]
     },
     "execution_count": 30,
     "metadata": {},
     "output_type": "execute_result"
    },
    {
     "data": {
      "image/png": "[encoded data removed]",
      "text/plain": [
       "<Figure size 1800x720 with 2 Axes>"
      ]
     },
     "metadata": {
      "needs_background": "light"
     },
     "output_type": "display_data"
    }
   ],
   "source": [
    "# code for displaying the matrix\n",
    "msno.matrix(df)"
   ]
  },
  {
   "cell_type": "code",
   "execution_count": 31,
   "metadata": {},
   "outputs": [
    {
     "data": {
      "text/plain": [
       "<matplotlib.axes._subplots.AxesSubplot at 0x257d9f5df48>"
      ]
     },
     "execution_count": 31,
     "metadata": {},
     "output_type": "execute_result"
    },
    {
     "data": {
      "image/png": "[encoded data removed]",
      "text/plain": [
       "<Figure size 1440x864 with 2 Axes>"
      ]
     },
     "metadata": {
      "needs_background": "light"
     },
     "output_type": "display_data"
    }
   ],
   "source": [
    "# code for displaying the heatmap\n",
    "msno.heatmap(df)"
   ]
  },
  {
   "cell_type": "code",
   "execution_count": 32,
   "metadata": {},
   "outputs": [
    {
     "data": {
      "text/plain": [
       "<matplotlib.axes._subplots.AxesSubplot at 0x257d8897a88>"
      ]
     },
     "execution_count": 32,
     "metadata": {},
     "output_type": "execute_result"
    },
    {
     "data": {
      "image/png": "[encoded data removed]",
      "text/plain": [
       "<Figure size 1800x720 with 1 Axes>"
      ]
     },
     "metadata": {
      "needs_background": "light"
     },
     "output_type": "display_data"
    }
   ],
   "source": [
    "# code for displaying the dendrogram\n",
    "msno.dendrogram(df)"
   ]
  },
  {
   "cell_type": "markdown",
   "metadata": {},
   "source": [
    "Remove missing dates (in the column `ANNEDEPLANTATION`) and store the remaining dataframe in a variable named `clean`"
   ]
  },
  {
   "cell_type": "code",
   "execution_count": 33,
   "metadata": {},
   "outputs": [
    {
     "data": {
      "text/html": [
       "<div>\n",
       "<style scoped>\n",
       "    .dataframe tbody tr th:only-of-type {\n",
       "        vertical-align: middle;\n",
       "    }\n",
       "\n",
       "    .dataframe tbody tr th {\n",
       "        vertical-align: top;\n",
       "    }\n",
       "\n",
       "    .dataframe thead th {\n",
       "        text-align: right;\n",
       "    }\n",
       "</style>\n",
       "<table border=\"1\" class=\"dataframe\">\n",
       "  <thead>\n",
       "    <tr style=\"text-align: right;\">\n",
       "      <th></th>\n",
       "      <th>ELEM_POINT_ID</th>\n",
       "      <th>CODE</th>\n",
       "      <th>NOM</th>\n",
       "      <th>GENRE</th>\n",
       "      <th>GENRE_DESC</th>\n",
       "      <th>CATEGORIE</th>\n",
       "      <th>CATEGORIE_DESC</th>\n",
       "      <th>SOUS_CATEGORIE</th>\n",
       "      <th>SOUS_CATEGORIE_DESC</th>\n",
       "      <th>CODE_PARENT</th>\n",
       "      <th>...</th>\n",
       "      <th>IDENTIFIANTPLU</th>\n",
       "      <th>TYPEIMPLANTATIONPLU</th>\n",
       "      <th>INTITULEPROTECTIONPLU</th>\n",
       "      <th>ANNEEABATTAGE</th>\n",
       "      <th>ESSOUCHEMENT</th>\n",
       "      <th>DIAMETREARBRE</th>\n",
       "      <th>CAUSEABATTAGE</th>\n",
       "      <th>COLLECTIVITE</th>\n",
       "      <th>LONGITUDE</th>\n",
       "      <th>LATITUDE</th>\n",
       "    </tr>\n",
       "  </thead>\n",
       "  <tbody>\n",
       "    <tr>\n",
       "      <td>0</td>\n",
       "      <td>32215</td>\n",
       "      <td>ESP32919</td>\n",
       "      <td>ESP32919</td>\n",
       "      <td>VEG</td>\n",
       "      <td>VEGETATION</td>\n",
       "      <td>ESP01</td>\n",
       "      <td>Arbre</td>\n",
       "      <td>ESP151</td>\n",
       "      <td>Arbre de voirie</td>\n",
       "      <td>ESP32840</td>\n",
       "      <td>...</td>\n",
       "      <td>NaN</td>\n",
       "      <td>NaN</td>\n",
       "      <td>NaN</td>\n",
       "      <td>NaN</td>\n",
       "      <td>NaN</td>\n",
       "      <td>NaN</td>\n",
       "      <td>NaN</td>\n",
       "      <td>Grenoble Alpes Métropole</td>\n",
       "      <td>45.190237</td>\n",
       "      <td>5.719919</td>\n",
       "    </tr>\n",
       "    <tr>\n",
       "      <td>1</td>\n",
       "      <td>32214</td>\n",
       "      <td>ESP32918</td>\n",
       "      <td>ESP32918</td>\n",
       "      <td>VEG</td>\n",
       "      <td>VEGETATION</td>\n",
       "      <td>ESP01</td>\n",
       "      <td>Arbre</td>\n",
       "      <td>ESP151</td>\n",
       "      <td>Arbre de voirie</td>\n",
       "      <td>ESP32840</td>\n",
       "      <td>...</td>\n",
       "      <td>NaN</td>\n",
       "      <td>NaN</td>\n",
       "      <td>NaN</td>\n",
       "      <td>NaN</td>\n",
       "      <td>NaN</td>\n",
       "      <td>NaN</td>\n",
       "      <td>NaN</td>\n",
       "      <td>Grenoble Alpes Métropole</td>\n",
       "      <td>45.190280</td>\n",
       "      <td>5.719994</td>\n",
       "    </tr>\n",
       "    <tr>\n",
       "      <td>2</td>\n",
       "      <td>32213</td>\n",
       "      <td>ESP32917</td>\n",
       "      <td>ESP32917</td>\n",
       "      <td>VEG</td>\n",
       "      <td>VEGETATION</td>\n",
       "      <td>ESP01</td>\n",
       "      <td>Arbre</td>\n",
       "      <td>ESP151</td>\n",
       "      <td>Arbre de voirie</td>\n",
       "      <td>ESP32840</td>\n",
       "      <td>...</td>\n",
       "      <td>NaN</td>\n",
       "      <td>NaN</td>\n",
       "      <td>NaN</td>\n",
       "      <td>NaN</td>\n",
       "      <td>NaN</td>\n",
       "      <td>NaN</td>\n",
       "      <td>NaN</td>\n",
       "      <td>Grenoble Alpes Métropole</td>\n",
       "      <td>45.190322</td>\n",
       "      <td>5.720006</td>\n",
       "    </tr>\n",
       "    <tr>\n",
       "      <td>3</td>\n",
       "      <td>32212</td>\n",
       "      <td>ESP32916</td>\n",
       "      <td>ESP32916</td>\n",
       "      <td>VEG</td>\n",
       "      <td>VEGETATION</td>\n",
       "      <td>ESP01</td>\n",
       "      <td>Arbre</td>\n",
       "      <td>ESP151</td>\n",
       "      <td>Arbre de voirie</td>\n",
       "      <td>ESP32840</td>\n",
       "      <td>...</td>\n",
       "      <td>NaN</td>\n",
       "      <td>NaN</td>\n",
       "      <td>NaN</td>\n",
       "      <td>NaN</td>\n",
       "      <td>NaN</td>\n",
       "      <td>NaN</td>\n",
       "      <td>NaN</td>\n",
       "      <td>Grenoble Alpes Métropole</td>\n",
       "      <td>45.190359</td>\n",
       "      <td>5.719959</td>\n",
       "    </tr>\n",
       "    <tr>\n",
       "      <td>4</td>\n",
       "      <td>32211</td>\n",
       "      <td>ESP32915</td>\n",
       "      <td>ESP32915</td>\n",
       "      <td>VEG</td>\n",
       "      <td>VEGETATION</td>\n",
       "      <td>ESP01</td>\n",
       "      <td>Arbre</td>\n",
       "      <td>ESP151</td>\n",
       "      <td>Arbre de voirie</td>\n",
       "      <td>ESP32840</td>\n",
       "      <td>...</td>\n",
       "      <td>NaN</td>\n",
       "      <td>NaN</td>\n",
       "      <td>NaN</td>\n",
       "      <td>NaN</td>\n",
       "      <td>NaN</td>\n",
       "      <td>NaN</td>\n",
       "      <td>NaN</td>\n",
       "      <td>Grenoble Alpes Métropole</td>\n",
       "      <td>45.190442</td>\n",
       "      <td>5.720047</td>\n",
       "    </tr>\n",
       "  </tbody>\n",
       "</table>\n",
       "<p>5 rows × 33 columns</p>\n",
       "</div>"
      ],
      "text/plain": [
       "   ELEM_POINT_ID      CODE       NOM GENRE  GENRE_DESC CATEGORIE  \\\n",
       "0          32215  ESP32919  ESP32919   VEG  VEGETATION     ESP01   \n",
       "1          32214  ESP32918  ESP32918   VEG  VEGETATION     ESP01   \n",
       "2          32213  ESP32917  ESP32917   VEG  VEGETATION     ESP01   \n",
       "3          32212  ESP32916  ESP32916   VEG  VEGETATION     ESP01   \n",
       "4          32211  ESP32915  ESP32915   VEG  VEGETATION     ESP01   \n",
       "\n",
       "  CATEGORIE_DESC SOUS_CATEGORIE SOUS_CATEGORIE_DESC CODE_PARENT  ...  \\\n",
       "0          Arbre         ESP151     Arbre de voirie    ESP32840  ...   \n",
       "1          Arbre         ESP151     Arbre de voirie    ESP32840  ...   \n",
       "2          Arbre         ESP151     Arbre de voirie    ESP32840  ...   \n",
       "3          Arbre         ESP151     Arbre de voirie    ESP32840  ...   \n",
       "4          Arbre         ESP151     Arbre de voirie    ESP32840  ...   \n",
       "\n",
       "  IDENTIFIANTPLU  TYPEIMPLANTATIONPLU INTITULEPROTECTIONPLU ANNEEABATTAGE  \\\n",
       "0            NaN                  NaN                   NaN           NaN   \n",
       "1            NaN                  NaN                   NaN           NaN   \n",
       "2            NaN                  NaN                   NaN           NaN   \n",
       "3            NaN                  NaN                   NaN           NaN   \n",
       "4            NaN                  NaN                   NaN           NaN   \n",
       "\n",
       "  ESSOUCHEMENT DIAMETREARBRE CAUSEABATTAGE              COLLECTIVITE  \\\n",
       "0          NaN           NaN           NaN  Grenoble Alpes Métropole   \n",
       "1          NaN           NaN           NaN  Grenoble Alpes Métropole   \n",
       "2          NaN           NaN           NaN  Grenoble Alpes Métropole   \n",
       "3          NaN           NaN           NaN  Grenoble Alpes Métropole   \n",
       "4          NaN           NaN           NaN  Grenoble Alpes Métropole   \n",
       "\n",
       "   LONGITUDE  LATITUDE  \n",
       "0  45.190237  5.719919  \n",
       "1  45.190280  5.719994  \n",
       "2  45.190322  5.720006  \n",
       "3  45.190359  5.719959  \n",
       "4  45.190442  5.720047  \n",
       "\n",
       "[5 rows x 33 columns]"
      ]
     },
     "execution_count": 33,
     "metadata": {},
     "output_type": "execute_result"
    }
   ],
   "source": [
    "# code here\n",
    "clean=df.loc[df.ANNEEDEPLANTATION.isnull()!=True]\n",
    "#clean.head()\n",
    "clean.head()"
   ]
  },
  {
   "cell_type": "code",
   "execution_count": null,
   "metadata": {},
   "outputs": [],
   "source": []
  },
  {
   "cell_type": "markdown",
   "metadata": {},
   "source": [
    "Inspect the shape of the cleaned dataframe"
   ]
  },
  {
   "cell_type": "code",
   "execution_count": 34,
   "metadata": {},
   "outputs": [
    {
     "data": {
      "text/plain": [
       "(31400, 33)"
      ]
     },
     "execution_count": 34,
     "metadata": {},
     "output_type": "execute_result"
    }
   ],
   "source": [
    "# code here\n",
    "clean.shape"
   ]
  },
  {
   "cell_type": "markdown",
   "metadata": {},
   "source": [
    "Remove empty columns (+ columns that are close to empty) \n",
    "\n",
    "A 'close to empty' column is a column with a total number of elements lower or equal to 28000.\n",
    "\n",
    "Store the columns' names in a variable named `cols_list_clean`"
   ]
  },
  {
   "cell_type": "code",
   "execution_count": 35,
   "metadata": {},
   "outputs": [
    {
     "data": {
      "text/html": [
       "<div>\n",
       "<style scoped>\n",
       "    .dataframe tbody tr th:only-of-type {\n",
       "        vertical-align: middle;\n",
       "    }\n",
       "\n",
       "    .dataframe tbody tr th {\n",
       "        vertical-align: top;\n",
       "    }\n",
       "\n",
       "    .dataframe thead th {\n",
       "        text-align: right;\n",
       "    }\n",
       "</style>\n",
       "<table border=\"1\" class=\"dataframe\">\n",
       "  <thead>\n",
       "    <tr style=\"text-align: right;\">\n",
       "      <th></th>\n",
       "      <th>ELEM_POINT_ID</th>\n",
       "      <th>CODE</th>\n",
       "      <th>NOM</th>\n",
       "      <th>GENRE</th>\n",
       "      <th>GENRE_DESC</th>\n",
       "      <th>CATEGORIE</th>\n",
       "      <th>CATEGORIE_DESC</th>\n",
       "      <th>SOUS_CATEGORIE</th>\n",
       "      <th>SOUS_CATEGORIE_DESC</th>\n",
       "      <th>CODE_PARENT</th>\n",
       "      <th>CODE_PARENT_DESC</th>\n",
       "      <th>ADR_SECTEUR</th>\n",
       "      <th>BIEN_REFERENCE</th>\n",
       "      <th>GENRE_BOTA</th>\n",
       "      <th>ESPECE</th>\n",
       "      <th>STADEDEDEVELOPPEMENT</th>\n",
       "      <th>ANNEEDEPLANTATION</th>\n",
       "      <th>COLLECTIVITE</th>\n",
       "      <th>LONGITUDE</th>\n",
       "      <th>LATITUDE</th>\n",
       "    </tr>\n",
       "  </thead>\n",
       "  <tbody>\n",
       "    <tr>\n",
       "      <td>0</td>\n",
       "      <td>32215</td>\n",
       "      <td>ESP32919</td>\n",
       "      <td>ESP32919</td>\n",
       "      <td>VEG</td>\n",
       "      <td>VEGETATION</td>\n",
       "      <td>ESP01</td>\n",
       "      <td>Arbre</td>\n",
       "      <td>ESP151</td>\n",
       "      <td>Arbre de voirie</td>\n",
       "      <td>ESP32840</td>\n",
       "      <td>Crs Jaurès impair de PHD/ Lorr</td>\n",
       "      <td>2</td>\n",
       "      <td>AR32919</td>\n",
       "      <td>Platanus</td>\n",
       "      <td>platanor</td>\n",
       "      <td>Arbre jeune</td>\n",
       "      <td>2014.0</td>\n",
       "      <td>Grenoble Alpes Métropole</td>\n",
       "      <td>45.190237</td>\n",
       "      <td>5.719919</td>\n",
       "    </tr>\n",
       "    <tr>\n",
       "      <td>1</td>\n",
       "      <td>32214</td>\n",
       "      <td>ESP32918</td>\n",
       "      <td>ESP32918</td>\n",
       "      <td>VEG</td>\n",
       "      <td>VEGETATION</td>\n",
       "      <td>ESP01</td>\n",
       "      <td>Arbre</td>\n",
       "      <td>ESP151</td>\n",
       "      <td>Arbre de voirie</td>\n",
       "      <td>ESP32840</td>\n",
       "      <td>Crs Jaurès impair de PHD/ Lorr</td>\n",
       "      <td>2</td>\n",
       "      <td>AR32918</td>\n",
       "      <td>Tilia</td>\n",
       "      <td>mongolica</td>\n",
       "      <td>Arbre jeune</td>\n",
       "      <td>2014.0</td>\n",
       "      <td>Grenoble Alpes Métropole</td>\n",
       "      <td>45.190280</td>\n",
       "      <td>5.719994</td>\n",
       "    </tr>\n",
       "    <tr>\n",
       "      <td>2</td>\n",
       "      <td>32213</td>\n",
       "      <td>ESP32917</td>\n",
       "      <td>ESP32917</td>\n",
       "      <td>VEG</td>\n",
       "      <td>VEGETATION</td>\n",
       "      <td>ESP01</td>\n",
       "      <td>Arbre</td>\n",
       "      <td>ESP151</td>\n",
       "      <td>Arbre de voirie</td>\n",
       "      <td>ESP32840</td>\n",
       "      <td>Crs Jaurès impair de PHD/ Lorr</td>\n",
       "      <td>2</td>\n",
       "      <td>AR32917</td>\n",
       "      <td>Malus</td>\n",
       "      <td>perpetu</td>\n",
       "      <td>Arbre jeune</td>\n",
       "      <td>2014.0</td>\n",
       "      <td>Grenoble Alpes Métropole</td>\n",
       "      <td>45.190322</td>\n",
       "      <td>5.720006</td>\n",
       "    </tr>\n",
       "    <tr>\n",
       "      <td>3</td>\n",
       "      <td>32212</td>\n",
       "      <td>ESP32916</td>\n",
       "      <td>ESP32916</td>\n",
       "      <td>VEG</td>\n",
       "      <td>VEGETATION</td>\n",
       "      <td>ESP01</td>\n",
       "      <td>Arbre</td>\n",
       "      <td>ESP151</td>\n",
       "      <td>Arbre de voirie</td>\n",
       "      <td>ESP32840</td>\n",
       "      <td>Crs Jaurès impair de PHD/ Lorr</td>\n",
       "      <td>2</td>\n",
       "      <td>AR32916</td>\n",
       "      <td>Platanus</td>\n",
       "      <td>platanor</td>\n",
       "      <td>Arbre jeune</td>\n",
       "      <td>2014.0</td>\n",
       "      <td>Grenoble Alpes Métropole</td>\n",
       "      <td>45.190359</td>\n",
       "      <td>5.719959</td>\n",
       "    </tr>\n",
       "    <tr>\n",
       "      <td>4</td>\n",
       "      <td>32211</td>\n",
       "      <td>ESP32915</td>\n",
       "      <td>ESP32915</td>\n",
       "      <td>VEG</td>\n",
       "      <td>VEGETATION</td>\n",
       "      <td>ESP01</td>\n",
       "      <td>Arbre</td>\n",
       "      <td>ESP151</td>\n",
       "      <td>Arbre de voirie</td>\n",
       "      <td>ESP32840</td>\n",
       "      <td>Crs Jaurès impair de PHD/ Lorr</td>\n",
       "      <td>2</td>\n",
       "      <td>AR32915</td>\n",
       "      <td>Tilia</td>\n",
       "      <td>mongolica</td>\n",
       "      <td>Arbre jeune</td>\n",
       "      <td>2014.0</td>\n",
       "      <td>Grenoble Alpes Métropole</td>\n",
       "      <td>45.190442</td>\n",
       "      <td>5.720047</td>\n",
       "    </tr>\n",
       "    <tr>\n",
       "      <td>...</td>\n",
       "      <td>...</td>\n",
       "      <td>...</td>\n",
       "      <td>...</td>\n",
       "      <td>...</td>\n",
       "      <td>...</td>\n",
       "      <td>...</td>\n",
       "      <td>...</td>\n",
       "      <td>...</td>\n",
       "      <td>...</td>\n",
       "      <td>...</td>\n",
       "      <td>...</td>\n",
       "      <td>...</td>\n",
       "      <td>...</td>\n",
       "      <td>...</td>\n",
       "      <td>...</td>\n",
       "      <td>...</td>\n",
       "      <td>...</td>\n",
       "      <td>...</td>\n",
       "      <td>...</td>\n",
       "      <td>...</td>\n",
       "    </tr>\n",
       "    <tr>\n",
       "      <td>31948</td>\n",
       "      <td>23339</td>\n",
       "      <td>ESP28693</td>\n",
       "      <td>ESP28693</td>\n",
       "      <td>VEG</td>\n",
       "      <td>VEGETATION</td>\n",
       "      <td>ESP01</td>\n",
       "      <td>Arbre</td>\n",
       "      <td>ESP151</td>\n",
       "      <td>Arbre de voirie</td>\n",
       "      <td>ESP1221</td>\n",
       "      <td>Ave du 11 Novembre</td>\n",
       "      <td>3</td>\n",
       "      <td>AR28693</td>\n",
       "      <td>Tilia</td>\n",
       "      <td>tomentosa</td>\n",
       "      <td>Arbre jeune</td>\n",
       "      <td>1991.0</td>\n",
       "      <td>Grenoble Alpes Métropole</td>\n",
       "      <td>45.164950</td>\n",
       "      <td>5.711724</td>\n",
       "    </tr>\n",
       "    <tr>\n",
       "      <td>31949</td>\n",
       "      <td>919</td>\n",
       "      <td>ESP26621</td>\n",
       "      <td>ESP26621</td>\n",
       "      <td>VEG</td>\n",
       "      <td>VEGETATION</td>\n",
       "      <td>ESP01</td>\n",
       "      <td>Arbre</td>\n",
       "      <td>ESP151</td>\n",
       "      <td>Arbre de voirie</td>\n",
       "      <td>ESP1221</td>\n",
       "      <td>Ave du 11 Novembre</td>\n",
       "      <td>3</td>\n",
       "      <td>AR26621</td>\n",
       "      <td>Tilia</td>\n",
       "      <td>tomentosa</td>\n",
       "      <td>Arbre adulte</td>\n",
       "      <td>1991.0</td>\n",
       "      <td>Grenoble Alpes Métropole</td>\n",
       "      <td>45.164822</td>\n",
       "      <td>5.711983</td>\n",
       "    </tr>\n",
       "    <tr>\n",
       "      <td>31950</td>\n",
       "      <td>19628</td>\n",
       "      <td>ESP24819</td>\n",
       "      <td>ESP24819</td>\n",
       "      <td>VEG</td>\n",
       "      <td>VEGETATION</td>\n",
       "      <td>ESP01</td>\n",
       "      <td>Arbre</td>\n",
       "      <td>ESP151</td>\n",
       "      <td>Arbre de voirie</td>\n",
       "      <td>ESP1221</td>\n",
       "      <td>Ave du 11 Novembre</td>\n",
       "      <td>3</td>\n",
       "      <td>AR24819</td>\n",
       "      <td>Tilia</td>\n",
       "      <td>tomentosa</td>\n",
       "      <td>Arbre adulte</td>\n",
       "      <td>1991.0</td>\n",
       "      <td>Grenoble Alpes Métropole</td>\n",
       "      <td>45.164967</td>\n",
       "      <td>5.711629</td>\n",
       "    </tr>\n",
       "    <tr>\n",
       "      <td>31951</td>\n",
       "      <td>15999</td>\n",
       "      <td>ESP23135</td>\n",
       "      <td>ESP23135</td>\n",
       "      <td>VEG</td>\n",
       "      <td>VEGETATION</td>\n",
       "      <td>ESP01</td>\n",
       "      <td>Arbre</td>\n",
       "      <td>ESP151</td>\n",
       "      <td>Arbre de voirie</td>\n",
       "      <td>ESP1221</td>\n",
       "      <td>Ave du 11 Novembre</td>\n",
       "      <td>3</td>\n",
       "      <td>AR23135</td>\n",
       "      <td>Tilia</td>\n",
       "      <td>tomentosa</td>\n",
       "      <td>Arbre adulte</td>\n",
       "      <td>1991.0</td>\n",
       "      <td>Grenoble Alpes Métropole</td>\n",
       "      <td>45.164918</td>\n",
       "      <td>5.711940</td>\n",
       "    </tr>\n",
       "    <tr>\n",
       "      <td>31952</td>\n",
       "      <td>27070</td>\n",
       "      <td>ESP22552</td>\n",
       "      <td>ESP22552</td>\n",
       "      <td>VEG</td>\n",
       "      <td>VEGETATION</td>\n",
       "      <td>ESP01</td>\n",
       "      <td>Arbre</td>\n",
       "      <td>ESP151</td>\n",
       "      <td>Arbre de voirie</td>\n",
       "      <td>ESP1221</td>\n",
       "      <td>Ave du 11 Novembre</td>\n",
       "      <td>3</td>\n",
       "      <td>AR22552</td>\n",
       "      <td>Tilia</td>\n",
       "      <td>tomentosa</td>\n",
       "      <td>Arbre adulte</td>\n",
       "      <td>1991.0</td>\n",
       "      <td>Grenoble Alpes Métropole</td>\n",
       "      <td>45.164867</td>\n",
       "      <td>5.711720</td>\n",
       "    </tr>\n",
       "  </tbody>\n",
       "</table>\n",
       "<p>31400 rows × 20 columns</p>\n",
       "</div>"
      ],
      "text/plain": [
       "       ELEM_POINT_ID      CODE       NOM GENRE  GENRE_DESC CATEGORIE  \\\n",
       "0              32215  ESP32919  ESP32919   VEG  VEGETATION     ESP01   \n",
       "1              32214  ESP32918  ESP32918   VEG  VEGETATION     ESP01   \n",
       "2              32213  ESP32917  ESP32917   VEG  VEGETATION     ESP01   \n",
       "3              32212  ESP32916  ESP32916   VEG  VEGETATION     ESP01   \n",
       "4              32211  ESP32915  ESP32915   VEG  VEGETATION     ESP01   \n",
       "...              ...       ...       ...   ...         ...       ...   \n",
       "31948          23339  ESP28693  ESP28693   VEG  VEGETATION     ESP01   \n",
       "31949            919  ESP26621  ESP26621   VEG  VEGETATION     ESP01   \n",
       "31950          19628  ESP24819  ESP24819   VEG  VEGETATION     ESP01   \n",
       "31951          15999  ESP23135  ESP23135   VEG  VEGETATION     ESP01   \n",
       "31952          27070  ESP22552  ESP22552   VEG  VEGETATION     ESP01   \n",
       "\n",
       "      CATEGORIE_DESC SOUS_CATEGORIE SOUS_CATEGORIE_DESC CODE_PARENT  \\\n",
       "0              Arbre         ESP151     Arbre de voirie    ESP32840   \n",
       "1              Arbre         ESP151     Arbre de voirie    ESP32840   \n",
       "2              Arbre         ESP151     Arbre de voirie    ESP32840   \n",
       "3              Arbre         ESP151     Arbre de voirie    ESP32840   \n",
       "4              Arbre         ESP151     Arbre de voirie    ESP32840   \n",
       "...              ...            ...                 ...         ...   \n",
       "31948          Arbre         ESP151     Arbre de voirie     ESP1221   \n",
       "31949          Arbre         ESP151     Arbre de voirie     ESP1221   \n",
       "31950          Arbre         ESP151     Arbre de voirie     ESP1221   \n",
       "31951          Arbre         ESP151     Arbre de voirie     ESP1221   \n",
       "31952          Arbre         ESP151     Arbre de voirie     ESP1221   \n",
       "\n",
       "                     CODE_PARENT_DESC  ADR_SECTEUR BIEN_REFERENCE GENRE_BOTA  \\\n",
       "0      Crs Jaurès impair de PHD/ Lorr            2        AR32919   Platanus   \n",
       "1      Crs Jaurès impair de PHD/ Lorr            2        AR32918      Tilia   \n",
       "2      Crs Jaurès impair de PHD/ Lorr            2        AR32917      Malus   \n",
       "3      Crs Jaurès impair de PHD/ Lorr            2        AR32916   Platanus   \n",
       "4      Crs Jaurès impair de PHD/ Lorr            2        AR32915      Tilia   \n",
       "...                               ...          ...            ...        ...   \n",
       "31948              Ave du 11 Novembre            3        AR28693      Tilia   \n",
       "31949              Ave du 11 Novembre            3        AR26621      Tilia   \n",
       "31950              Ave du 11 Novembre            3        AR24819      Tilia   \n",
       "31951              Ave du 11 Novembre            3        AR23135      Tilia   \n",
       "31952              Ave du 11 Novembre            3        AR22552      Tilia   \n",
       "\n",
       "          ESPECE STADEDEDEVELOPPEMENT  ANNEEDEPLANTATION  \\\n",
       "0       platanor          Arbre jeune             2014.0   \n",
       "1      mongolica          Arbre jeune             2014.0   \n",
       "2        perpetu          Arbre jeune             2014.0   \n",
       "3       platanor          Arbre jeune             2014.0   \n",
       "4      mongolica          Arbre jeune             2014.0   \n",
       "...          ...                  ...                ...   \n",
       "31948  tomentosa          Arbre jeune             1991.0   \n",
       "31949  tomentosa         Arbre adulte             1991.0   \n",
       "31950  tomentosa         Arbre adulte             1991.0   \n",
       "31951  tomentosa         Arbre adulte             1991.0   \n",
       "31952  tomentosa         Arbre adulte             1991.0   \n",
       "\n",
       "                   COLLECTIVITE  LONGITUDE  LATITUDE  \n",
       "0      Grenoble Alpes Métropole  45.190237  5.719919  \n",
       "1      Grenoble Alpes Métropole  45.190280  5.719994  \n",
       "2      Grenoble Alpes Métropole  45.190322  5.720006  \n",
       "3      Grenoble Alpes Métropole  45.190359  5.719959  \n",
       "4      Grenoble Alpes Métropole  45.190442  5.720047  \n",
       "...                         ...        ...       ...  \n",
       "31948  Grenoble Alpes Métropole  45.164950  5.711724  \n",
       "31949  Grenoble Alpes Métropole  45.164822  5.711983  \n",
       "31950  Grenoble Alpes Métropole  45.164967  5.711629  \n",
       "31951  Grenoble Alpes Métropole  45.164918  5.711940  \n",
       "31952  Grenoble Alpes Métropole  45.164867  5.711720  \n",
       "\n",
       "[31400 rows x 20 columns]"
      ]
     },
     "execution_count": 35,
     "metadata": {},
     "output_type": "execute_result"
    }
   ],
   "source": [
    "# code here\n",
    "A=clean.dropna(thresh=28000,axis=1)\n",
    "A"
   ]
  },
  {
   "cell_type": "code",
   "execution_count": 36,
   "metadata": {},
   "outputs": [
    {
     "data": {
      "text/plain": [
       "Index(['ELEM_POINT_ID', 'CODE', 'NOM', 'GENRE', 'GENRE_DESC', 'CATEGORIE',\n",
       "       'CATEGORIE_DESC', 'SOUS_CATEGORIE', 'SOUS_CATEGORIE_DESC',\n",
       "       'CODE_PARENT', 'CODE_PARENT_DESC', 'ADR_SECTEUR', 'BIEN_REFERENCE',\n",
       "       'GENRE_BOTA', 'ESPECE', 'STADEDEDEVELOPPEMENT', 'ANNEEDEPLANTATION',\n",
       "       'COLLECTIVITE', 'LONGITUDE', 'LATITUDE'],\n",
       "      dtype='object')"
      ]
     },
     "execution_count": 36,
     "metadata": {},
     "output_type": "execute_result"
    }
   ],
   "source": [
    "cols_list_clean=A.columns\n",
    "cols_list_clean"
   ]
  },
  {
   "cell_type": "markdown",
   "metadata": {},
   "source": [
    "Replace the `clean` data frame by the subset containing only the cleaned columns, then inspect the first five elements of the dataframe."
   ]
  },
  {
   "cell_type": "code",
   "execution_count": 37,
   "metadata": {},
   "outputs": [
    {
     "data": {
      "text/html": [
       "<div>\n",
       "<style scoped>\n",
       "    .dataframe tbody tr th:only-of-type {\n",
       "        vertical-align: middle;\n",
       "    }\n",
       "\n",
       "    .dataframe tbody tr th {\n",
       "        vertical-align: top;\n",
       "    }\n",
       "\n",
       "    .dataframe thead th {\n",
       "        text-align: right;\n",
       "    }\n",
       "</style>\n",
       "<table border=\"1\" class=\"dataframe\">\n",
       "  <thead>\n",
       "    <tr style=\"text-align: right;\">\n",
       "      <th></th>\n",
       "      <th>ELEM_POINT_ID</th>\n",
       "      <th>CODE</th>\n",
       "      <th>NOM</th>\n",
       "      <th>GENRE</th>\n",
       "      <th>GENRE_DESC</th>\n",
       "      <th>CATEGORIE</th>\n",
       "      <th>CATEGORIE_DESC</th>\n",
       "      <th>SOUS_CATEGORIE</th>\n",
       "      <th>SOUS_CATEGORIE_DESC</th>\n",
       "      <th>CODE_PARENT</th>\n",
       "      <th>CODE_PARENT_DESC</th>\n",
       "      <th>ADR_SECTEUR</th>\n",
       "      <th>BIEN_REFERENCE</th>\n",
       "      <th>GENRE_BOTA</th>\n",
       "      <th>ESPECE</th>\n",
       "      <th>STADEDEDEVELOPPEMENT</th>\n",
       "      <th>ANNEEDEPLANTATION</th>\n",
       "      <th>COLLECTIVITE</th>\n",
       "      <th>LONGITUDE</th>\n",
       "      <th>LATITUDE</th>\n",
       "    </tr>\n",
       "  </thead>\n",
       "  <tbody>\n",
       "    <tr>\n",
       "      <td>0</td>\n",
       "      <td>32215</td>\n",
       "      <td>ESP32919</td>\n",
       "      <td>ESP32919</td>\n",
       "      <td>VEG</td>\n",
       "      <td>VEGETATION</td>\n",
       "      <td>ESP01</td>\n",
       "      <td>Arbre</td>\n",
       "      <td>ESP151</td>\n",
       "      <td>Arbre de voirie</td>\n",
       "      <td>ESP32840</td>\n",
       "      <td>Crs Jaurès impair de PHD/ Lorr</td>\n",
       "      <td>2</td>\n",
       "      <td>AR32919</td>\n",
       "      <td>Platanus</td>\n",
       "      <td>platanor</td>\n",
       "      <td>Arbre jeune</td>\n",
       "      <td>2014.0</td>\n",
       "      <td>Grenoble Alpes Métropole</td>\n",
       "      <td>45.190237</td>\n",
       "      <td>5.719919</td>\n",
       "    </tr>\n",
       "    <tr>\n",
       "      <td>1</td>\n",
       "      <td>32214</td>\n",
       "      <td>ESP32918</td>\n",
       "      <td>ESP32918</td>\n",
       "      <td>VEG</td>\n",
       "      <td>VEGETATION</td>\n",
       "      <td>ESP01</td>\n",
       "      <td>Arbre</td>\n",
       "      <td>ESP151</td>\n",
       "      <td>Arbre de voirie</td>\n",
       "      <td>ESP32840</td>\n",
       "      <td>Crs Jaurès impair de PHD/ Lorr</td>\n",
       "      <td>2</td>\n",
       "      <td>AR32918</td>\n",
       "      <td>Tilia</td>\n",
       "      <td>mongolica</td>\n",
       "      <td>Arbre jeune</td>\n",
       "      <td>2014.0</td>\n",
       "      <td>Grenoble Alpes Métropole</td>\n",
       "      <td>45.190280</td>\n",
       "      <td>5.719994</td>\n",
       "    </tr>\n",
       "    <tr>\n",
       "      <td>2</td>\n",
       "      <td>32213</td>\n",
       "      <td>ESP32917</td>\n",
       "      <td>ESP32917</td>\n",
       "      <td>VEG</td>\n",
       "      <td>VEGETATION</td>\n",
       "      <td>ESP01</td>\n",
       "      <td>Arbre</td>\n",
       "      <td>ESP151</td>\n",
       "      <td>Arbre de voirie</td>\n",
       "      <td>ESP32840</td>\n",
       "      <td>Crs Jaurès impair de PHD/ Lorr</td>\n",
       "      <td>2</td>\n",
       "      <td>AR32917</td>\n",
       "      <td>Malus</td>\n",
       "      <td>perpetu</td>\n",
       "      <td>Arbre jeune</td>\n",
       "      <td>2014.0</td>\n",
       "      <td>Grenoble Alpes Métropole</td>\n",
       "      <td>45.190322</td>\n",
       "      <td>5.720006</td>\n",
       "    </tr>\n",
       "    <tr>\n",
       "      <td>3</td>\n",
       "      <td>32212</td>\n",
       "      <td>ESP32916</td>\n",
       "      <td>ESP32916</td>\n",
       "      <td>VEG</td>\n",
       "      <td>VEGETATION</td>\n",
       "      <td>ESP01</td>\n",
       "      <td>Arbre</td>\n",
       "      <td>ESP151</td>\n",
       "      <td>Arbre de voirie</td>\n",
       "      <td>ESP32840</td>\n",
       "      <td>Crs Jaurès impair de PHD/ Lorr</td>\n",
       "      <td>2</td>\n",
       "      <td>AR32916</td>\n",
       "      <td>Platanus</td>\n",
       "      <td>platanor</td>\n",
       "      <td>Arbre jeune</td>\n",
       "      <td>2014.0</td>\n",
       "      <td>Grenoble Alpes Métropole</td>\n",
       "      <td>45.190359</td>\n",
       "      <td>5.719959</td>\n",
       "    </tr>\n",
       "    <tr>\n",
       "      <td>4</td>\n",
       "      <td>32211</td>\n",
       "      <td>ESP32915</td>\n",
       "      <td>ESP32915</td>\n",
       "      <td>VEG</td>\n",
       "      <td>VEGETATION</td>\n",
       "      <td>ESP01</td>\n",
       "      <td>Arbre</td>\n",
       "      <td>ESP151</td>\n",
       "      <td>Arbre de voirie</td>\n",
       "      <td>ESP32840</td>\n",
       "      <td>Crs Jaurès impair de PHD/ Lorr</td>\n",
       "      <td>2</td>\n",
       "      <td>AR32915</td>\n",
       "      <td>Tilia</td>\n",
       "      <td>mongolica</td>\n",
       "      <td>Arbre jeune</td>\n",
       "      <td>2014.0</td>\n",
       "      <td>Grenoble Alpes Métropole</td>\n",
       "      <td>45.190442</td>\n",
       "      <td>5.720047</td>\n",
       "    </tr>\n",
       "  </tbody>\n",
       "</table>\n",
       "</div>"
      ],
      "text/plain": [
       "   ELEM_POINT_ID      CODE       NOM GENRE  GENRE_DESC CATEGORIE  \\\n",
       "0          32215  ESP32919  ESP32919   VEG  VEGETATION     ESP01   \n",
       "1          32214  ESP32918  ESP32918   VEG  VEGETATION     ESP01   \n",
       "2          32213  ESP32917  ESP32917   VEG  VEGETATION     ESP01   \n",
       "3          32212  ESP32916  ESP32916   VEG  VEGETATION     ESP01   \n",
       "4          32211  ESP32915  ESP32915   VEG  VEGETATION     ESP01   \n",
       "\n",
       "  CATEGORIE_DESC SOUS_CATEGORIE SOUS_CATEGORIE_DESC CODE_PARENT  \\\n",
       "0          Arbre         ESP151     Arbre de voirie    ESP32840   \n",
       "1          Arbre         ESP151     Arbre de voirie    ESP32840   \n",
       "2          Arbre         ESP151     Arbre de voirie    ESP32840   \n",
       "3          Arbre         ESP151     Arbre de voirie    ESP32840   \n",
       "4          Arbre         ESP151     Arbre de voirie    ESP32840   \n",
       "\n",
       "                 CODE_PARENT_DESC  ADR_SECTEUR BIEN_REFERENCE GENRE_BOTA  \\\n",
       "0  Crs Jaurès impair de PHD/ Lorr            2        AR32919   Platanus   \n",
       "1  Crs Jaurès impair de PHD/ Lorr            2        AR32918      Tilia   \n",
       "2  Crs Jaurès impair de PHD/ Lorr            2        AR32917      Malus   \n",
       "3  Crs Jaurès impair de PHD/ Lorr            2        AR32916   Platanus   \n",
       "4  Crs Jaurès impair de PHD/ Lorr            2        AR32915      Tilia   \n",
       "\n",
       "      ESPECE STADEDEDEVELOPPEMENT  ANNEEDEPLANTATION  \\\n",
       "0   platanor          Arbre jeune             2014.0   \n",
       "1  mongolica          Arbre jeune             2014.0   \n",
       "2    perpetu          Arbre jeune             2014.0   \n",
       "3   platanor          Arbre jeune             2014.0   \n",
       "4  mongolica          Arbre jeune             2014.0   \n",
       "\n",
       "               COLLECTIVITE  LONGITUDE  LATITUDE  \n",
       "0  Grenoble Alpes Métropole  45.190237  5.719919  \n",
       "1  Grenoble Alpes Métropole  45.190280  5.719994  \n",
       "2  Grenoble Alpes Métropole  45.190322  5.720006  \n",
       "3  Grenoble Alpes Métropole  45.190359  5.719959  \n",
       "4  Grenoble Alpes Métropole  45.190442  5.720047  "
      ]
     },
     "execution_count": 37,
     "metadata": {},
     "output_type": "execute_result"
    }
   ],
   "source": [
    "# code here\n",
    "clean=A\n",
    "clean.head()"
   ]
  },
  {
   "cell_type": "code",
   "execution_count": 38,
   "metadata": {},
   "outputs": [
    {
     "data": {
      "text/plain": [
       "(31400, 20)"
      ]
     },
     "execution_count": 38,
     "metadata": {},
     "output_type": "execute_result"
    }
   ],
   "source": [
    "clean.shape"
   ]
  },
  {
   "cell_type": "markdown",
   "metadata": {},
   "source": [
    "Find the columns that have one single value for all entries."
   ]
  },
  {
   "cell_type": "code",
   "execution_count": 51,
   "metadata": {},
   "outputs": [
    {
     "data": {
      "text/plain": [
       "Index([], dtype='object')"
      ]
     },
     "execution_count": 51,
     "metadata": {},
     "output_type": "execute_result"
    }
   ],
   "source": [
    "# code here\n",
    "clean.columns[clean.nunique()==1]"
   ]
  },
  {
   "cell_type": "markdown",
   "metadata": {},
   "source": [
    "If i understood the question right, there is none of the colummns fullfilling that condition"
   ]
  },
  {
   "cell_type": "markdown",
   "metadata": {},
   "source": [
    "Remove the following uninteresting columns - i.e ones that have all same values or references"
   ]
  },
  {
   "cell_type": "code",
   "execution_count": 40,
   "metadata": {},
   "outputs": [],
   "source": [
    "uninteresting_cols = ['NOM','GENRE','GENRE_DESC','CATEGORIE', 'CATEGORIE_DESC', 'BIEN_REFERENCE']"
   ]
  },
  {
   "cell_type": "code",
   "execution_count": 41,
   "metadata": {},
   "outputs": [],
   "source": [
    "# code here\n",
    "clean=clean.drop(uninteresting_cols,axis=1)"
   ]
  },
  {
   "cell_type": "markdown",
   "metadata": {},
   "source": [
    "Find the number of distinct values in the `STADEDEDEVELOPPEMENT` column."
   ]
  },
  {
   "cell_type": "code",
   "execution_count": 42,
   "metadata": {},
   "outputs": [
    {
     "data": {
      "text/plain": [
       "3"
      ]
     },
     "execution_count": 42,
     "metadata": {},
     "output_type": "execute_result"
    }
   ],
   "source": [
    "clean.STADEDEDEVELOPPEMENT.nunique()\n",
    "# code here"
   ]
  },
  {
   "cell_type": "markdown",
   "metadata": {},
   "source": [
    "NOTES\n",
    "\n",
    "Features looking useful:\n",
    "* sous_category looks useful (4 categories)\n",
    "* ADR_SECTEUR (6 categories)\n",
    "* STADEDEDEVELOPPEMENT (3 categories) \n",
    "* COLLECTIVITE (2 categories)\n",
    "\n",
    "\n",
    "Less useful:\n",
    "* CODE_PARENT_DESC (too many categories - ~1400, but could be usefull to make new featues (most common tree in local area etc).\n",
    "* GENRE_BOTA (112 categories) \n",
    "* ESPECE(257 categories)\n",
    "* VARIETE (183 cats but missing vals) "
   ]
  },
  {
   "cell_type": "code",
   "execution_count": 43,
   "metadata": {},
   "outputs": [],
   "source": [
    "# if you want you can display the whole clean dataframe here\n",
    "clean.to_csv('../data/modified/first_clean.csv',index=False)"
   ]
  },
  {
   "cell_type": "markdown",
   "metadata": {},
   "source": [
    "For storing the dataframe in a csv file, use `clean.to_csv('./data/modified/first_clean.csv',index=False)`"
   ]
  },
  {
   "cell_type": "markdown",
   "metadata": {},
   "source": [
    "## Save out to pickle file\n",
    "\n",
    "The file name should be 'trees_first_clean.pkl'"
   ]
  },
  {
   "cell_type": "code",
   "execution_count": 44,
   "metadata": {},
   "outputs": [],
   "source": [
    "# code here\n",
    "clean.to_pickle('../data/modified/trees_first_clean.pkl')"
   ]
  },
  {
   "cell_type": "markdown",
   "metadata": {},
   "source": [
    "pickle file, binary is almost twice less heavy"
   ]
  },
  {
   "cell_type": "code",
   "execution_count": null,
   "metadata": {},
   "outputs": [],
   "source": []
  }
 ],
 "metadata": {
  "kernelspec": {
   "display_name": "Python 3",
   "language": "python",
   "name": "python3"
  },
  "language_info": {
   "codemirror_mode": {
    "name": "ipython",
    "version": 3
   },
   "file_extension": ".py",
   "mimetype": "text/x-python",
   "name": "python",
   "nbconvert_exporter": "python",
   "pygments_lexer": "ipython3",
   "version": "3.7.4"
  }
 },
 "nbformat": 4,
 "nbformat_minor": 4
}
