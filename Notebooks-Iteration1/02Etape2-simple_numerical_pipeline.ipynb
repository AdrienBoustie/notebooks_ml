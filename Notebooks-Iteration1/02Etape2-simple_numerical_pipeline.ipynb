{
 "cells": [
  {
   "cell_type": "code",
   "execution_count": 2,
   "metadata": {},
   "outputs": [],
   "source": [
    "import pandas as pd\n",
    "import numpy as np\n",
    "%matplotlib inline"
   ]
  },
  {
   "cell_type": "markdown",
   "metadata": {},
   "source": [
    "## Load the clean trees data from saved pickle into the `trees` dataframe"
   ]
  },
  {
   "cell_type": "code",
   "execution_count": 3,
   "metadata": {},
   "outputs": [],
   "source": [
    "# code here\n",
    "trees=pd.read_pickle('../data/modified/trees_first_clean.pkl')"
   ]
  },
  {
   "cell_type": "markdown",
   "metadata": {},
   "source": [
    "List first 5 elements of the dataframe"
   ]
  },
  {
   "cell_type": "code",
   "execution_count": 4,
   "metadata": {},
   "outputs": [
    {
     "data": {
      "text/html": [
       "<div>\n",
       "<style scoped>\n",
       "    .dataframe tbody tr th:only-of-type {\n",
       "        vertical-align: middle;\n",
       "    }\n",
       "\n",
       "    .dataframe tbody tr th {\n",
       "        vertical-align: top;\n",
       "    }\n",
       "\n",
       "    .dataframe thead th {\n",
       "        text-align: right;\n",
       "    }\n",
       "</style>\n",
       "<table border=\"1\" class=\"dataframe\">\n",
       "  <thead>\n",
       "    <tr style=\"text-align: right;\">\n",
       "      <th></th>\n",
       "      <th>ELEM_POINT_ID</th>\n",
       "      <th>CODE</th>\n",
       "      <th>SOUS_CATEGORIE</th>\n",
       "      <th>SOUS_CATEGORIE_DESC</th>\n",
       "      <th>CODE_PARENT</th>\n",
       "      <th>CODE_PARENT_DESC</th>\n",
       "      <th>ADR_SECTEUR</th>\n",
       "      <th>GENRE_BOTA</th>\n",
       "      <th>ESPECE</th>\n",
       "      <th>STADEDEDEVELOPPEMENT</th>\n",
       "      <th>ANNEEDEPLANTATION</th>\n",
       "      <th>COLLECTIVITE</th>\n",
       "      <th>LONGITUDE</th>\n",
       "      <th>LATITUDE</th>\n",
       "    </tr>\n",
       "  </thead>\n",
       "  <tbody>\n",
       "    <tr>\n",
       "      <td>0</td>\n",
       "      <td>32215</td>\n",
       "      <td>ESP32919</td>\n",
       "      <td>ESP151</td>\n",
       "      <td>Arbre de voirie</td>\n",
       "      <td>ESP32840</td>\n",
       "      <td>Crs Jaurès impair de PHD/ Lorr</td>\n",
       "      <td>2</td>\n",
       "      <td>Platanus</td>\n",
       "      <td>platanor</td>\n",
       "      <td>Arbre jeune</td>\n",
       "      <td>2014.0</td>\n",
       "      <td>Grenoble Alpes Métropole</td>\n",
       "      <td>45.190237</td>\n",
       "      <td>5.719919</td>\n",
       "    </tr>\n",
       "    <tr>\n",
       "      <td>1</td>\n",
       "      <td>32214</td>\n",
       "      <td>ESP32918</td>\n",
       "      <td>ESP151</td>\n",
       "      <td>Arbre de voirie</td>\n",
       "      <td>ESP32840</td>\n",
       "      <td>Crs Jaurès impair de PHD/ Lorr</td>\n",
       "      <td>2</td>\n",
       "      <td>Tilia</td>\n",
       "      <td>mongolica</td>\n",
       "      <td>Arbre jeune</td>\n",
       "      <td>2014.0</td>\n",
       "      <td>Grenoble Alpes Métropole</td>\n",
       "      <td>45.190280</td>\n",
       "      <td>5.719994</td>\n",
       "    </tr>\n",
       "    <tr>\n",
       "      <td>2</td>\n",
       "      <td>32213</td>\n",
       "      <td>ESP32917</td>\n",
       "      <td>ESP151</td>\n",
       "      <td>Arbre de voirie</td>\n",
       "      <td>ESP32840</td>\n",
       "      <td>Crs Jaurès impair de PHD/ Lorr</td>\n",
       "      <td>2</td>\n",
       "      <td>Malus</td>\n",
       "      <td>perpetu</td>\n",
       "      <td>Arbre jeune</td>\n",
       "      <td>2014.0</td>\n",
       "      <td>Grenoble Alpes Métropole</td>\n",
       "      <td>45.190322</td>\n",
       "      <td>5.720006</td>\n",
       "    </tr>\n",
       "    <tr>\n",
       "      <td>3</td>\n",
       "      <td>32212</td>\n",
       "      <td>ESP32916</td>\n",
       "      <td>ESP151</td>\n",
       "      <td>Arbre de voirie</td>\n",
       "      <td>ESP32840</td>\n",
       "      <td>Crs Jaurès impair de PHD/ Lorr</td>\n",
       "      <td>2</td>\n",
       "      <td>Platanus</td>\n",
       "      <td>platanor</td>\n",
       "      <td>Arbre jeune</td>\n",
       "      <td>2014.0</td>\n",
       "      <td>Grenoble Alpes Métropole</td>\n",
       "      <td>45.190359</td>\n",
       "      <td>5.719959</td>\n",
       "    </tr>\n",
       "    <tr>\n",
       "      <td>4</td>\n",
       "      <td>32211</td>\n",
       "      <td>ESP32915</td>\n",
       "      <td>ESP151</td>\n",
       "      <td>Arbre de voirie</td>\n",
       "      <td>ESP32840</td>\n",
       "      <td>Crs Jaurès impair de PHD/ Lorr</td>\n",
       "      <td>2</td>\n",
       "      <td>Tilia</td>\n",
       "      <td>mongolica</td>\n",
       "      <td>Arbre jeune</td>\n",
       "      <td>2014.0</td>\n",
       "      <td>Grenoble Alpes Métropole</td>\n",
       "      <td>45.190442</td>\n",
       "      <td>5.720047</td>\n",
       "    </tr>\n",
       "  </tbody>\n",
       "</table>\n",
       "</div>"
      ],
      "text/plain": [
       "   ELEM_POINT_ID      CODE SOUS_CATEGORIE SOUS_CATEGORIE_DESC CODE_PARENT  \\\n",
       "0          32215  ESP32919         ESP151     Arbre de voirie    ESP32840   \n",
       "1          32214  ESP32918         ESP151     Arbre de voirie    ESP32840   \n",
       "2          32213  ESP32917         ESP151     Arbre de voirie    ESP32840   \n",
       "3          32212  ESP32916         ESP151     Arbre de voirie    ESP32840   \n",
       "4          32211  ESP32915         ESP151     Arbre de voirie    ESP32840   \n",
       "\n",
       "                 CODE_PARENT_DESC  ADR_SECTEUR GENRE_BOTA     ESPECE  \\\n",
       "0  Crs Jaurès impair de PHD/ Lorr            2   Platanus   platanor   \n",
       "1  Crs Jaurès impair de PHD/ Lorr            2      Tilia  mongolica   \n",
       "2  Crs Jaurès impair de PHD/ Lorr            2      Malus    perpetu   \n",
       "3  Crs Jaurès impair de PHD/ Lorr            2   Platanus   platanor   \n",
       "4  Crs Jaurès impair de PHD/ Lorr            2      Tilia  mongolica   \n",
       "\n",
       "  STADEDEDEVELOPPEMENT  ANNEEDEPLANTATION              COLLECTIVITE  \\\n",
       "0          Arbre jeune             2014.0  Grenoble Alpes Métropole   \n",
       "1          Arbre jeune             2014.0  Grenoble Alpes Métropole   \n",
       "2          Arbre jeune             2014.0  Grenoble Alpes Métropole   \n",
       "3          Arbre jeune             2014.0  Grenoble Alpes Métropole   \n",
       "4          Arbre jeune             2014.0  Grenoble Alpes Métropole   \n",
       "\n",
       "   LONGITUDE  LATITUDE  \n",
       "0  45.190237  5.719919  \n",
       "1  45.190280  5.719994  \n",
       "2  45.190322  5.720006  \n",
       "3  45.190359  5.719959  \n",
       "4  45.190442  5.720047  "
      ]
     },
     "execution_count": 4,
     "metadata": {},
     "output_type": "execute_result"
    }
   ],
   "source": [
    "# code here\n",
    "trees.head()"
   ]
  },
  {
   "cell_type": "markdown",
   "metadata": {},
   "source": [
    "List the columns of the dataframe"
   ]
  },
  {
   "cell_type": "code",
   "execution_count": 5,
   "metadata": {},
   "outputs": [
    {
     "data": {
      "text/plain": [
       "Index(['ELEM_POINT_ID', 'CODE', 'SOUS_CATEGORIE', 'SOUS_CATEGORIE_DESC',\n",
       "       'CODE_PARENT', 'CODE_PARENT_DESC', 'ADR_SECTEUR', 'GENRE_BOTA',\n",
       "       'ESPECE', 'STADEDEDEVELOPPEMENT', 'ANNEEDEPLANTATION', 'COLLECTIVITE',\n",
       "       'LONGITUDE', 'LATITUDE'],\n",
       "      dtype='object')"
      ]
     },
     "execution_count": 5,
     "metadata": {},
     "output_type": "execute_result"
    }
   ],
   "source": [
    "# code here\n",
    "trees.columns"
   ]
  },
  {
   "cell_type": "markdown",
   "metadata": {},
   "source": [
    "# Make train test split"
   ]
  },
  {
   "cell_type": "markdown",
   "metadata": {},
   "source": [
    "#### Random split"
   ]
  },
  {
   "cell_type": "markdown",
   "metadata": {},
   "source": [
    "Import `train_test_split` from scikit-learn."
   ]
  },
  {
   "cell_type": "code",
   "execution_count": 6,
   "metadata": {},
   "outputs": [],
   "source": [
    "# code here\n",
    "from sklearn.model_selection import train_test_split as tts"
   ]
  },
  {
   "cell_type": "markdown",
   "metadata": {},
   "source": [
    "In the following we want to build a machine learning model that helps us predict the plantation year for different trees based on their characteristics.\n",
    "\n",
    "For this you have to first remove the column `ANNEEDEPLANTATION` from the dataframe and save the result in the variable `year`. Hint: use `pop`"
   ]
  },
  {
   "cell_type": "code",
   "execution_count": 7,
   "metadata": {},
   "outputs": [
    {
     "data": {
      "text/plain": [
       "0        2014.0\n",
       "1        2014.0\n",
       "2        2014.0\n",
       "3        2014.0\n",
       "4        2014.0\n",
       "          ...  \n",
       "31948    1991.0\n",
       "31949    1991.0\n",
       "31950    1991.0\n",
       "31951    1991.0\n",
       "31952    1991.0\n",
       "Name: ANNEEDEPLANTATION, Length: 31400, dtype: float64"
      ]
     },
     "execution_count": 7,
     "metadata": {},
     "output_type": "execute_result"
    }
   ],
   "source": [
    "# code here\n",
    "year=trees.pop(\"ANNEEDEPLANTATION\")\n",
    "year"
   ]
  },
  {
   "cell_type": "markdown",
   "metadata": {},
   "source": [
    "Split the `trees` and the `year` data into train and test partitions. Use seed=800.\n",
    "\n",
    "You must save the result in 4 variables: X_train (instances in the train set), X_test (instances in the test set), y_train (labels corresponding to the instances in the train set), y_test (labels corresponding to the instances in the test set).\n",
    "\n",
    "For clarifications, read the `train_test_split` documentation."
   ]
  },
  {
   "cell_type": "code",
   "execution_count": 8,
   "metadata": {},
   "outputs": [],
   "source": [
    "# code here\n",
    "X_train,X_test,Y_train,Y_test=tts(trees,year,random_state=800)"
   ]
  },
  {
   "cell_type": "markdown",
   "metadata": {},
   "source": [
    "I need to be explained the pupose of spliting X and Y since they are randomly chosen onto the same index.\n",
    "We can specify after whenever we want\n",
    "\n",
    "Is that a speed efficiency reason ?"
   ]
  },
  {
   "cell_type": "markdown",
   "metadata": {},
   "source": [
    "How many instanes are there in the train set?"
   ]
  },
  {
   "cell_type": "code",
   "execution_count": 9,
   "metadata": {},
   "outputs": [],
   "source": [
    "# code here 31400-800"
   ]
  },
  {
   "cell_type": "code",
   "execution_count": 10,
   "metadata": {},
   "outputs": [
    {
     "data": {
      "text/plain": [
       "(23550, 13)"
      ]
     },
     "execution_count": 10,
     "metadata": {},
     "output_type": "execute_result"
    }
   ],
   "source": [
    "X_train.shape"
   ]
  },
  {
   "cell_type": "markdown",
   "metadata": {},
   "source": [
    "How many instances are there in the test set?"
   ]
  },
  {
   "cell_type": "code",
   "execution_count": 11,
   "metadata": {},
   "outputs": [
    {
     "data": {
      "text/plain": [
       "(7850, 13)"
      ]
     },
     "execution_count": 11,
     "metadata": {},
     "output_type": "execute_result"
    }
   ],
   "source": [
    "# code here\n",
    "X_test.shape"
   ]
  },
  {
   "cell_type": "code",
   "execution_count": 12,
   "metadata": {},
   "outputs": [
    {
     "data": {
      "text/plain": [
       "Index(['ELEM_POINT_ID', 'CODE', 'SOUS_CATEGORIE', 'SOUS_CATEGORIE_DESC',\n",
       "       'CODE_PARENT', 'CODE_PARENT_DESC', 'ADR_SECTEUR', 'GENRE_BOTA',\n",
       "       'ESPECE', 'STADEDEDEVELOPPEMENT', 'COLLECTIVITE', 'LONGITUDE',\n",
       "       'LATITUDE'],\n",
       "      dtype='object')"
      ]
     },
     "execution_count": 12,
     "metadata": {},
     "output_type": "execute_result"
    }
   ],
   "source": [
    "X_train.columns"
   ]
  },
  {
   "cell_type": "markdown",
   "metadata": {},
   "source": [
    "# Basic stats"
   ]
  },
  {
   "cell_type": "markdown",
   "metadata": {},
   "source": [
    "Display basic statistics on the train data (count, mean, std, etc.) - do it in one line! "
   ]
  },
  {
   "cell_type": "code",
   "execution_count": 13,
   "metadata": {},
   "outputs": [
    {
     "data": {
      "text/html": [
       "<div>\n",
       "<style scoped>\n",
       "    .dataframe tbody tr th:only-of-type {\n",
       "        vertical-align: middle;\n",
       "    }\n",
       "\n",
       "    .dataframe tbody tr th {\n",
       "        vertical-align: top;\n",
       "    }\n",
       "\n",
       "    .dataframe thead th {\n",
       "        text-align: right;\n",
       "    }\n",
       "</style>\n",
       "<table border=\"1\" class=\"dataframe\">\n",
       "  <thead>\n",
       "    <tr style=\"text-align: right;\">\n",
       "      <th></th>\n",
       "      <th>ELEM_POINT_ID</th>\n",
       "      <th>ADR_SECTEUR</th>\n",
       "      <th>LONGITUDE</th>\n",
       "      <th>LATITUDE</th>\n",
       "    </tr>\n",
       "  </thead>\n",
       "  <tbody>\n",
       "    <tr>\n",
       "      <td>count</td>\n",
       "      <td>23550.000000</td>\n",
       "      <td>23550.000000</td>\n",
       "      <td>23550.000000</td>\n",
       "      <td>23550.000000</td>\n",
       "    </tr>\n",
       "    <tr>\n",
       "      <td>mean</td>\n",
       "      <td>18363.025520</td>\n",
       "      <td>3.859830</td>\n",
       "      <td>45.176859</td>\n",
       "      <td>5.727327</td>\n",
       "    </tr>\n",
       "    <tr>\n",
       "      <td>std</td>\n",
       "      <td>11045.924091</td>\n",
       "      <td>1.697496</td>\n",
       "      <td>0.011904</td>\n",
       "      <td>0.012859</td>\n",
       "    </tr>\n",
       "    <tr>\n",
       "      <td>min</td>\n",
       "      <td>1.000000</td>\n",
       "      <td>1.000000</td>\n",
       "      <td>45.151572</td>\n",
       "      <td>5.697915</td>\n",
       "    </tr>\n",
       "    <tr>\n",
       "      <td>25%</td>\n",
       "      <td>8958.250000</td>\n",
       "      <td>2.000000</td>\n",
       "      <td>45.165925</td>\n",
       "      <td>5.717535</td>\n",
       "    </tr>\n",
       "    <tr>\n",
       "      <td>50%</td>\n",
       "      <td>17889.500000</td>\n",
       "      <td>4.000000</td>\n",
       "      <td>45.175541</td>\n",
       "      <td>5.729574</td>\n",
       "    </tr>\n",
       "    <tr>\n",
       "      <td>75%</td>\n",
       "      <td>27029.750000</td>\n",
       "      <td>5.000000</td>\n",
       "      <td>45.186669</td>\n",
       "      <td>5.737341</td>\n",
       "    </tr>\n",
       "    <tr>\n",
       "      <td>max</td>\n",
       "      <td>43041.000000</td>\n",
       "      <td>6.000000</td>\n",
       "      <td>45.224825</td>\n",
       "      <td>5.798704</td>\n",
       "    </tr>\n",
       "  </tbody>\n",
       "</table>\n",
       "</div>"
      ],
      "text/plain": [
       "       ELEM_POINT_ID   ADR_SECTEUR     LONGITUDE      LATITUDE\n",
       "count   23550.000000  23550.000000  23550.000000  23550.000000\n",
       "mean    18363.025520      3.859830     45.176859      5.727327\n",
       "std     11045.924091      1.697496      0.011904      0.012859\n",
       "min         1.000000      1.000000     45.151572      5.697915\n",
       "25%      8958.250000      2.000000     45.165925      5.717535\n",
       "50%     17889.500000      4.000000     45.175541      5.729574\n",
       "75%     27029.750000      5.000000     45.186669      5.737341\n",
       "max     43041.000000      6.000000     45.224825      5.798704"
      ]
     },
     "execution_count": 13,
     "metadata": {},
     "output_type": "execute_result"
    }
   ],
   "source": [
    "# code here\n",
    "X_train.describe()"
   ]
  },
  {
   "cell_type": "markdown",
   "metadata": {},
   "source": [
    "Display basic statistics on the test data (count, mean, std, etc.) - do it in one line! "
   ]
  },
  {
   "cell_type": "code",
   "execution_count": 14,
   "metadata": {},
   "outputs": [
    {
     "data": {
      "text/html": [
       "<div>\n",
       "<style scoped>\n",
       "    .dataframe tbody tr th:only-of-type {\n",
       "        vertical-align: middle;\n",
       "    }\n",
       "\n",
       "    .dataframe tbody tr th {\n",
       "        vertical-align: top;\n",
       "    }\n",
       "\n",
       "    .dataframe thead th {\n",
       "        text-align: right;\n",
       "    }\n",
       "</style>\n",
       "<table border=\"1\" class=\"dataframe\">\n",
       "  <thead>\n",
       "    <tr style=\"text-align: right;\">\n",
       "      <th></th>\n",
       "      <th>ELEM_POINT_ID</th>\n",
       "      <th>ADR_SECTEUR</th>\n",
       "      <th>LONGITUDE</th>\n",
       "      <th>LATITUDE</th>\n",
       "    </tr>\n",
       "  </thead>\n",
       "  <tbody>\n",
       "    <tr>\n",
       "      <td>count</td>\n",
       "      <td>23550.000000</td>\n",
       "      <td>23550.000000</td>\n",
       "      <td>23550.000000</td>\n",
       "      <td>23550.000000</td>\n",
       "    </tr>\n",
       "    <tr>\n",
       "      <td>mean</td>\n",
       "      <td>18363.025520</td>\n",
       "      <td>3.859830</td>\n",
       "      <td>45.176859</td>\n",
       "      <td>5.727327</td>\n",
       "    </tr>\n",
       "    <tr>\n",
       "      <td>std</td>\n",
       "      <td>11045.924091</td>\n",
       "      <td>1.697496</td>\n",
       "      <td>0.011904</td>\n",
       "      <td>0.012859</td>\n",
       "    </tr>\n",
       "    <tr>\n",
       "      <td>min</td>\n",
       "      <td>1.000000</td>\n",
       "      <td>1.000000</td>\n",
       "      <td>45.151572</td>\n",
       "      <td>5.697915</td>\n",
       "    </tr>\n",
       "    <tr>\n",
       "      <td>25%</td>\n",
       "      <td>8958.250000</td>\n",
       "      <td>2.000000</td>\n",
       "      <td>45.165925</td>\n",
       "      <td>5.717535</td>\n",
       "    </tr>\n",
       "    <tr>\n",
       "      <td>50%</td>\n",
       "      <td>17889.500000</td>\n",
       "      <td>4.000000</td>\n",
       "      <td>45.175541</td>\n",
       "      <td>5.729574</td>\n",
       "    </tr>\n",
       "    <tr>\n",
       "      <td>75%</td>\n",
       "      <td>27029.750000</td>\n",
       "      <td>5.000000</td>\n",
       "      <td>45.186669</td>\n",
       "      <td>5.737341</td>\n",
       "    </tr>\n",
       "    <tr>\n",
       "      <td>max</td>\n",
       "      <td>43041.000000</td>\n",
       "      <td>6.000000</td>\n",
       "      <td>45.224825</td>\n",
       "      <td>5.798704</td>\n",
       "    </tr>\n",
       "  </tbody>\n",
       "</table>\n",
       "</div>"
      ],
      "text/plain": [
       "       ELEM_POINT_ID   ADR_SECTEUR     LONGITUDE      LATITUDE\n",
       "count   23550.000000  23550.000000  23550.000000  23550.000000\n",
       "mean    18363.025520      3.859830     45.176859      5.727327\n",
       "std     11045.924091      1.697496      0.011904      0.012859\n",
       "min         1.000000      1.000000     45.151572      5.697915\n",
       "25%      8958.250000      2.000000     45.165925      5.717535\n",
       "50%     17889.500000      4.000000     45.175541      5.729574\n",
       "75%     27029.750000      5.000000     45.186669      5.737341\n",
       "max     43041.000000      6.000000     45.224825      5.798704"
      ]
     },
     "execution_count": 14,
     "metadata": {},
     "output_type": "execute_result"
    }
   ],
   "source": [
    "# code here\n",
    "X_train.describe()"
   ]
  },
  {
   "cell_type": "markdown",
   "metadata": {},
   "source": [
    "Display the distribution of the labels in the train set using a histogram with 50 bins. Do not call matplotlib explicitly."
   ]
  },
  {
   "cell_type": "code",
   "execution_count": 55,
   "metadata": {},
   "outputs": [
    {
     "data": {
      "text/plain": [
       "array([[<matplotlib.axes._subplots.AxesSubplot object at 0x00000232EC608EC8>,\n",
       "        <matplotlib.axes._subplots.AxesSubplot object at 0x00000232EC60D088>],\n",
       "       [<matplotlib.axes._subplots.AxesSubplot object at 0x00000232EC63D548>,\n",
       "        <matplotlib.axes._subplots.AxesSubplot object at 0x00000232EC670B88>]],\n",
       "      dtype=object)"
      ]
     },
     "execution_count": 55,
     "metadata": {},
     "output_type": "execute_result"
    },
    {
     "data": {
      "image/png": "[encoded data removed]",
      "text/plain": [
       "<Figure size 432x288 with 4 Axes>"
      ]
     },
     "metadata": {
      "needs_background": "light"
     },
     "output_type": "display_data"
    }
   ],
   "source": [
    "# code here\n",
    "import seaborn as sns\n",
    "#sns.countplot(X_train.SOUS_CATEGORIE)\n",
    "#sns.countplot(X_train.CODE_PARENT)\n",
    "X_train.hist(bins=50)"
   ]
  },
  {
   "cell_type": "markdown",
   "metadata": {},
   "source": [
    "Display the distribution of the data in different columns of the train set using a histogram default number of bins. Do not call matplotlib explicitly and do it in one line!"
   ]
  },
  {
   "cell_type": "code",
   "execution_count": 16,
   "metadata": {},
   "outputs": [
    {
     "data": {
      "text/plain": [
       "array([[<matplotlib.axes._subplots.AxesSubplot object at 0x00000232EACBBA88>,\n",
       "        <matplotlib.axes._subplots.AxesSubplot object at 0x00000232EAC3FEC8>],\n",
       "       [<matplotlib.axes._subplots.AxesSubplot object at 0x00000232EACF0488>,\n",
       "        <matplotlib.axes._subplots.AxesSubplot object at 0x00000232EAD25EC8>]],\n",
       "      dtype=object)"
      ]
     },
     "execution_count": 16,
     "metadata": {},
     "output_type": "execute_result"
    },
    {
     "data": {
      "image/png": "[encoded data removed]",
      "text/plain": [
       "<Figure size 432x288 with 4 Axes>"
      ]
     },
     "metadata": {
      "needs_background": "light"
     },
     "output_type": "display_data"
    }
   ],
   "source": [
    "# code here\n",
    "X_train.hist(bins=10)"
   ]
  },
  {
   "cell_type": "markdown",
   "metadata": {},
   "source": [
    "Display the number of missing values for each column in the dataframe."
   ]
  },
  {
   "cell_type": "code",
   "execution_count": 17,
   "metadata": {},
   "outputs": [
    {
     "data": {
      "text/plain": [
       "ELEM_POINT_ID              0\n",
       "CODE                       0\n",
       "SOUS_CATEGORIE             0\n",
       "SOUS_CATEGORIE_DESC        0\n",
       "CODE_PARENT                0\n",
       "CODE_PARENT_DESC           0\n",
       "ADR_SECTEUR                0\n",
       "GENRE_BOTA                29\n",
       "ESPECE                  1294\n",
       "STADEDEDEVELOPPEMENT    1304\n",
       "COLLECTIVITE               0\n",
       "LONGITUDE                  0\n",
       "LATITUDE                   0\n",
       "dtype: int64"
      ]
     },
     "execution_count": 17,
     "metadata": {},
     "output_type": "execute_result"
    }
   ],
   "source": [
    "# code here\n",
    "X_train.isnull().sum()"
   ]
  },
  {
   "cell_type": "markdown",
   "metadata": {},
   "source": [
    "# Building a first naive model\n",
    "\n",
    "We will consider we can determine the plantation year of trees in the test set based solely on the median value of the plantation year for the trees in the train set."
   ]
  },
  {
   "cell_type": "markdown",
   "metadata": {},
   "source": [
    "Display the median value of plantation year for trees in the train set."
   ]
  },
  {
   "cell_type": "code",
   "execution_count": 18,
   "metadata": {},
   "outputs": [
    {
     "data": {
      "text/plain": [
       "1985.0"
      ]
     },
     "execution_count": 18,
     "metadata": {},
     "output_type": "execute_result"
    }
   ],
   "source": [
    "# code here\n",
    "m=Y_train.median()\n",
    "m"
   ]
  },
  {
   "cell_type": "markdown",
   "metadata": {},
   "source": [
    "Display the shape of the test set."
   ]
  },
  {
   "cell_type": "code",
   "execution_count": 19,
   "metadata": {},
   "outputs": [
    {
     "data": {
      "text/plain": [
       "(7850, 13)"
      ]
     },
     "execution_count": 19,
     "metadata": {},
     "output_type": "execute_result"
    }
   ],
   "source": [
    "# code here\n",
    "X_test.shape"
   ]
  },
  {
   "cell_type": "markdown",
   "metadata": {},
   "source": [
    "Create a variable `y_test_pred`. This will serve to store the predictions of your machine learning model on the test set.\n",
    "\n",
    "It has to be an array of the same length as the number of test examples (in X_test).\n",
    "\n",
    "Initialize this variable to have the median value from the train set."
   ]
  },
  {
   "cell_type": "code",
   "execution_count": 20,
   "metadata": {},
   "outputs": [],
   "source": [
    "# code here\n",
    "y_test_pred=X_test.where(X_test==np.nan).fillna(m)\n"
   ]
  },
  {
   "cell_type": "markdown",
   "metadata": {},
   "source": [
    "Display the contents of `y_test_pred`"
   ]
  },
  {
   "cell_type": "code",
   "execution_count": 21,
   "metadata": {},
   "outputs": [
    {
     "data": {
      "text/plain": [
       "ELEM_POINT_ID           1985.0\n",
       "CODE                    1985.0\n",
       "SOUS_CATEGORIE          1985.0\n",
       "SOUS_CATEGORIE_DESC     1985.0\n",
       "CODE_PARENT             1985.0\n",
       "CODE_PARENT_DESC        1985.0\n",
       "ADR_SECTEUR             1985.0\n",
       "GENRE_BOTA              1985.0\n",
       "ESPECE                  1985.0\n",
       "STADEDEDEVELOPPEMENT    1985.0\n",
       "COLLECTIVITE            1985.0\n",
       "LONGITUDE               1985.0\n",
       "LATITUDE                1985.0\n",
       "dtype: float64"
      ]
     },
     "execution_count": 21,
     "metadata": {},
     "output_type": "execute_result"
    }
   ],
   "source": [
    "# code here\n",
    "y_test_pred.median()"
   ]
  },
  {
   "cell_type": "markdown",
   "metadata": {},
   "source": [
    "Import from the scikit-learn library the necessary function to compute the mean squared error."
   ]
  },
  {
   "cell_type": "code",
   "execution_count": 22,
   "metadata": {},
   "outputs": [],
   "source": [
    "# code here\n",
    "import sklearn as sk\n"
   ]
  },
  {
   "cell_type": "markdown",
   "metadata": {},
   "source": [
    "Apply the function to compute the error on the test set. Print the result."
   ]
  },
  {
   "cell_type": "code",
   "execution_count": 23,
   "metadata": {},
   "outputs": [
    {
     "data": {
      "text/plain": [
       "310.200127388535"
      ]
     },
     "execution_count": 23,
     "metadata": {},
     "output_type": "execute_result"
    }
   ],
   "source": [
    "# code here\n",
    "sk.metrics.mean_squared_error(y_test_pred.iloc[:,0],Y_test)"
   ]
  },
  {
   "cell_type": "markdown",
   "metadata": {},
   "source": [
    "# Prepare data and build new models"
   ]
  },
  {
   "cell_type": "markdown",
   "metadata": {},
   "source": [
    "### 1. Make a processing pipeline using only numerical data"
   ]
  },
  {
   "cell_type": "code",
   "execution_count": 24,
   "metadata": {},
   "outputs": [],
   "source": [
    "from sklearn.base import BaseEstimator, TransformerMixin\n",
    "from sklearn.impute import SimpleImputer\n",
    "from sklearn.pipeline import Pipeline\n",
    "from sklearn.preprocessing import StandardScaler\n",
    "from sklearn.preprocessing import OneHotEncoder\n"
   ]
  },
  {
   "cell_type": "markdown",
   "metadata": {},
   "source": [
    "Inspect the following code and write what it does the cell below."
   ]
  },
  {
   "cell_type": "code",
   "execution_count": 25,
   "metadata": {},
   "outputs": [],
   "source": [
    "from scipy.stats import zscore\n",
    "\n",
    "class DataFrameSelector(BaseEstimator, TransformerMixin):\n",
    "    def __init__(self, attribute_names):\n",
    "        self.attribute_names = attribute_names\n",
    "        \n",
    "    def fit(self, X, y=None):\n",
    "        return self\n",
    "    def transform(self, X):\n",
    "        return X[self.attribute_names].values\n",
    "    \n",
    "    def fit_2(self,X,y=None):\n",
    "        return zscore(self,ddof=1)"
   ]
  },
  {
   "cell_type": "markdown",
   "metadata": {},
   "source": [
    "*Answer here*\n",
    "\n",
    "Create un object, which doen't change through the method fit. \n",
    "\n",
    "But return a Dataframe reduced to some columns chosen.\n",
    "\n",
    "The colone chosen depend of the name of the attributes given when creating the object"
   ]
  },
  {
   "cell_type": "markdown",
   "metadata": {},
   "source": [
    "Define a `Pipeline` consisting of 3 steps: \n",
    "- selecting only the numerical attributes from the dataframe that could make sense for the prediction (longitude and latitude), \n",
    "- replacing missing values with the median of each column, \n",
    "- normalizing the data (removing the mean and scaling to unit variance).\n",
    "\n",
    "For this, get help from the scikit learn documentation related to the corresponding functions.\n",
    "Your code has to be one line!"
   ]
  },
  {
   "cell_type": "code",
   "execution_count": 56,
   "metadata": {},
   "outputs": [],
   "source": [
    "num_attribs = ['LONGITUDE', 'LATITUDE']\n",
    "\n",
    "# code here\n",
    "from sklearn import pipeline as pi\n",
    "num_pipeline = pi.make_pipeline(DataFrameSelector(num_attribs),SimpleImputer(strategy=\"median\"),StandardScaler())"
   ]
  },
  {
   "cell_type": "markdown",
   "metadata": {},
   "source": [
    "Inspect the longitude and latitude of the first elements in the train set."
   ]
  },
  {
   "cell_type": "code",
   "execution_count": 60,
   "metadata": {},
   "outputs": [
    {
     "data": {
      "text/plain": [
       "array([[-0.50718517,  0.59001192],\n",
       "       [-0.4972735 ,  0.98272516],\n",
       "       [ 1.09862121,  0.96888736],\n",
       "       ...,\n",
       "       [ 0.7295437 ,  1.12437548],\n",
       "       [ 1.43522577,  0.25513703],\n",
       "       [-0.10783445, -0.76219774]])"
      ]
     },
     "execution_count": 60,
     "metadata": {},
     "output_type": "execute_result"
    }
   ],
   "source": [
    "# code here\n",
    "num_pipeline.fit_transform(X_train)"
   ]
  },
  {
   "cell_type": "markdown",
   "metadata": {},
   "source": [
    "Read the documentation for `fit_transform()` if you are unfamiliar with the method.\n",
    "\n",
    "Apply the `fit_transform()` to the train data and save the result in `X_trainT`. Inspect its shape."
   ]
  },
  {
   "cell_type": "code",
   "execution_count": 61,
   "metadata": {},
   "outputs": [
    {
     "data": {
      "text/plain": [
       "(23550, 2)"
      ]
     },
     "execution_count": 61,
     "metadata": {},
     "output_type": "execute_result"
    }
   ],
   "source": [
    "# code here\n",
    "X_trainT=num_pipeline.fit_transform(X_train)\n",
    "X_trainT.shape"
   ]
  },
  {
   "cell_type": "markdown",
   "metadata": {},
   "source": [
    "Apply the `transform` to the test data. Save the result in a variable `X_testT` and print it."
   ]
  },
  {
   "cell_type": "code",
   "execution_count": 62,
   "metadata": {},
   "outputs": [
    {
     "data": {
      "text/plain": [
       "array([[ 0.01052574,  1.12904697],\n",
       "       [-0.9080982 , -0.12805059],\n",
       "       [ 0.00893492, -1.68527105],\n",
       "       ...,\n",
       "       [-1.18461785, -1.32366152],\n",
       "       [ 1.56324796,  0.68994503],\n",
       "       [-0.87258273, -1.28927307]])"
      ]
     },
     "execution_count": 62,
     "metadata": {},
     "output_type": "execute_result"
    }
   ],
   "source": [
    "# code here\n",
    "num_pipeline.transform(X_test)"
   ]
  },
  {
   "cell_type": "markdown",
   "metadata": {},
   "source": [
    "What does the above output represent?"
   ]
  },
  {
   "cell_type": "markdown",
   "metadata": {},
   "source": [
    "*answer here*\n",
    "\n",
    "A biased result since the median was put before correction when taking train, which is part of our data"
   ]
  },
  {
   "cell_type": "markdown",
   "metadata": {},
   "source": [
    "Repeat the above process by selectively commenting parts of the processing in the `Pipeline` and changing the missing values handling strategy. Observe the results and write down your observations below."
   ]
  },
  {
   "cell_type": "code",
   "execution_count": 30,
   "metadata": {},
   "outputs": [
    {
     "data": {
      "text/plain": [
       "array([[-0.5071744 ,  0.58999939],\n",
       "       [-0.49726294,  0.98270429],\n",
       "       [ 1.09859788,  0.96886679],\n",
       "       ...,\n",
       "       [ 0.72952821,  1.12435161],\n",
       "       [ 1.4351953 ,  0.25513162],\n",
       "       [-0.10783216, -0.76218156]])"
      ]
     },
     "execution_count": 30,
     "metadata": {},
     "output_type": "execute_result"
    }
   ],
   "source": [
    "class DataFrameSelector(BaseEstimator, TransformerMixin):\n",
    "    def __init__(self, attribute_names):\n",
    "        self.attribute_names = attribute_names\n",
    "        \n",
    "    def fit(self, X, y=None):\n",
    "        return self\n",
    "    def transform(self, X):\n",
    "        return zscore(X[self.attribute_names],ddof=1)\n",
    "\n",
    "    \n",
    "num_pipeline2 = pi.make_pipeline(DataFrameSelector(num_attribs),SimpleImputer(strategy=\"median\"))\n",
    "num_pipeline2.fit(X_train).transform(X_train)"
   ]
  },
  {
   "cell_type": "markdown",
   "metadata": {},
   "source": [
    "*answer here*\n",
    "\n",
    "by letting the void value before scaling, we assume having a better approimation"
   ]
  },
  {
   "cell_type": "markdown",
   "metadata": {},
   "source": [
    "What are `Pipeline`s useful for? Answer below."
   ]
  },
  {
   "cell_type": "markdown",
   "metadata": {},
   "source": [
    "*answer here*\n",
    "They allow to simplify chain of operation on the same dataset.\n",
    "Through classmethod, they allow a lot of things."
   ]
  },
  {
   "cell_type": "markdown",
   "metadata": {},
   "source": [
    "### 2. Start modelling!"
   ]
  },
  {
   "cell_type": "markdown",
   "metadata": {},
   "source": [
    "Now we can start modelling. We will start with a Linear Regression model.\n",
    "\n",
    "#### Linear Regression\n",
    "\n",
    "Import from scikit learn what is necessary to 1)perform linear regression and to 2)compute the cross validation score (`cross_val_score`).\n"
   ]
  },
  {
   "cell_type": "code",
   "execution_count": 31,
   "metadata": {},
   "outputs": [],
   "source": [
    "# code here\n",
    "from sklearn import linear_model as lm\n",
    "from sklearn.model_selection import cross_val_score as cvs"
   ]
  },
  {
   "cell_type": "markdown",
   "metadata": {},
   "source": [
    "Inspect the documentation pages of the above two functions to understand their usage.\n",
    "\n",
    "To better understand how cross validation works, read the documentation page from scikit learn `3.1. Cross-validation: evaluating estimator performance` up until Section `3.1.1`."
   ]
  },
  {
   "cell_type": "markdown",
   "metadata": {},
   "source": [
    "Create a linear regression instance and save it in the `lin_reg` variable below. Build a model on the training set, calling the `fit()` method."
   ]
  },
  {
   "cell_type": "code",
   "execution_count": 32,
   "metadata": {},
   "outputs": [
    {
     "data": {
      "text/plain": [
       "LinearRegression(copy_X=True, fit_intercept=True, n_jobs=None, normalize=False)"
      ]
     },
     "execution_count": 32,
     "metadata": {},
     "output_type": "execute_result"
    }
   ],
   "source": [
    "lin_reg = lm.LinearRegression()\n",
    "lin_reg.fit(X_trainT,Y_train)"
   ]
  },
  {
   "cell_type": "markdown",
   "metadata": {},
   "source": [
    "Run 10-fold cross validation with the metric to apply to the estimator (i.e. the scoring function) set to mean squared error.\n",
    "\n",
    "Print the resulting scores of the cross validation and the descriptive statistics (mean, std, etc.)"
   ]
  },
  {
   "cell_type": "code",
   "execution_count": 77,
   "metadata": {},
   "outputs": [
    {
     "name": "stdout",
     "output_type": "stream",
     "text": [
      "[16.75472311 16.7125099  16.74382214 17.0476053  16.68006313 16.61152094\n",
      " 16.88315977 17.02302232 16.75895753 17.04188712] \n",
      "mean : 16.825727126229268 \n",
      "std : 0.15307108550230486 \n",
      "max : 17.047605296945644\n"
     ]
    }
   ],
   "source": [
    "# code here\n",
    "a=cvs(lin_reg,num_pipeline2.fit(X_train).transform(X_train),Y_train,cv=10,scoring='neg_mean_squared_error')\n",
    "print(np.sqrt(-a),\"\\nmean :\",np.sqrt(-a).mean(),\"\\nstd :\",np.sqrt(-a).std(),\"\\nmax :\",np.sqrt(-a).max())"
   ]
  },
  {
   "cell_type": "markdown",
   "metadata": {},
   "source": [
    "#### Decision Trees\n",
    "\n",
    "Import from scikit learn what is necessary to build a Decision Trees model for a regression problem."
   ]
  },
  {
   "cell_type": "code",
   "execution_count": 34,
   "metadata": {},
   "outputs": [],
   "source": [
    "# code here\n",
    "from sklearn.tree import DecisionTreeRegressor"
   ]
  },
  {
   "cell_type": "markdown",
   "metadata": {},
   "source": [
    "Create an instance of a `DecisionTreeRegressor` with `random_state=43` and save it in the `tree_reg` variable below. Leave all the other parameters to their default values. Build a model on the training set, calling the `fit()` method."
   ]
  },
  {
   "cell_type": "code",
   "execution_count": 35,
   "metadata": {},
   "outputs": [
    {
     "data": {
      "text/plain": [
       "DecisionTreeRegressor(criterion='mse', max_depth=None, max_features=None,\n",
       "                      max_leaf_nodes=None, min_impurity_decrease=0.0,\n",
       "                      min_impurity_split=None, min_samples_leaf=1,\n",
       "                      min_samples_split=2, min_weight_fraction_leaf=0.0,\n",
       "                      presort=False, random_state=43, splitter='best')"
      ]
     },
     "execution_count": 35,
     "metadata": {},
     "output_type": "execute_result"
    }
   ],
   "source": [
    "tree_reg = DecisionTreeRegressor(random_state=43)\n",
    "tree_reg.fit(X_trainT,Y_train)"
   ]
  },
  {
   "cell_type": "markdown",
   "metadata": {},
   "source": [
    "Run 10-fold cross validation with the metric to apply to the estimator (i.e. the scoring function) set to mean squared error.\n",
    "\n",
    "Print the resulting scores of the cross validation and the descriptive statistics (mean, std, etc.)"
   ]
  },
  {
   "cell_type": "code",
   "execution_count": 79,
   "metadata": {},
   "outputs": [
    {
     "name": "stdout",
     "output_type": "stream",
     "text": [
      "[12.17483221 12.67688855 12.59915661 12.18778233 12.01927415 12.97972451\n",
      " 12.61107339 12.58116325 12.96264026 13.11808609] \n",
      "mean : 12.591062134899333 \n",
      "std : 0.3518005925664956 \n",
      "max : 13.118086087163537\n"
     ]
    }
   ],
   "source": [
    "# code here\n",
    "a=cvs(tree_reg,X_trainT,Y_train,cv=10,scoring='neg_mean_squared_error')\n",
    "a\n",
    "print(np.sqrt(-a),\"\\nmean :\",np.sqrt(-a).mean(),\"\\nstd :\",np.sqrt(-a).std(),\"\\nmax :\",np.sqrt(-a).max())"
   ]
  },
  {
   "cell_type": "markdown",
   "metadata": {},
   "source": [
    "How are the results obtained using the `DecisionTreeRegressor` in comparison to the results obtained using `LinearRegression` and in comparison to the Naive Model from the beginning of this notebook? \n",
    "\n",
    "Write down below the mean squared error value for each of them and your conclusions."
   ]
  },
  {
   "cell_type": "markdown",
   "metadata": {},
   "source": [
    "*answer here*\n",
    "\n",
    "Better result, points are closer to the mean.\n",
    "\n",
    "Naive<LinearRegression<Cross_valdation\n",
    "\n",
    "315 > 280 > 150"
   ]
  },
  {
   "cell_type": "markdown",
   "metadata": {},
   "source": [
    "### 3. Alter the hyper-parameters of the model\n",
    "\n",
    "Previously you called the `DecisionTreeRegressor`function with default parameters.\n",
    "\n",
    "In the following we will explore running different Decision Tree models with different parameters.\n",
    "\n",
    "To begin with, inspect the scikit learn page of `DecisionTreeRegressor` to understand which are the possible different hyper-parameters that you can adjust. Call a function to get the parameters of the `DecisionTreeRegressor`, save the result in a variable and display its contents below.\n"
   ]
  },
  {
   "cell_type": "code",
   "execution_count": 81,
   "metadata": {},
   "outputs": [
    {
     "name": "stdout",
     "output_type": "stream",
     "text": [
      "[12.17483221 12.67688855 12.59915661 12.18778233 12.01927415 12.97972451\n",
      " 12.61107339 12.58116325 12.96264026 13.11808609] \n",
      "mean : 12.591062134899333 \n",
      "std : 0.3518005925664956 \n",
      "max : 13.118086087163537\n"
     ]
    }
   ],
   "source": [
    "# code here\n",
    "\n",
    "tree_reg = DecisionTreeRegressor(random_state=43,min_samples_split=3)\n",
    "tree_reg.fit(X_trainT,Y_train)\n",
    "a=cvs(tree_reg,X_trainT,Y_train,cv=10,scoring='neg_mean_squared_error')\n",
    "a\n",
    "print(np.sqrt(-a),\"\\nmean :\",np.sqrt(-a).mean(),\"\\nstd :\",np.sqrt(-a).std(),\"\\nmax :\",np.sqrt(-a).max())"
   ]
  },
  {
   "cell_type": "markdown",
   "metadata": {},
   "source": [
    "Create 10 new instances of a `DecisionTreeRegressor` and save them in 10 different variables, while keeping `random_state=43`. \n",
    "\n",
    "For each of them alter the default parameters by inputing different values for each of the following: `min_impurity_decrease`,  `max_depth`, `max_features`. Then, for each of them build a model on the training set, calling the `fit()` method.\n"
   ]
  },
  {
   "cell_type": "code",
   "execution_count": 78,
   "metadata": {},
   "outputs": [
    {
     "name": "stdout",
     "output_type": "stream",
     "text": [
      "\n",
      "### max depth variable ####\n",
      "\n",
      "[13.02681983 13.42661367 13.32537491 13.24921296 12.82112129 13.00684022\n",
      " 12.92303113 12.89623562 13.14166571 13.27869183] \n",
      "mean : 13.109560715754435 \n",
      "std : 0.19419909923539144 \n",
      "max : 13.42661367081717 \n",
      "i= 0\n",
      "[13.39803456 13.73543313 13.67734621 13.72627733 13.27565682 13.72719194\n",
      " 13.37950619 13.49344174 13.57596574 13.69399652] \n",
      "mean : 13.568285017236457 \n",
      "std : 0.16179111033859142 \n",
      "max : 13.735433131319912 \n",
      "i= 1\n",
      "[13.73824579 14.28473929 14.0632778  14.14591914 13.81239496 14.15172835\n",
      " 13.81493224 14.22204641 14.03444809 14.24520161] \n",
      "mean : 14.051293368786741 \n",
      "std : 0.18752611498360822 \n",
      "max : 14.284739291145463 \n",
      "i= 2\n",
      "[14.25914557 14.52048809 14.65867874 14.64215203 14.29572004 14.32745899\n",
      " 14.40212004 14.79743497 14.5770477  14.79879463] \n",
      "mean : 14.527904080387788 \n",
      "std : 0.18994570775789124 \n",
      "max : 14.798794632883162 \n",
      "i= 3\n",
      "[14.80176793 14.89526654 14.92865366 14.93300267 14.78478329 14.67140185\n",
      " 14.81258348 15.23547724 14.8542113  15.2033734 ] \n",
      "mean : 14.912052137692367 \n",
      "std : 0.1702880705455035 \n",
      "max : 15.23547724326864 \n",
      "i= 4\n",
      "\n",
      "### max features vairable ####\n",
      "\n",
      "[13.02681983 13.42661367 13.32537491 13.24921296 12.82112129 13.00684022\n",
      " 12.92303113 12.89623562 13.14166571 13.27869183] \n",
      "mean : 13.109560715754435 \n",
      "std : 0.19419909923539144 \n",
      "max : 13.42661367081717 \n",
      "i= 5\n",
      "[14.01843757 13.41478247 13.76374106 14.1024307  13.73007752 14.15353475\n",
      " 13.93160788 14.06703702 13.61695233 14.43470513] \n",
      "mean : 13.923330644030582 \n",
      "std : 0.28136178163422376 \n",
      "max : 14.434705134913134 \n",
      "i= 6\n",
      "[14.01843757 13.41478247 13.76374106 14.1024307  13.73007752 14.15353475\n",
      " 13.93160788 14.06703702 13.61695233 14.43470513] \n",
      "mean : 13.923330644030582 \n",
      "std : 0.28136178163422376 \n",
      "max : 14.434705134913134 \n",
      "i= 7\n",
      "[14.01843757 13.41478247 13.76374106 14.1024307  13.73007752 14.15353475\n",
      " 13.93160788 14.06703702 13.61695233 14.43470513] \n",
      "mean : 13.923330644030582 \n",
      "std : 0.28136178163422376 \n",
      "max : 14.434705134913134 \n",
      "i= 8\n",
      "[14.01843757 13.41478247 13.76374106 14.1024307  13.73007752 14.15353475\n",
      " 13.93160788 14.06703702 13.61695233 14.43470513] \n",
      "mean : 13.923330644030582 \n",
      "std : 0.28136178163422376 \n",
      "max : 14.434705134913134 \n",
      "i= 9\n"
     ]
    }
   ],
   "source": [
    "# code here\n",
    "L=[\"L{}\".format(i) for i in range(10)]\n",
    "n=10\n",
    "D={}\n",
    "print(\"\\n### max depth variable ####\\n\")    \n",
    "for i in range(5):\n",
    "    D[L[i]]=DecisionTreeRegressor(random_state=43,max_depth=10-i).fit(X_trainT,Y_train)\n",
    "    a=cvs(D[L[i]],X_trainT,Y_train,cv=10,scoring='neg_mean_squared_error')\n",
    "    print(np.sqrt(-a),\"\\nmean :\",np.sqrt(-a).mean(),\"\\nstd :\",np.sqrt(-a).std(),\"\\nmax :\",np.sqrt(-a).max(),\"\\ni=\",i)\n",
    "print(\"\\n### max features vairable ####\\n\")    \n",
    "for i in range(5,10)    :\n",
    "    D[L[i]]=DecisionTreeRegressor(random_state=43,max_features=1/(i-4),max_depth=10).fit(X_trainT,Y_train)\n",
    "    a=cvs(D[L[i]],X_trainT,Y_train,cv=10,scoring='neg_mean_squared_error')\n",
    "    print(np.sqrt(-a),\"\\nmean :\",np.sqrt(-a).mean(),\"\\nstd :\",np.sqrt(-a).std(),\"\\nmax :\",np.sqrt(-a).max(),\"\\ni=\",i)"
   ]
  },
  {
   "cell_type": "markdown",
   "metadata": {},
   "source": [
    "Run 10-fold cross validation with the metric to apply to the estimator (i.e. the scoring function) set to mean squared error.\n",
    "\n",
    "Print the resulting scores of the cross validation and the descriptive statistics (mean, std, etc.) for all 10 models.\n"
   ]
  },
  {
   "cell_type": "markdown",
   "metadata": {},
   "source": [
    "# code here\n"
   ]
  },
  {
   "cell_type": "markdown",
   "metadata": {},
   "source": [
    "How is the performance different for different models? Answer below."
   ]
  },
  {
   "cell_type": "code",
   "execution_count": null,
   "metadata": {},
   "outputs": [],
   "source": []
  },
  {
   "cell_type": "markdown",
   "metadata": {},
   "source": [
    "*Answer here*\n",
    "lowering the depth naturally lower generalisation, so give worse approximation, but is better to predict\n",
    "\n",
    "max features doesn't change by much the quality of approximation for our model.\n",
    "It will for a fractal curve."
   ]
  },
  {
   "cell_type": "markdown",
   "metadata": {},
   "source": [
    "### 4. Evaluate the models on the test set"
   ]
  },
  {
   "cell_type": "markdown",
   "metadata": {},
   "source": [
    "Until now you have only investigated the performance (in terms of mean squared error) of the models on the train set. However, in practice we are interested to know how well a model generalizes on unseen data.\n",
    "\n",
    "Evaluate each of the above models on the test set. Record below the following: \n",
    "* model name & parameters\n",
    "* model score on the train set\n",
    "* model score on the test set\n",
    "\n",
    "Rememeber: you had to apply the exact same pre-processing steps for the train and test set: you did this in Section `Make a processing pipeline using only numerical data` and saved the results in `X_trainT` and `X_testT`."
   ]
  },
  {
   "cell_type": "code",
   "execution_count": 82,
   "metadata": {
    "scrolled": true
   },
   "outputs": [
    {
     "name": "stdout",
     "output_type": "stream",
     "text": [
      "i: 0 :  14.010820859596782\n",
      "i: 1 :  14.164390365084705\n",
      "i: 2 :  14.40169280979942\n",
      "i: 3 :  14.721593586927916\n",
      "i: 4 :  15.000638299678046\n",
      "i: 5 :  14.010820859596782\n",
      "i: 6 :  14.6336929038713\n",
      "i: 7 :  14.6336929038713\n",
      "i: 8 :  14.6336929038713\n",
      "i: 9 :  14.6336929038713\n"
     ]
    }
   ],
   "source": [
    "# code here\n",
    "num_pipeline = pi.make_pipeline(DataFrameSelector(num_attribs),SimpleImputer(strategy=\"median\"),StandardScaler())\n",
    "X_testT=num_pipeline.fit(X_test).transform(X_test)\n",
    "for i in range(10):\n",
    "    print(\"i:\",i,\": \",np.sqrt(sk.metrics.mean_squared_error(D[L[i]].predict(X_testT),Y_test)))\n",
    "    "
   ]
  },
  {
   "cell_type": "markdown",
   "metadata": {},
   "source": [
    "*Answer here*"
   ]
  },
  {
   "cell_type": "code",
   "execution_count": 83,
   "metadata": {},
   "outputs": [
    {
     "data": {
      "text/plain": [
       "14.010820859596782"
      ]
     },
     "execution_count": 83,
     "metadata": {},
     "output_type": "execute_result"
    }
   ],
   "source": [
    "np.sqrt(sk.metrics.mean_squared_error(D[L[0]].predict(X_testT),Y_test))\n"
   ]
  },
  {
   "cell_type": "markdown",
   "metadata": {},
   "source": [
    "How do the models compare to each other? Can you observe any overfitting? For which model? Answer below."
   ]
  },
  {
   "cell_type": "markdown",
   "metadata": {},
   "source": [
    "*Answer here*\n",
    "\n",
    "No weirdly enough I see no difference\n",
    "\n",
    "Linear regression was bad in first place"
   ]
  },
  {
   "cell_type": "markdown",
   "metadata": {},
   "source": [
    "### 5. Grid search for the best parameters\n",
    "\n",
    "Previously, you tried several models with different values for different hyper-parameters, by choosing these values manually and evaluating each model individually. However, doing so exhaustically is impossible in practice in a given limited amount of time. \n",
    "\n",
    "In the following you will see how you can speed up the process and use a grid search over a set of parameters to find the best ones that fit the train data.\n",
    "\n",
    "For this, read the documentation for the `GridSearchCV` function in scikit learn. Make the necessary import below."
   ]
  },
  {
   "cell_type": "code",
   "execution_count": 41,
   "metadata": {},
   "outputs": [],
   "source": [
    "# code here\n",
    "from sklearn import model_selection as ms\n"
   ]
  },
  {
   "cell_type": "code",
   "execution_count": 42,
   "metadata": {},
   "outputs": [
    {
     "data": {
      "text/plain": [
       "{'criterion': 'mse',\n",
       " 'max_depth': None,\n",
       " 'max_features': None,\n",
       " 'max_leaf_nodes': None,\n",
       " 'min_impurity_decrease': 0.0,\n",
       " 'min_impurity_split': None,\n",
       " 'min_samples_leaf': 1,\n",
       " 'min_samples_split': 3,\n",
       " 'min_weight_fraction_leaf': 0.0,\n",
       " 'presort': False,\n",
       " 'random_state': 43,\n",
       " 'splitter': 'best'}"
      ]
     },
     "execution_count": 42,
     "metadata": {},
     "output_type": "execute_result"
    }
   ],
   "source": [
    "\n",
    "tree_reg.get_params()#.keys()"
   ]
  },
  {
   "cell_type": "markdown",
   "metadata": {},
   "source": [
    "Read from scikit learn the documentation page `3.2. Tuning the hyper-parameters of an estimator` to understand the usage of `GridSearchCV`.\n",
    "\n",
    "Apply a grid search strategy with 10-fold cross validation to select the best parameters for fitting the train set using a `DecisionTreeRegressor`. Use the `r2` scoring function. Make sure your grid search is done over at least 200 models (it will take a bit of time, it's normal). HINT: you can use ranges of values for setting certain hyper-parameters, instead of defining them manually.\n"
   ]
  },
  {
   "cell_type": "code",
   "execution_count": 43,
   "metadata": {},
   "outputs": [
    {
     "data": {
      "text/plain": [
       "GridSearchCV(cv=10, error_score='raise-deprecating',\n",
       "             estimator=DecisionTreeRegressor(criterion='mse', max_depth=None,\n",
       "                                             max_features=None,\n",
       "                                             max_leaf_nodes=None,\n",
       "                                             min_impurity_decrease=0.0,\n",
       "                                             min_impurity_split=None,\n",
       "                                             min_samples_leaf=1,\n",
       "                                             min_samples_split=2,\n",
       "                                             min_weight_fraction_leaf=0.0,\n",
       "                                             presort=False, random_state=None,\n",
       "                                             splitter='best'),\n",
       "             iid='warn', n_jobs=None,\n",
       "             param_grid={'max_depth': [1, 2, 3, 4, 5, 6, 7, 8, 9],\n",
       "                         'min_impurity_decrease': [0.1, 0.2, 0.3, 0.4, 0.5,\n",
       "                                                   0.6],\n",
       "                         'min_samples_leaf': [2, 4, 6, 8]},\n",
       "             pre_dispatch='2*n_jobs', refit=True, return_train_score=False,\n",
       "             scoring='r2', verbose=0)"
      ]
     },
     "execution_count": 43,
     "metadata": {},
     "output_type": "execute_result"
    }
   ],
   "source": [
    "# code here\n",
    "M=ms.GridSearchCV(DecisionTreeRegressor(),  {'min_impurity_decrease':[0.1,0.2,0.3,0.4,0.5,0.6],'max_depth': [i for i in range(1,10)], 'min_samples_leaf': [2,4,6,8]},scoring='r2',cv=10)\n",
    "M\n"
   ]
  },
  {
   "cell_type": "markdown",
   "metadata": {},
   "source": [
    "Evaluate the obtained model on both the train set and the test set. NOTE: do not forget to use the transformed version of these sets obtained after having applied the processing pipeline."
   ]
  },
  {
   "cell_type": "code",
   "execution_count": 85,
   "metadata": {},
   "outputs": [
    {
     "ename": "ValueError",
     "evalue": "Found input variables with inconsistent numbers of samples: [7850, 23550]",
     "output_type": "error",
     "traceback": [
      "\u001b[1;31m---------------------------------------------------------------------------\u001b[0m",
      "\u001b[1;31mValueError\u001b[0m                                Traceback (most recent call last)",
      "\u001b[1;32m<ipython-input-85-f5267f9647c8>\u001b[0m in \u001b[0;36m<module>\u001b[1;34m\u001b[0m\n\u001b[0;32m      1\u001b[0m \u001b[1;31m# code here\u001b[0m\u001b[1;33m\u001b[0m\u001b[1;33m\u001b[0m\u001b[1;33m\u001b[0m\u001b[0m\n\u001b[0;32m      2\u001b[0m \u001b[0mA\u001b[0m\u001b[1;33m=\u001b[0m\u001b[0mM\u001b[0m\u001b[1;33m.\u001b[0m\u001b[0mfit\u001b[0m\u001b[1;33m(\u001b[0m\u001b[0mX_trainT\u001b[0m\u001b[1;33m,\u001b[0m\u001b[0mY_train\u001b[0m\u001b[1;33m)\u001b[0m\u001b[1;33m.\u001b[0m\u001b[0mpredict\u001b[0m\u001b[1;33m(\u001b[0m\u001b[0mX_testT\u001b[0m\u001b[1;33m)\u001b[0m\u001b[1;33m\u001b[0m\u001b[1;33m\u001b[0m\u001b[0m\n\u001b[1;32m----> 3\u001b[1;33m \u001b[0mprint\u001b[0m\u001b[1;33m(\u001b[0m\u001b[0mnp\u001b[0m\u001b[1;33m.\u001b[0m\u001b[0msqrt\u001b[0m\u001b[1;33m(\u001b[0m\u001b[0msk\u001b[0m\u001b[1;33m.\u001b[0m\u001b[0mmetrics\u001b[0m\u001b[1;33m.\u001b[0m\u001b[0mmean_squared_error\u001b[0m\u001b[1;33m(\u001b[0m\u001b[0mA\u001b[0m\u001b[1;33m,\u001b[0m\u001b[0mY_test\u001b[0m\u001b[1;33m)\u001b[0m\u001b[1;33m)\u001b[0m\u001b[1;33m,\u001b[0m\u001b[1;34m\"\\n suite\"\u001b[0m\u001b[1;33m,\u001b[0m\u001b[0mnp\u001b[0m\u001b[1;33m.\u001b[0m\u001b[0msqrt\u001b[0m\u001b[1;33m(\u001b[0m\u001b[0msk\u001b[0m\u001b[1;33m.\u001b[0m\u001b[0mmetrics\u001b[0m\u001b[1;33m.\u001b[0m\u001b[0mmean_squared_error\u001b[0m\u001b[1;33m(\u001b[0m\u001b[0mA\u001b[0m\u001b[1;33m,\u001b[0m\u001b[0mY_train\u001b[0m\u001b[1;33m)\u001b[0m\u001b[1;33m)\u001b[0m\u001b[1;33m)\u001b[0m\u001b[1;33m\u001b[0m\u001b[1;33m\u001b[0m\u001b[0m\n\u001b[0m",
      "\u001b[1;32m~\\Anaconda3\\lib\\site-packages\\sklearn\\metrics\\regression.py\u001b[0m in \u001b[0;36mmean_squared_error\u001b[1;34m(y_true, y_pred, sample_weight, multioutput)\u001b[0m\n\u001b[0;32m    239\u001b[0m     \"\"\"\n\u001b[0;32m    240\u001b[0m     y_type, y_true, y_pred, multioutput = _check_reg_targets(\n\u001b[1;32m--> 241\u001b[1;33m         y_true, y_pred, multioutput)\n\u001b[0m\u001b[0;32m    242\u001b[0m     \u001b[0mcheck_consistent_length\u001b[0m\u001b[1;33m(\u001b[0m\u001b[0my_true\u001b[0m\u001b[1;33m,\u001b[0m \u001b[0my_pred\u001b[0m\u001b[1;33m,\u001b[0m \u001b[0msample_weight\u001b[0m\u001b[1;33m)\u001b[0m\u001b[1;33m\u001b[0m\u001b[1;33m\u001b[0m\u001b[0m\n\u001b[0;32m    243\u001b[0m     output_errors = np.average((y_true - y_pred) ** 2, axis=0,\n",
      "\u001b[1;32m~\\Anaconda3\\lib\\site-packages\\sklearn\\metrics\\regression.py\u001b[0m in \u001b[0;36m_check_reg_targets\u001b[1;34m(y_true, y_pred, multioutput)\u001b[0m\n\u001b[0;32m     75\u001b[0m \u001b[1;33m\u001b[0m\u001b[0m\n\u001b[0;32m     76\u001b[0m     \"\"\"\n\u001b[1;32m---> 77\u001b[1;33m     \u001b[0mcheck_consistent_length\u001b[0m\u001b[1;33m(\u001b[0m\u001b[0my_true\u001b[0m\u001b[1;33m,\u001b[0m \u001b[0my_pred\u001b[0m\u001b[1;33m)\u001b[0m\u001b[1;33m\u001b[0m\u001b[1;33m\u001b[0m\u001b[0m\n\u001b[0m\u001b[0;32m     78\u001b[0m     \u001b[0my_true\u001b[0m \u001b[1;33m=\u001b[0m \u001b[0mcheck_array\u001b[0m\u001b[1;33m(\u001b[0m\u001b[0my_true\u001b[0m\u001b[1;33m,\u001b[0m \u001b[0mensure_2d\u001b[0m\u001b[1;33m=\u001b[0m\u001b[1;32mFalse\u001b[0m\u001b[1;33m)\u001b[0m\u001b[1;33m\u001b[0m\u001b[1;33m\u001b[0m\u001b[0m\n\u001b[0;32m     79\u001b[0m     \u001b[0my_pred\u001b[0m \u001b[1;33m=\u001b[0m \u001b[0mcheck_array\u001b[0m\u001b[1;33m(\u001b[0m\u001b[0my_pred\u001b[0m\u001b[1;33m,\u001b[0m \u001b[0mensure_2d\u001b[0m\u001b[1;33m=\u001b[0m\u001b[1;32mFalse\u001b[0m\u001b[1;33m)\u001b[0m\u001b[1;33m\u001b[0m\u001b[1;33m\u001b[0m\u001b[0m\n",
      "\u001b[1;32m~\\Anaconda3\\lib\\site-packages\\sklearn\\utils\\validation.py\u001b[0m in \u001b[0;36mcheck_consistent_length\u001b[1;34m(*arrays)\u001b[0m\n\u001b[0;32m    203\u001b[0m     \u001b[1;32mif\u001b[0m \u001b[0mlen\u001b[0m\u001b[1;33m(\u001b[0m\u001b[0muniques\u001b[0m\u001b[1;33m)\u001b[0m \u001b[1;33m>\u001b[0m \u001b[1;36m1\u001b[0m\u001b[1;33m:\u001b[0m\u001b[1;33m\u001b[0m\u001b[1;33m\u001b[0m\u001b[0m\n\u001b[0;32m    204\u001b[0m         raise ValueError(\"Found input variables with inconsistent numbers of\"\n\u001b[1;32m--> 205\u001b[1;33m                          \" samples: %r\" % [int(l) for l in lengths])\n\u001b[0m\u001b[0;32m    206\u001b[0m \u001b[1;33m\u001b[0m\u001b[0m\n\u001b[0;32m    207\u001b[0m \u001b[1;33m\u001b[0m\u001b[0m\n",
      "\u001b[1;31mValueError\u001b[0m: Found input variables with inconsistent numbers of samples: [7850, 23550]"
     ]
    }
   ],
   "source": [
    "# code here\n",
    "A=M.fit(X_trainT,Y_train).predict(X_testT)\n",
    "print(np.sqrt(sk.metrics.mean_squared_error(A,Y_test)),\"\\n suite\",np.sqrt(sk.metrics.mean_squared_error(A,Y_train)))"
   ]
  },
  {
   "cell_type": "markdown",
   "metadata": {},
   "source": [
    "How is the performance of the new model compared to all previous performances? Answer below."
   ]
  },
  {
   "cell_type": "markdown",
   "metadata": {},
   "source": [
    "*Answer here*"
   ]
  },
  {
   "cell_type": "markdown",
   "metadata": {},
   "source": [
    "Write code to print the best values for each the parameters on which you did the grid search."
   ]
  },
  {
   "cell_type": "code",
   "execution_count": 45,
   "metadata": {},
   "outputs": [
    {
     "data": {
      "text/plain": [
       "0.3572576911979227"
      ]
     },
     "execution_count": 45,
     "metadata": {},
     "output_type": "execute_result"
    }
   ],
   "source": [
    "# code here\n",
    "M.fit(X_trainT,Y_train).best_score_"
   ]
  },
  {
   "cell_type": "markdown",
   "metadata": {},
   "source": [
    "### Congratulations! You are now able to run a full machine learning pipeline from data preprocessing to model building and evaluation. Now it is time to repeat the process with different / more features."
   ]
  },
  {
   "cell_type": "markdown",
   "metadata": {},
   "source": [
    "## Next steps\n",
    "\n",
    "1. Repeat the above process to create a pipeline only for categorical variables.\n",
    "2. Build models with the resulting transformed data.\n",
    "3. Compare the performance of the new models to the previous ones built on top of only numerical variables.\n",
    "\n",
    "4. Is it worth combining both catagorical and numerical variables? If so, try to combine both pipelines, build new models and compare the performance to the previous models.\n",
    "\n",
    "For each of the above points:\n",
    "* write the code needed to solve the task;\n",
    "* run the code and print the results;\n",
    "* write an explanation of what you did in a markdown cell below the code.\n",
    "\n",
    "Add as many cells below as necessary to solve all the required points."
   ]
  },
  {
   "cell_type": "code",
   "execution_count": 46,
   "metadata": {},
   "outputs": [
    {
     "data": {
      "text/plain": [
       "ELEM_POINT_ID             int64\n",
       "CODE                     object\n",
       "SOUS_CATEGORIE           object\n",
       "SOUS_CATEGORIE_DESC      object\n",
       "CODE_PARENT              object\n",
       "CODE_PARENT_DESC         object\n",
       "ADR_SECTEUR               int64\n",
       "GENRE_BOTA               object\n",
       "ESPECE                   object\n",
       "STADEDEDEVELOPPEMENT     object\n",
       "COLLECTIVITE             object\n",
       "LONGITUDE               float64\n",
       "LATITUDE                float64\n",
       "dtype: object"
      ]
     },
     "execution_count": 46,
     "metadata": {},
     "output_type": "execute_result"
    }
   ],
   "source": [
    "# code here\n",
    "categoricaldata=[\"CODE\",\"SOUS_CATEGORIE\",\"CODE_PARENT\",\"CODE_PARENT_DESC\",\"GENRE_BOTA\",\"ESPECE\",\"STADEDEDEVELOPPEMENT\",\"COLLECTIVITE\"]\n",
    "X_train.dtypes"
   ]
  },
  {
   "cell_type": "code",
   "execution_count": 47,
   "metadata": {},
   "outputs": [],
   "source": [
    "from sklearn import preprocessing as pp\n",
    "from sklearn import impute\n",
    "\n",
    "class DataFrameSelector(BaseEstimator, TransformerMixin):\n",
    "    def __init__(self, attribute_names):\n",
    "        self.attribute_names = attribute_names\n",
    "        \n",
    "    def fit(self, X, y=None):\n",
    "        return self\n",
    "    def transform(self, X):\n",
    "        return X[self.attribute_names].values"
   ]
  },
  {
   "cell_type": "markdown",
   "metadata": {},
   "source": [
    "*Answer here*"
   ]
  },
  {
   "cell_type": "code",
   "execution_count": 48,
   "metadata": {},
   "outputs": [],
   "source": [
    "ord_encoder=pp.OrdinalEncoder()\n",
    "Data_selector=DataFrameSelector(categoricaldata)\n",
    "pip=pi.make_pipeline(Data_selector,impute.SimpleImputer(strategy='constant',fill_value='lacking data'),ord_encoder)\n",
    "pip.fit(trees)\n",
    "X_trainC=pip.transform(X_train)\n",
    "X_testC=pip.transform(X_test)"
   ]
  },
  {
   "cell_type": "markdown",
   "metadata": {},
   "source": [
    "First I created a selection for categorical data\n",
    "\n",
    "Second I use a simple imputer to fill Na value specifiying the lack of data\n",
    "\n",
    "Third i use an encoder technique in order to compare numerical things through discrete approach\n"
   ]
  },
  {
   "cell_type": "code",
   "execution_count": 49,
   "metadata": {},
   "outputs": [
    {
     "data": {
      "text/plain": [
       "0.6605999506740573"
      ]
     },
     "execution_count": 49,
     "metadata": {},
     "output_type": "execute_result"
    }
   ],
   "source": [
    "M.fit(X_trainC,Y_train).best_score_"
   ]
  },
  {
   "cell_type": "code",
   "execution_count": 50,
   "metadata": {},
   "outputs": [],
   "source": [
    "prediction=M.predict(X_testC)"
   ]
  },
  {
   "cell_type": "code",
   "execution_count": 51,
   "metadata": {},
   "outputs": [
    {
     "data": {
      "text/plain": [
       "0.5384290951743147"
      ]
     },
     "execution_count": 51,
     "metadata": {},
     "output_type": "execute_result"
    }
   ],
   "source": [
    "sk.metrics.r2_score(prediction,Y_test)"
   ]
  },
  {
   "cell_type": "markdown",
   "metadata": {},
   "source": [
    "categorical data seems to have a better way to predict. while the other one may have no to few link.\n",
    "\n",
    "R2 score <50% means there is less than 50% that follow the model.\n",
    "\n",
    "Which means that the value might not have a great correlation ( at least, outside of the train sample), therefore it\n",
    "\n",
    "might be a bad choice to include numerical data\n",
    "\n",
    "we need to try to know\n"
   ]
  },
  {
   "cell_type": "code",
   "execution_count": 52,
   "metadata": {},
   "outputs": [
    {
     "data": {
      "text/plain": [
       "0.7417489619006079"
      ]
     },
     "execution_count": 52,
     "metadata": {},
     "output_type": "execute_result"
    }
   ],
   "source": [
    "F1=np.hstack((X_trainC,X_trainT))\n",
    "F2=np.hstack((X_testC,X_testT))\n",
    "M.fit(F1,Y_train).best_score_"
   ]
  },
  {
   "cell_type": "code",
   "execution_count": 53,
   "metadata": {},
   "outputs": [
    {
     "data": {
      "text/plain": [
       "0.6523086695785016"
      ]
     },
     "execution_count": 53,
     "metadata": {},
     "output_type": "execute_result"
    }
   ],
   "source": [
    "sk.metrics.r2_score(M.predict(F2),Y_test)"
   ]
  },
  {
   "cell_type": "markdown",
   "metadata": {},
   "source": [
    "better aproximation through combinaison of categorical plus numerical data\n",
    "\n",
    "Which I don't find obvious, but kinda is"
   ]
  },
  {
   "cell_type": "code",
   "execution_count": null,
   "metadata": {},
   "outputs": [],
   "source": []
  },
  {
   "cell_type": "code",
   "execution_count": null,
   "metadata": {},
   "outputs": [],
   "source": []
  }
 ],
 "metadata": {
  "kernelspec": {
   "display_name": "Python 3",
   "language": "python",
   "name": "python3"
  },
  "language_info": {
   "codemirror_mode": {
    "name": "ipython",
    "version": 3
   },
   "file_extension": ".py",
   "mimetype": "text/x-python",
   "name": "python",
   "nbconvert_exporter": "python",
   "pygments_lexer": "ipython3",
   "version": "3.7.4"
  }
 },
 "nbformat": 4,
 "nbformat_minor": 4
}
