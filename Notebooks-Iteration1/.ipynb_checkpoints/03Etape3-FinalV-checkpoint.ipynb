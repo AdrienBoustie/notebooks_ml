{
 "cells": [
  {
   "cell_type": "markdown",
   "metadata": {},
   "source": [
    "# The Etape 3 challenge is to create a new feature from our current data which might help our performance prediction.\n",
    "\n",
    "Most of this notebook is copied from etape 2. With a few modifications within the pipeline to create the new feature."
   ]
  },
  {
   "cell_type": "code",
   "execution_count": 1,
   "metadata": {},
   "outputs": [],
   "source": [
    "import pandas as pd\n",
    "import numpy as np\n",
    "%matplotlib inline"
   ]
  },
  {
   "cell_type": "markdown",
   "metadata": {},
   "source": [
    "## Load clean trees data from saved pickle into the `trees` dataframe"
   ]
  },
  {
   "cell_type": "code",
   "execution_count": 2,
   "metadata": {},
   "outputs": [],
   "source": [
    "# code here\n",
    "trees=pd.read_pickle('../data/modified/trees_first_clean.pkl')"
   ]
  },
  {
   "cell_type": "markdown",
   "metadata": {},
   "source": [
    "display first 5 lines"
   ]
  },
  {
   "cell_type": "code",
   "execution_count": 5,
   "metadata": {},
   "outputs": [
    {
     "data": {
      "text/html": [
       "<div>\n",
       "<style scoped>\n",
       "    .dataframe tbody tr th:only-of-type {\n",
       "        vertical-align: middle;\n",
       "    }\n",
       "\n",
       "    .dataframe tbody tr th {\n",
       "        vertical-align: top;\n",
       "    }\n",
       "\n",
       "    .dataframe thead th {\n",
       "        text-align: right;\n",
       "    }\n",
       "</style>\n",
       "<table border=\"1\" class=\"dataframe\">\n",
       "  <thead>\n",
       "    <tr style=\"text-align: right;\">\n",
       "      <th></th>\n",
       "      <th>ELEM_POINT_ID</th>\n",
       "      <th>CODE</th>\n",
       "      <th>SOUS_CATEGORIE</th>\n",
       "      <th>SOUS_CATEGORIE_DESC</th>\n",
       "      <th>CODE_PARENT</th>\n",
       "      <th>CODE_PARENT_DESC</th>\n",
       "      <th>ADR_SECTEUR</th>\n",
       "      <th>GENRE_BOTA</th>\n",
       "      <th>ESPECE</th>\n",
       "      <th>STADEDEDEVELOPPEMENT</th>\n",
       "      <th>ANNEEDEPLANTATION</th>\n",
       "      <th>COLLECTIVITE</th>\n",
       "      <th>LONGITUDE</th>\n",
       "      <th>LATITUDE</th>\n",
       "    </tr>\n",
       "  </thead>\n",
       "  <tbody>\n",
       "    <tr>\n",
       "      <td>0</td>\n",
       "      <td>32215</td>\n",
       "      <td>ESP32919</td>\n",
       "      <td>ESP151</td>\n",
       "      <td>Arbre de voirie</td>\n",
       "      <td>ESP32840</td>\n",
       "      <td>Crs Jaurès impair de PHD/ Lorr</td>\n",
       "      <td>2</td>\n",
       "      <td>Platanus</td>\n",
       "      <td>platanor</td>\n",
       "      <td>Arbre jeune</td>\n",
       "      <td>2014.0</td>\n",
       "      <td>Grenoble Alpes Métropole</td>\n",
       "      <td>45.190237</td>\n",
       "      <td>5.719919</td>\n",
       "    </tr>\n",
       "    <tr>\n",
       "      <td>1</td>\n",
       "      <td>32214</td>\n",
       "      <td>ESP32918</td>\n",
       "      <td>ESP151</td>\n",
       "      <td>Arbre de voirie</td>\n",
       "      <td>ESP32840</td>\n",
       "      <td>Crs Jaurès impair de PHD/ Lorr</td>\n",
       "      <td>2</td>\n",
       "      <td>Tilia</td>\n",
       "      <td>mongolica</td>\n",
       "      <td>Arbre jeune</td>\n",
       "      <td>2014.0</td>\n",
       "      <td>Grenoble Alpes Métropole</td>\n",
       "      <td>45.190280</td>\n",
       "      <td>5.719994</td>\n",
       "    </tr>\n",
       "    <tr>\n",
       "      <td>2</td>\n",
       "      <td>32213</td>\n",
       "      <td>ESP32917</td>\n",
       "      <td>ESP151</td>\n",
       "      <td>Arbre de voirie</td>\n",
       "      <td>ESP32840</td>\n",
       "      <td>Crs Jaurès impair de PHD/ Lorr</td>\n",
       "      <td>2</td>\n",
       "      <td>Malus</td>\n",
       "      <td>perpetu</td>\n",
       "      <td>Arbre jeune</td>\n",
       "      <td>2014.0</td>\n",
       "      <td>Grenoble Alpes Métropole</td>\n",
       "      <td>45.190322</td>\n",
       "      <td>5.720006</td>\n",
       "    </tr>\n",
       "    <tr>\n",
       "      <td>3</td>\n",
       "      <td>32212</td>\n",
       "      <td>ESP32916</td>\n",
       "      <td>ESP151</td>\n",
       "      <td>Arbre de voirie</td>\n",
       "      <td>ESP32840</td>\n",
       "      <td>Crs Jaurès impair de PHD/ Lorr</td>\n",
       "      <td>2</td>\n",
       "      <td>Platanus</td>\n",
       "      <td>platanor</td>\n",
       "      <td>Arbre jeune</td>\n",
       "      <td>2014.0</td>\n",
       "      <td>Grenoble Alpes Métropole</td>\n",
       "      <td>45.190359</td>\n",
       "      <td>5.719959</td>\n",
       "    </tr>\n",
       "    <tr>\n",
       "      <td>4</td>\n",
       "      <td>32211</td>\n",
       "      <td>ESP32915</td>\n",
       "      <td>ESP151</td>\n",
       "      <td>Arbre de voirie</td>\n",
       "      <td>ESP32840</td>\n",
       "      <td>Crs Jaurès impair de PHD/ Lorr</td>\n",
       "      <td>2</td>\n",
       "      <td>Tilia</td>\n",
       "      <td>mongolica</td>\n",
       "      <td>Arbre jeune</td>\n",
       "      <td>2014.0</td>\n",
       "      <td>Grenoble Alpes Métropole</td>\n",
       "      <td>45.190442</td>\n",
       "      <td>5.720047</td>\n",
       "    </tr>\n",
       "  </tbody>\n",
       "</table>\n",
       "</div>"
      ],
      "text/plain": [
       "   ELEM_POINT_ID      CODE SOUS_CATEGORIE SOUS_CATEGORIE_DESC CODE_PARENT  \\\n",
       "0          32215  ESP32919         ESP151     Arbre de voirie    ESP32840   \n",
       "1          32214  ESP32918         ESP151     Arbre de voirie    ESP32840   \n",
       "2          32213  ESP32917         ESP151     Arbre de voirie    ESP32840   \n",
       "3          32212  ESP32916         ESP151     Arbre de voirie    ESP32840   \n",
       "4          32211  ESP32915         ESP151     Arbre de voirie    ESP32840   \n",
       "\n",
       "                 CODE_PARENT_DESC  ADR_SECTEUR GENRE_BOTA     ESPECE  \\\n",
       "0  Crs Jaurès impair de PHD/ Lorr            2   Platanus   platanor   \n",
       "1  Crs Jaurès impair de PHD/ Lorr            2      Tilia  mongolica   \n",
       "2  Crs Jaurès impair de PHD/ Lorr            2      Malus    perpetu   \n",
       "3  Crs Jaurès impair de PHD/ Lorr            2   Platanus   platanor   \n",
       "4  Crs Jaurès impair de PHD/ Lorr            2      Tilia  mongolica   \n",
       "\n",
       "  STADEDEDEVELOPPEMENT  ANNEEDEPLANTATION              COLLECTIVITE  \\\n",
       "0          Arbre jeune             2014.0  Grenoble Alpes Métropole   \n",
       "1          Arbre jeune             2014.0  Grenoble Alpes Métropole   \n",
       "2          Arbre jeune             2014.0  Grenoble Alpes Métropole   \n",
       "3          Arbre jeune             2014.0  Grenoble Alpes Métropole   \n",
       "4          Arbre jeune             2014.0  Grenoble Alpes Métropole   \n",
       "\n",
       "   LONGITUDE  LATITUDE  \n",
       "0  45.190237  5.719919  \n",
       "1  45.190280  5.719994  \n",
       "2  45.190322  5.720006  \n",
       "3  45.190359  5.719959  \n",
       "4  45.190442  5.720047  "
      ]
     },
     "execution_count": 5,
     "metadata": {},
     "output_type": "execute_result"
    }
   ],
   "source": [
    "# code here\n",
    "trees.head()"
   ]
  },
  {
   "cell_type": "markdown",
   "metadata": {},
   "source": [
    "display dataframe columns"
   ]
  },
  {
   "cell_type": "code",
   "execution_count": 4,
   "metadata": {},
   "outputs": [
    {
     "data": {
      "text/plain": [
       "Index(['ELEM_POINT_ID', 'CODE', 'SOUS_CATEGORIE', 'SOUS_CATEGORIE_DESC',\n",
       "       'CODE_PARENT', 'CODE_PARENT_DESC', 'ADR_SECTEUR', 'GENRE_BOTA',\n",
       "       'ESPECE', 'STADEDEDEVELOPPEMENT', 'ANNEEDEPLANTATION', 'COLLECTIVITE',\n",
       "       'LONGITUDE', 'LATITUDE'],\n",
       "      dtype='object')"
      ]
     },
     "execution_count": 4,
     "metadata": {},
     "output_type": "execute_result"
    }
   ],
   "source": [
    "# code here\n",
    "trees.columns"
   ]
  },
  {
   "cell_type": "markdown",
   "metadata": {},
   "source": [
    "# Make train test split"
   ]
  },
  {
   "cell_type": "markdown",
   "metadata": {},
   "source": [
    "#### random split\n",
    "\n",
    "In the following we want to build a machine learning model that helps us predict the plantation year for different trees based on their characteristics.\n",
    "\n",
    "For this you have to first remove the column `ANNEEDEPLANTATION` from the dataframe and save the result in the variable year. Hint: use `pop`"
   ]
  },
  {
   "cell_type": "code",
   "execution_count": 6,
   "metadata": {},
   "outputs": [],
   "source": [
    "# code here\n",
    "year=trees.pop(\"ANNEEDEPLANTATION\")"
   ]
  },
  {
   "cell_type": "code",
   "execution_count": 7,
   "metadata": {},
   "outputs": [],
   "source": [
    "from sklearn.model_selection import train_test_split"
   ]
  },
  {
   "cell_type": "markdown",
   "metadata": {},
   "source": [
    "Split the trees and the year data into train and test partitions. Use seed=800.\n",
    "\n",
    "You must save the result in 4 variables: `X_train` (instances in the train set), `X_test` (instances in the test set), `y_train` (labels corresponding to the instances in the train set), `y_test` (labels corresponding to the instances in the test set).\n",
    "\n",
    "For clarifications, read the `train_test_split` documentation."
   ]
  },
  {
   "cell_type": "code",
   "execution_count": 8,
   "metadata": {},
   "outputs": [],
   "source": [
    "# code here\n",
    "X_train,Y_train,Y_train,Y_test=train_test_split(trees,year,random_state=800)"
   ]
  },
  {
   "cell_type": "markdown",
   "metadata": {},
   "source": [
    "How many instances are there in the train set?"
   ]
  },
  {
   "cell_type": "code",
   "execution_count": 9,
   "metadata": {},
   "outputs": [
    {
     "data": {
      "text/plain": [
       "23550"
      ]
     },
     "execution_count": 9,
     "metadata": {},
     "output_type": "execute_result"
    }
   ],
   "source": [
    "# code here\n",
    "X_train.shape[0]"
   ]
  },
  {
   "cell_type": "markdown",
   "metadata": {},
   "source": [
    "How many instances are there in the test set?"
   ]
  },
  {
   "cell_type": "code",
   "execution_count": 10,
   "metadata": {},
   "outputs": [
    {
     "data": {
      "text/plain": [
       "23550"
      ]
     },
     "execution_count": 10,
     "metadata": {},
     "output_type": "execute_result"
    }
   ],
   "source": [
    "# code here\n",
    "X_train.shape[0]"
   ]
  },
  {
   "cell_type": "markdown",
   "metadata": {},
   "source": [
    "#### Stratified shuffle - alternative (and very optional at this stage!)"
   ]
  },
  {
   "cell_type": "markdown",
   "metadata": {},
   "source": [
    "import  `StratifiedShuffleSplit` from scikit-learn package `model_selection`."
   ]
  },
  {
   "cell_type": "code",
   "execution_count": 11,
   "metadata": {},
   "outputs": [],
   "source": [
    "# code here\n",
    "from sklearn.model_selection import StratifiedShuffleSplit"
   ]
  },
  {
   "cell_type": "markdown",
   "metadata": {},
   "source": [
    "Create a `StratifiedShuffleSplit` instance with `n_split=1` and a `test_size=0.25`  and a `random_state=800`.\n",
    "\n",
    "Store this instance in a variable named `stratSplit`."
   ]
  },
  {
   "cell_type": "code",
   "execution_count": 12,
   "metadata": {},
   "outputs": [],
   "source": [
    "stratSplit  = StratifiedShuffleSplit(n_splits=2,test_size=0.25,random_state=800)"
   ]
  },
  {
   "cell_type": "markdown",
   "metadata": {},
   "source": [
    "Use the `split` function of this `StratifiedShuffleSplit` instance.\n",
    "\n",
    "(*Hint the arguments of this function are avalaible in the [sklearn doc](https://scikit-learn.org/stable/modules/generated/sklearn.model_selection.StratifiedShuffleSplit.html)* )\n",
    "\n",
    "Store the result of the `split` function in a variable named `splits`."
   ]
  },
  {
   "cell_type": "code",
   "execution_count": 13,
   "metadata": {},
   "outputs": [],
   "source": [
    "splits = stratSplit.split(trees,year)"
   ]
  },
  {
   "cell_type": "markdown",
   "metadata": {},
   "source": [
    "What is the type of the `splits` variable?"
   ]
  },
  {
   "cell_type": "code",
   "execution_count": 14,
   "metadata": {},
   "outputs": [
    {
     "data": {
      "text/plain": [
       "generator"
      ]
     },
     "execution_count": 14,
     "metadata": {},
     "output_type": "execute_result"
    }
   ],
   "source": [
    "# code here\n",
    "type(splits)"
   ]
  },
  {
   "cell_type": "markdown",
   "metadata": {},
   "source": [
    "Use the `splits` variable for creating the test and train sets.\n",
    "\n",
    "The following cell must create the `X_train`, `X_test`, `y_train`  and `y_test` variables."
   ]
  },
  {
   "cell_type": "code",
   "execution_count": 15,
   "metadata": {},
   "outputs": [],
   "source": [
    "# code here\n",
    "stratSplit.get_n_splits(trees,year)\n",
    "X=next(splits)\n",
    "Y=next(splits)\n",
    "X_train, X_test=trees.iloc[X[0],:], trees.iloc[X[1],:]\n",
    "Y_train, Y_test= trees.iloc[Y[0],:], trees.iloc[Y[1],:]"
   ]
  },
  {
   "cell_type": "markdown",
   "metadata": {},
   "source": [
    "Check if the the proportions we find look consistent between splits"
   ]
  },
  {
   "cell_type": "code",
   "execution_count": 16,
   "metadata": {},
   "outputs": [],
   "source": [
    "# code for checking proportions in labels\n"
   ]
  },
  {
   "cell_type": "code",
   "execution_count": 17,
   "metadata": {},
   "outputs": [
    {
     "name": "stdout",
     "output_type": "stream",
     "text": [
      "(23550, 13) (23550, 13) (7850, 13) (7850, 13)\n"
     ]
    }
   ],
   "source": [
    "# code for checking proportions in data\n",
    "print(X_train.shape,Y_train.shape,X_test.shape,Y_test.shape)"
   ]
  },
  {
   "cell_type": "markdown",
   "metadata": {},
   "source": [
    "# Basic Statistics\n",
    "\n",
    "Should usually only be done after the split. "
   ]
  },
  {
   "cell_type": "code",
   "execution_count": 18,
   "metadata": {},
   "outputs": [
    {
     "name": "stdout",
     "output_type": "stream",
     "text": [
      "ELEM_POINT_ID    11045.582442\n",
      "ADR_SECTEUR          1.700459\n",
      "LONGITUDE            0.011914\n",
      "LATITUDE             0.012936\n",
      "dtype: float64 ELEM_POINT_ID    11059.412233\n",
      "ADR_SECTEUR          1.702552\n",
      "LONGITUDE            0.011938\n",
      "LATITUDE             0.012804\n",
      "dtype: float64 ELEM_POINT_ID    11059.412233\n",
      "ADR_SECTEUR          1.702552\n",
      "LONGITUDE            0.011938\n",
      "LATITUDE             0.012804\n",
      "dtype: float64\n"
     ]
    },
    {
     "data": {
      "text/plain": [
       "(ELEM_POINT_ID    18363.209130\n",
       " ADR_SECTEUR          3.851168\n",
       " LONGITUDE           45.176844\n",
       " LATITUDE             5.727219\n",
       " dtype: float64, ELEM_POINT_ID    18320.004331\n",
       " ADR_SECTEUR          3.856688\n",
       " LONGITUDE           45.177101\n",
       " LATITUDE             5.727611\n",
       " dtype: float64, ELEM_POINT_ID    18341.505138\n",
       " ADR_SECTEUR          3.863482\n",
       " LONGITUDE           45.176859\n",
       " LATITUDE             5.727364\n",
       " dtype: float64, ELEM_POINT_ID    18385.116306\n",
       " ADR_SECTEUR          3.819745\n",
       " LONGITUDE           45.177055\n",
       " LATITUDE             5.727178\n",
       " dtype: float64)"
      ]
     },
     "execution_count": 18,
     "metadata": {},
     "output_type": "execute_result"
    }
   ],
   "source": [
    "from sklearn import metrics\n",
    "print(X_train.std(),X_test.std(),X_test.std(ddof=1))\n",
    "X_train.mean(),X_test.mean(),Y_train.mean(),Y_test.mean()"
   ]
  },
  {
   "cell_type": "code",
   "execution_count": 19,
   "metadata": {},
   "outputs": [
    {
     "data": {
      "text/html": [
       "<div>\n",
       "<style scoped>\n",
       "    .dataframe tbody tr th:only-of-type {\n",
       "        vertical-align: middle;\n",
       "    }\n",
       "\n",
       "    .dataframe tbody tr th {\n",
       "        vertical-align: top;\n",
       "    }\n",
       "\n",
       "    .dataframe thead th {\n",
       "        text-align: right;\n",
       "    }\n",
       "</style>\n",
       "<table border=\"1\" class=\"dataframe\">\n",
       "  <thead>\n",
       "    <tr style=\"text-align: right;\">\n",
       "      <th></th>\n",
       "      <th>ELEM_POINT_ID</th>\n",
       "      <th>CODE</th>\n",
       "      <th>SOUS_CATEGORIE</th>\n",
       "      <th>SOUS_CATEGORIE_DESC</th>\n",
       "      <th>CODE_PARENT</th>\n",
       "      <th>CODE_PARENT_DESC</th>\n",
       "      <th>ADR_SECTEUR</th>\n",
       "      <th>GENRE_BOTA</th>\n",
       "      <th>ESPECE</th>\n",
       "      <th>STADEDEDEVELOPPEMENT</th>\n",
       "      <th>COLLECTIVITE</th>\n",
       "      <th>LONGITUDE</th>\n",
       "      <th>LATITUDE</th>\n",
       "    </tr>\n",
       "  </thead>\n",
       "  <tbody>\n",
       "    <tr>\n",
       "      <td>2645</td>\n",
       "      <td>1183</td>\n",
       "      <td>ESP2110</td>\n",
       "      <td>ESP187</td>\n",
       "      <td>Bois semi naturel</td>\n",
       "      <td>ESP31691</td>\n",
       "      <td>Parc Cellatex zone boisée</td>\n",
       "      <td>3</td>\n",
       "      <td>Acer</td>\n",
       "      <td>pseudoplatanus</td>\n",
       "      <td>Arbre adulte</td>\n",
       "      <td>Ville de Grenoble</td>\n",
       "      <td>45.162798</td>\n",
       "      <td>5.705434</td>\n",
       "    </tr>\n",
       "    <tr>\n",
       "      <td>30925</td>\n",
       "      <td>18613</td>\n",
       "      <td>ESP23195</td>\n",
       "      <td>ESP174</td>\n",
       "      <td>Arbre d'espaces ouverts</td>\n",
       "      <td>ESP1423</td>\n",
       "      <td>Park gymnase Malherbe</td>\n",
       "      <td>5</td>\n",
       "      <td>Pinus</td>\n",
       "      <td>nigra</td>\n",
       "      <td>Arbre adulte</td>\n",
       "      <td>Grenoble Alpes Métropole</td>\n",
       "      <td>45.172314</td>\n",
       "      <td>5.738839</td>\n",
       "    </tr>\n",
       "    <tr>\n",
       "      <td>8165</td>\n",
       "      <td>24342</td>\n",
       "      <td>ESP20766</td>\n",
       "      <td>ESP174</td>\n",
       "      <td>Arbre d'espaces ouverts</td>\n",
       "      <td>ESP124</td>\n",
       "      <td>Stade Bachelard</td>\n",
       "      <td>3</td>\n",
       "      <td>Tilia</td>\n",
       "      <td>tomentosa</td>\n",
       "      <td>Arbre jeune</td>\n",
       "      <td>Ville de Grenoble</td>\n",
       "      <td>45.163276</td>\n",
       "      <td>5.703115</td>\n",
       "    </tr>\n",
       "    <tr>\n",
       "      <td>30200</td>\n",
       "      <td>26205</td>\n",
       "      <td>ESP8723</td>\n",
       "      <td>ESP151</td>\n",
       "      <td>Arbre de voirie</td>\n",
       "      <td>ESP1140</td>\n",
       "      <td>R de la Frise</td>\n",
       "      <td>1</td>\n",
       "      <td>Magnolia</td>\n",
       "      <td>grandiflora</td>\n",
       "      <td>Arbre adulte</td>\n",
       "      <td>Grenoble Alpes Métropole</td>\n",
       "      <td>45.191813</td>\n",
       "      <td>5.712989</td>\n",
       "    </tr>\n",
       "    <tr>\n",
       "      <td>20810</td>\n",
       "      <td>41943</td>\n",
       "      <td>ESP39578</td>\n",
       "      <td>ESP151</td>\n",
       "      <td>Arbre de voirie</td>\n",
       "      <td>ESP453</td>\n",
       "      <td>R Andrieux PM Curie R François</td>\n",
       "      <td>6</td>\n",
       "      <td>Ulmus</td>\n",
       "      <td>parvifolia</td>\n",
       "      <td>Arbre jeune</td>\n",
       "      <td>Grenoble Alpes Métropole</td>\n",
       "      <td>45.161187</td>\n",
       "      <td>5.720771</td>\n",
       "    </tr>\n",
       "    <tr>\n",
       "      <td>...</td>\n",
       "      <td>...</td>\n",
       "      <td>...</td>\n",
       "      <td>...</td>\n",
       "      <td>...</td>\n",
       "      <td>...</td>\n",
       "      <td>...</td>\n",
       "      <td>...</td>\n",
       "      <td>...</td>\n",
       "      <td>...</td>\n",
       "      <td>...</td>\n",
       "      <td>...</td>\n",
       "      <td>...</td>\n",
       "      <td>...</td>\n",
       "    </tr>\n",
       "    <tr>\n",
       "      <td>29430</td>\n",
       "      <td>13427</td>\n",
       "      <td>ESP4385</td>\n",
       "      <td>ESP174</td>\n",
       "      <td>Arbre d'espaces ouverts</td>\n",
       "      <td>ESP1080</td>\n",
       "      <td>Sq Ch Péguy</td>\n",
       "      <td>3</td>\n",
       "      <td>Corylus</td>\n",
       "      <td>colurna</td>\n",
       "      <td>Arbre jeune</td>\n",
       "      <td>Grenoble Alpes Métropole</td>\n",
       "      <td>45.178882</td>\n",
       "      <td>5.714724</td>\n",
       "    </tr>\n",
       "    <tr>\n",
       "      <td>7290</td>\n",
       "      <td>4557</td>\n",
       "      <td>ESP3173</td>\n",
       "      <td>ESP174</td>\n",
       "      <td>Arbre d'espaces ouverts</td>\n",
       "      <td>ESP75</td>\n",
       "      <td>Jard Hoche cour du mikado</td>\n",
       "      <td>2</td>\n",
       "      <td>Betula</td>\n",
       "      <td>verrucosa</td>\n",
       "      <td>Arbre adulte</td>\n",
       "      <td>Ville de Grenoble</td>\n",
       "      <td>45.184018</td>\n",
       "      <td>5.729670</td>\n",
       "    </tr>\n",
       "    <tr>\n",
       "      <td>26294</td>\n",
       "      <td>16407</td>\n",
       "      <td>ESP19816</td>\n",
       "      <td>ESP174</td>\n",
       "      <td>Arbre d'espaces ouverts</td>\n",
       "      <td>ESP1051</td>\n",
       "      <td>Prc Mis Tr Perret Pel SudOuest</td>\n",
       "      <td>5</td>\n",
       "      <td>Acer</td>\n",
       "      <td>negundo</td>\n",
       "      <td>Arbre adulte</td>\n",
       "      <td>Ville de Grenoble</td>\n",
       "      <td>45.184521</td>\n",
       "      <td>5.735464</td>\n",
       "    </tr>\n",
       "    <tr>\n",
       "      <td>9419</td>\n",
       "      <td>9631</td>\n",
       "      <td>ESP21744</td>\n",
       "      <td>ESP174</td>\n",
       "      <td>Arbre d'espaces ouverts</td>\n",
       "      <td>ESP178</td>\n",
       "      <td>Sq Drevet ang Salengro Libé</td>\n",
       "      <td>3</td>\n",
       "      <td>Tilia</td>\n",
       "      <td>tomentosa</td>\n",
       "      <td>Arbre jeune</td>\n",
       "      <td>Ville de Grenoble</td>\n",
       "      <td>45.174809</td>\n",
       "      <td>5.714213</td>\n",
       "    </tr>\n",
       "    <tr>\n",
       "      <td>41</td>\n",
       "      <td>32233</td>\n",
       "      <td>ESP32937</td>\n",
       "      <td>ESP151</td>\n",
       "      <td>Arbre de voirie</td>\n",
       "      <td>ESP32841</td>\n",
       "      <td>Crs Jaurès impair de Lorr/Ber</td>\n",
       "      <td>2</td>\n",
       "      <td>Platanus</td>\n",
       "      <td>platanor</td>\n",
       "      <td>Arbre jeune</td>\n",
       "      <td>Grenoble Alpes Métropole</td>\n",
       "      <td>45.189195</td>\n",
       "      <td>5.719276</td>\n",
       "    </tr>\n",
       "  </tbody>\n",
       "</table>\n",
       "<p>23550 rows × 13 columns</p>\n",
       "</div>"
      ],
      "text/plain": [
       "       ELEM_POINT_ID      CODE SOUS_CATEGORIE      SOUS_CATEGORIE_DESC  \\\n",
       "2645            1183   ESP2110         ESP187        Bois semi naturel   \n",
       "30925          18613  ESP23195         ESP174  Arbre d'espaces ouverts   \n",
       "8165           24342  ESP20766         ESP174  Arbre d'espaces ouverts   \n",
       "30200          26205   ESP8723         ESP151          Arbre de voirie   \n",
       "20810          41943  ESP39578         ESP151          Arbre de voirie   \n",
       "...              ...       ...            ...                      ...   \n",
       "29430          13427   ESP4385         ESP174  Arbre d'espaces ouverts   \n",
       "7290            4557   ESP3173         ESP174  Arbre d'espaces ouverts   \n",
       "26294          16407  ESP19816         ESP174  Arbre d'espaces ouverts   \n",
       "9419            9631  ESP21744         ESP174  Arbre d'espaces ouverts   \n",
       "41             32233  ESP32937         ESP151          Arbre de voirie   \n",
       "\n",
       "      CODE_PARENT                CODE_PARENT_DESC  ADR_SECTEUR GENRE_BOTA  \\\n",
       "2645     ESP31691       Parc Cellatex zone boisée            3       Acer   \n",
       "30925     ESP1423           Park gymnase Malherbe            5      Pinus   \n",
       "8165       ESP124                 Stade Bachelard            3      Tilia   \n",
       "30200     ESP1140                   R de la Frise            1   Magnolia   \n",
       "20810      ESP453  R Andrieux PM Curie R François            6      Ulmus   \n",
       "...           ...                             ...          ...        ...   \n",
       "29430     ESP1080                     Sq Ch Péguy            3    Corylus   \n",
       "7290        ESP75       Jard Hoche cour du mikado            2     Betula   \n",
       "26294     ESP1051  Prc Mis Tr Perret Pel SudOuest            5       Acer   \n",
       "9419       ESP178     Sq Drevet ang Salengro Libé            3      Tilia   \n",
       "41       ESP32841   Crs Jaurès impair de Lorr/Ber            2   Platanus   \n",
       "\n",
       "               ESPECE STADEDEDEVELOPPEMENT              COLLECTIVITE  \\\n",
       "2645   pseudoplatanus         Arbre adulte         Ville de Grenoble   \n",
       "30925           nigra         Arbre adulte  Grenoble Alpes Métropole   \n",
       "8165        tomentosa          Arbre jeune         Ville de Grenoble   \n",
       "30200     grandiflora         Arbre adulte  Grenoble Alpes Métropole   \n",
       "20810      parvifolia          Arbre jeune  Grenoble Alpes Métropole   \n",
       "...               ...                  ...                       ...   \n",
       "29430         colurna          Arbre jeune  Grenoble Alpes Métropole   \n",
       "7290        verrucosa         Arbre adulte         Ville de Grenoble   \n",
       "26294         negundo         Arbre adulte         Ville de Grenoble   \n",
       "9419        tomentosa          Arbre jeune         Ville de Grenoble   \n",
       "41           platanor          Arbre jeune  Grenoble Alpes Métropole   \n",
       "\n",
       "       LONGITUDE  LATITUDE  \n",
       "2645   45.162798  5.705434  \n",
       "30925  45.172314  5.738839  \n",
       "8165   45.163276  5.703115  \n",
       "30200  45.191813  5.712989  \n",
       "20810  45.161187  5.720771  \n",
       "...          ...       ...  \n",
       "29430  45.178882  5.714724  \n",
       "7290   45.184018  5.729670  \n",
       "26294  45.184521  5.735464  \n",
       "9419   45.174809  5.714213  \n",
       "41     45.189195  5.719276  \n",
       "\n",
       "[23550 rows x 13 columns]"
      ]
     },
     "execution_count": 19,
     "metadata": {},
     "output_type": "execute_result"
    }
   ],
   "source": [
    "X_train"
   ]
  },
  {
   "cell_type": "markdown",
   "metadata": {},
   "source": [
    "# Naive model\n",
    "Used as a baseline model to know if our ML models are remotely useful. Here based on average tree age."
   ]
  },
  {
   "cell_type": "code",
   "execution_count": 449,
   "metadata": {},
   "outputs": [
    {
     "ename": "TypeError",
     "evalue": "All intermediate steps should be transformers and implement fit and transform or be the string 'passthrough' 'DecisionTreeRegressor(criterion='mse', max_depth=None, max_features=None,\n                      max_leaf_nodes=None, min_impurity_decrease=0.0,\n                      min_impurity_split=None, min_samples_leaf=1,\n                      min_samples_split=2, min_weight_fraction_leaf=0.0,\n                      presort=False, random_state=None, splitter='best')' (type <class 'sklearn.tree.tree.DecisionTreeRegressor'>) doesn't",
     "output_type": "error",
     "traceback": [
      "\u001b[1;31m---------------------------------------------------------------------------\u001b[0m",
      "\u001b[1;31mTypeError\u001b[0m                                 Traceback (most recent call last)",
      "\u001b[1;32m<ipython-input-449-cdf454505ff5>\u001b[0m in \u001b[0;36m<module>\u001b[1;34m\u001b[0m\n\u001b[0;32m      3\u001b[0m \u001b[1;32mfrom\u001b[0m \u001b[0msklearn\u001b[0m \u001b[1;32mimport\u001b[0m \u001b[0mpipeline\u001b[0m \u001b[1;32mas\u001b[0m \u001b[0mpi\u001b[0m\u001b[1;33m\u001b[0m\u001b[1;33m\u001b[0m\u001b[0m\n\u001b[0;32m      4\u001b[0m \u001b[0mA\u001b[0m\u001b[1;33m=\u001b[0m\u001b[0mtree\u001b[0m\u001b[1;33m.\u001b[0m\u001b[0mDecisionTreeRegressor\u001b[0m\u001b[1;33m(\u001b[0m\u001b[1;33m)\u001b[0m\u001b[1;33m\u001b[0m\u001b[1;33m\u001b[0m\u001b[0m\n\u001b[1;32m----> 5\u001b[1;33m \u001b[0mpip\u001b[0m\u001b[1;33m=\u001b[0m\u001b[0mpi\u001b[0m\u001b[1;33m.\u001b[0m\u001b[0mmake_pipeline\u001b[0m\u001b[1;33m(\u001b[0m\u001b[0mA\u001b[0m\u001b[1;33m,\u001b[0m\u001b[0msk\u001b[0m\u001b[1;33m.\u001b[0m\u001b[0mpreprocessing\u001b[0m\u001b[1;33m.\u001b[0m\u001b[0mOneHotEncoder\u001b[0m\u001b[1;33m)\u001b[0m\u001b[1;33m\u001b[0m\u001b[1;33m\u001b[0m\u001b[0m\n\u001b[0m\u001b[0;32m      6\u001b[0m \u001b[0mpip\u001b[0m\u001b[1;33m.\u001b[0m\u001b[0mfit\u001b[0m\u001b[1;33m(\u001b[0m\u001b[0mX_train\u001b[0m\u001b[1;33m[\u001b[0m\u001b[1;33m[\u001b[0m\u001b[1;34m\"ELEM_POINT_ID\"\u001b[0m\u001b[1;33m,\u001b[0m\u001b[1;34m\"LONGITUDE\"\u001b[0m\u001b[1;33m,\u001b[0m\u001b[1;34m\"LATITUDE\"\u001b[0m\u001b[1;33m,\u001b[0m\u001b[1;34m\"ADR_SECTEUR\"\u001b[0m\u001b[1;33m]\u001b[0m\u001b[1;33m]\u001b[0m\u001b[1;33m,\u001b[0m\u001b[0mY_train\u001b[0m\u001b[1;33m)\u001b[0m\u001b[1;33m\u001b[0m\u001b[1;33m\u001b[0m\u001b[0m\n\u001b[0;32m      7\u001b[0m \u001b[0mmetrics\u001b[0m\u001b[1;33m.\u001b[0m\u001b[0mr2_score\u001b[0m\u001b[1;33m(\u001b[0m\u001b[0mA\u001b[0m\u001b[1;33m.\u001b[0m\u001b[0mpredict\u001b[0m\u001b[1;33m(\u001b[0m\u001b[0mX_test\u001b[0m\u001b[1;33m[\u001b[0m\u001b[1;34m\"ELEM_POINT_ID\"\u001b[0m\u001b[1;33m,\u001b[0m\u001b[1;34m\"LONGITUDE\"\u001b[0m\u001b[1;33m,\u001b[0m\u001b[1;34m\"LATITUDE\"\u001b[0m\u001b[1;33m,\u001b[0m\u001b[1;34m\"ADR_SECTEUR\"\u001b[0m\u001b[1;33m]\u001b[0m\u001b[1;33m)\u001b[0m\u001b[1;33m,\u001b[0m\u001b[0mY_test\u001b[0m\u001b[1;33m)\u001b[0m\u001b[1;33m\u001b[0m\u001b[1;33m\u001b[0m\u001b[0m\n",
      "\u001b[1;32m~\\Anaconda3\\lib\\site-packages\\sklearn\\pipeline.py\u001b[0m in \u001b[0;36mmake_pipeline\u001b[1;34m(*steps, **kwargs)\u001b[0m\n\u001b[0;32m    689\u001b[0m         raise TypeError('Unknown keyword arguments: \"{}\"'\n\u001b[0;32m    690\u001b[0m                         .format(list(kwargs.keys())[0]))\n\u001b[1;32m--> 691\u001b[1;33m     \u001b[1;32mreturn\u001b[0m \u001b[0mPipeline\u001b[0m\u001b[1;33m(\u001b[0m\u001b[0m_name_estimators\u001b[0m\u001b[1;33m(\u001b[0m\u001b[0msteps\u001b[0m\u001b[1;33m)\u001b[0m\u001b[1;33m,\u001b[0m \u001b[0mmemory\u001b[0m\u001b[1;33m=\u001b[0m\u001b[0mmemory\u001b[0m\u001b[1;33m,\u001b[0m \u001b[0mverbose\u001b[0m\u001b[1;33m=\u001b[0m\u001b[0mverbose\u001b[0m\u001b[1;33m)\u001b[0m\u001b[1;33m\u001b[0m\u001b[1;33m\u001b[0m\u001b[0m\n\u001b[0m\u001b[0;32m    692\u001b[0m \u001b[1;33m\u001b[0m\u001b[0m\n\u001b[0;32m    693\u001b[0m \u001b[1;33m\u001b[0m\u001b[0m\n",
      "\u001b[1;32m~\\Anaconda3\\lib\\site-packages\\sklearn\\pipeline.py\u001b[0m in \u001b[0;36m__init__\u001b[1;34m(self, steps, memory, verbose)\u001b[0m\n\u001b[0;32m    133\u001b[0m     \u001b[1;32mdef\u001b[0m \u001b[0m__init__\u001b[0m\u001b[1;33m(\u001b[0m\u001b[0mself\u001b[0m\u001b[1;33m,\u001b[0m \u001b[0msteps\u001b[0m\u001b[1;33m,\u001b[0m \u001b[0mmemory\u001b[0m\u001b[1;33m=\u001b[0m\u001b[1;32mNone\u001b[0m\u001b[1;33m,\u001b[0m \u001b[0mverbose\u001b[0m\u001b[1;33m=\u001b[0m\u001b[1;32mFalse\u001b[0m\u001b[1;33m)\u001b[0m\u001b[1;33m:\u001b[0m\u001b[1;33m\u001b[0m\u001b[1;33m\u001b[0m\u001b[0m\n\u001b[0;32m    134\u001b[0m         \u001b[0mself\u001b[0m\u001b[1;33m.\u001b[0m\u001b[0msteps\u001b[0m \u001b[1;33m=\u001b[0m \u001b[0msteps\u001b[0m\u001b[1;33m\u001b[0m\u001b[1;33m\u001b[0m\u001b[0m\n\u001b[1;32m--> 135\u001b[1;33m         \u001b[0mself\u001b[0m\u001b[1;33m.\u001b[0m\u001b[0m_validate_steps\u001b[0m\u001b[1;33m(\u001b[0m\u001b[1;33m)\u001b[0m\u001b[1;33m\u001b[0m\u001b[1;33m\u001b[0m\u001b[0m\n\u001b[0m\u001b[0;32m    136\u001b[0m         \u001b[0mself\u001b[0m\u001b[1;33m.\u001b[0m\u001b[0mmemory\u001b[0m \u001b[1;33m=\u001b[0m \u001b[0mmemory\u001b[0m\u001b[1;33m\u001b[0m\u001b[1;33m\u001b[0m\u001b[0m\n\u001b[0;32m    137\u001b[0m         \u001b[0mself\u001b[0m\u001b[1;33m.\u001b[0m\u001b[0mverbose\u001b[0m \u001b[1;33m=\u001b[0m \u001b[0mverbose\u001b[0m\u001b[1;33m\u001b[0m\u001b[1;33m\u001b[0m\u001b[0m\n",
      "\u001b[1;32m~\\Anaconda3\\lib\\site-packages\\sklearn\\pipeline.py\u001b[0m in \u001b[0;36m_validate_steps\u001b[1;34m(self)\u001b[0m\n\u001b[0;32m    183\u001b[0m                                 \u001b[1;34m\"transformers and implement fit and transform \"\u001b[0m\u001b[1;33m\u001b[0m\u001b[1;33m\u001b[0m\u001b[0m\n\u001b[0;32m    184\u001b[0m                                 \u001b[1;34m\"or be the string 'passthrough' \"\u001b[0m\u001b[1;33m\u001b[0m\u001b[1;33m\u001b[0m\u001b[0m\n\u001b[1;32m--> 185\u001b[1;33m                                 \"'%s' (type %s) doesn't\" % (t, type(t)))\n\u001b[0m\u001b[0;32m    186\u001b[0m \u001b[1;33m\u001b[0m\u001b[0m\n\u001b[0;32m    187\u001b[0m         \u001b[1;31m# We allow last estimator to be None as an identity transformation\u001b[0m\u001b[1;33m\u001b[0m\u001b[1;33m\u001b[0m\u001b[1;33m\u001b[0m\u001b[0m\n",
      "\u001b[1;31mTypeError\u001b[0m: All intermediate steps should be transformers and implement fit and transform or be the string 'passthrough' 'DecisionTreeRegressor(criterion='mse', max_depth=None, max_features=None,\n                      max_leaf_nodes=None, min_impurity_decrease=0.0,\n                      min_impurity_split=None, min_samples_leaf=1,\n                      min_samples_split=2, min_weight_fraction_leaf=0.0,\n                      presort=False, random_state=None, splitter='best')' (type <class 'sklearn.tree.tree.DecisionTreeRegressor'>) doesn't"
     ]
    }
   ],
   "source": [
    "import sklearn as sk\n",
    "from sklearn import tree \n",
    "from sklearn import pipeline as pi\n",
    "A=tree.DecisionTreeRegressor()\n",
    "pip=pi.make_pipeline(A,sk.preprocessing.OneHotEncoder)\n",
    "pip.fit(X_train[[\"ELEM_POINT_ID\",\"LONGITUDE\",\"LATITUDE\",\"ADR_SECTEUR\"]],Y_train)\n",
    "metrics.r2_score(A.predict(X_test[\"ELEM_POINT_ID\",\"LONGITUDE\",\"LATITUDE\",\"ADR_SECTEUR\"]),Y_test)\n"
   ]
  },
  {
   "cell_type": "markdown",
   "metadata": {},
   "source": [
    "# Prepare data - using pipeline"
   ]
  },
  {
   "cell_type": "markdown",
   "metadata": {},
   "source": [
    "Before starting this step, check how one hot encoding works.\n",
    "\n",
    "Import the `StandardScaler` and `OneHotEncoder` from the scikit-learn `preprocessing` package.\n",
    "\n",
    "Import the `SimpleImputer` from the scikit-learn `impute` package.\n",
    "Finally import the `Pipeline` from the scikit-learn `pipeline` package"
   ]
  },
  {
   "cell_type": "code",
   "execution_count": 30,
   "metadata": {},
   "outputs": [],
   "source": [
    "# code here\n",
    "from sklearn import preprocessing as pp\n",
    "from sklearn.impute import SimpleImputer \n",
    "from sklearn import pipeline as pi\n",
    "Scaler=pp.StandardScaler()\n",
    "Encoder=pp.OneHotEncoder()\n",
    "Imputer_cat=SimpleImputer(strategy='constant',fill_value='no value')\n",
    "Imputer_nb=SimpleImputer()"
   ]
  },
  {
   "cell_type": "markdown",
   "metadata": {},
   "source": [
    "### Make pipelines for numerical and catageorical data\n",
    "\n",
    "Import the `TransformerMixin` and `BaseEstimator` from the scikit-learn `base` package.\n",
    "\n",
    "Import the `ColumnTransformer` from the scikit-learn `compose` package."
   ]
  },
  {
   "cell_type": "code",
   "execution_count": 31,
   "metadata": {},
   "outputs": [],
   "source": [
    "#code here\n",
    "from sklearn.base import TransformerMixin, BaseEstimator\n",
    "\n",
    "class Extract(TransformerMixin, BaseEstimator):\n",
    "    def __init__(self,attribute):\n",
    "        self.attribute = attribute\n",
    "        \n",
    "    def fit(self,X,Y=None):\n",
    "        return self\n",
    "    \n",
    "    def transform(self,X):\n",
    "        return X[self.attribute].values"
   ]
  },
  {
   "cell_type": "markdown",
   "metadata": {},
   "source": [
    "Now the goal is to create a pipeline for each type of attribute\n",
    "\n",
    "The two lists in the code cell below contain the numerical and categorical attributes."
   ]
  },
  {
   "cell_type": "code",
   "execution_count": 32,
   "metadata": {},
   "outputs": [],
   "source": [
    "num_attribs = ['LONGITUDE', 'LATITUDE']\n",
    "cat_attribs = [\"ADR_SECTEUR\", 'COLLECTIVITE', 'STADEDEDEVELOPPEMENT'] # adding , 'GENRE_BOTA' here create many more columns which might cause problems. Leaving out for now.\n",
    "\n",
    "Cat_pipeline=pi.make_pipeline(Extract(cat_attribs),Imputer_cat,Encoder)\n",
    "Num_pipeline=pi.make_pipeline(Extract(num_attribs),Imputer_nb,Scaler)\n",
    "#code here"
   ]
  },
  {
   "cell_type": "markdown",
   "metadata": {},
   "source": [
    "Create two pipelines which will use a `SimpleImputer` for completing missing data:\n",
    "\n",
    "- `num_pipeline` which process numerical data by scaling them using a `StandardScaler`.\n",
    "- `cat_pipeline` which process categorical data by encoding categories using a `OneHotEncoder`."
   ]
  },
  {
   "cell_type": "code",
   "execution_count": 33,
   "metadata": {},
   "outputs": [
    {
     "data": {
      "text/plain": [
       "(23550, 12)"
      ]
     },
     "execution_count": 33,
     "metadata": {},
     "output_type": "execute_result"
    }
   ],
   "source": [
    "#code here\n",
    "\n",
    "num_pipeline = None\n",
    "cat_pipeline = None\n",
    "Cat_pipeline.fit_transform(X_train).shape\n"
   ]
  },
  {
   "cell_type": "markdown",
   "metadata": {},
   "source": [
    "Check if pipelines creating expected shape for categorical features"
   ]
  },
  {
   "cell_type": "code",
   "execution_count": 34,
   "metadata": {},
   "outputs": [
    {
     "data": {
      "text/plain": [
       "(23550, 2)"
      ]
     },
     "execution_count": 34,
     "metadata": {},
     "output_type": "execute_result"
    }
   ],
   "source": [
    "# code here\n",
    "Num_pipeline.fit_transform(X_train).shape"
   ]
  },
  {
   "cell_type": "markdown",
   "metadata": {},
   "source": [
    "Check if pipelines creating expected shape for numerical features"
   ]
  },
  {
   "cell_type": "code",
   "execution_count": 35,
   "metadata": {},
   "outputs": [],
   "source": [
    "# code here\n"
   ]
  },
  {
   "cell_type": "markdown",
   "metadata": {},
   "source": [
    "### Transform the data using full pipeline\n",
    "\n",
    "This step consists in combining the two pipelines into one named `full_pipeline`.\n",
    "\n",
    "Create a variable named `full_pipeline` and use a `ColumnTransformer` to create a pipeline combining the 2 created before."
   ]
  },
  {
   "cell_type": "markdown",
   "metadata": {},
   "source": [
    "Import `FeatureUnion` from the scikit-learn `pipeline` package"
   ]
  },
  {
   "cell_type": "code",
   "execution_count": 67,
   "metadata": {},
   "outputs": [],
   "source": [
    "# code here\n",
    "from sklearn import compose\n",
    "full_pipeline = pi.make_pipeline(compose.ColumnTransformer([(\"num\",Num_pipeline,num_attribs),(\"cat\",Cat_pipeline,cat_attribs)]))\n",
    "from sklearn.pipeline import FeatureUnion as FU"
   ]
  },
  {
   "cell_type": "markdown",
   "metadata": {},
   "source": [
    "use the full pipeline to `fit_transform` the training set"
   ]
  },
  {
   "cell_type": "code",
   "execution_count": 417,
   "metadata": {},
   "outputs": [],
   "source": [
    "# code here\n",
    "X_trainT=full_pipeline.fit_transform(X_train)"
   ]
  },
  {
   "cell_type": "markdown",
   "metadata": {},
   "source": [
    "Use the full pipeline to `fit_transform` the test set"
   ]
  },
  {
   "cell_type": "code",
   "execution_count": 420,
   "metadata": {},
   "outputs": [],
   "source": [
    "# code here\n",
    "X_testT=full_pipeline.fit_transform(X_test)"
   ]
  },
  {
   "cell_type": "markdown",
   "metadata": {},
   "source": [
    "Check the shape of both transformed set."
   ]
  },
  {
   "cell_type": "code",
   "execution_count": 421,
   "metadata": {},
   "outputs": [
    {
     "data": {
      "text/plain": [
       "((7850, 2), (23550, 2))"
      ]
     },
     "execution_count": 421,
     "metadata": {},
     "output_type": "execute_result"
    }
   ],
   "source": [
    "X_trainT.shape # quick check for shape -> yes,  13 columns is what we expect\n",
    "X_testT.shape,X_trainT.shape"
   ]
  },
  {
   "cell_type": "markdown",
   "metadata": {},
   "source": [
    "Do the same to test data, just to ensure that there are no problems pre-modelling."
   ]
  },
  {
   "cell_type": "code",
   "execution_count": 425,
   "metadata": {},
   "outputs": [],
   "source": [
    "X_train2 = full_pipeline.transform(X_train) # TRANSFORM ONLY(!) test data"
   ]
  },
  {
   "cell_type": "code",
   "execution_count": 427,
   "metadata": {},
   "outputs": [
    {
     "data": {
      "text/plain": [
       "array([[ True,  True],\n",
       "       [ True,  True],\n",
       "       [ True,  True],\n",
       "       ...,\n",
       "       [ True,  True],\n",
       "       [ True,  True],\n",
       "       [ True,  True]])"
      ]
     },
     "execution_count": 427,
     "metadata": {},
     "output_type": "execute_result"
    }
   ],
   "source": [
    "(X_trainT)==(X_train2)"
   ]
  },
  {
   "cell_type": "markdown",
   "metadata": {},
   "source": [
    "### New pipeline\n",
    "\n",
    "Now import `BaseEstimator` and `TransformerMixin` from the scikit-learn `base` package."
   ]
  },
  {
   "cell_type": "code",
   "execution_count": 428,
   "metadata": {},
   "outputs": [],
   "source": [
    "#code here\n",
    "from sklearn.base import BaseEstimator, TransformerMixin"
   ]
  },
  {
   "cell_type": "markdown",
   "metadata": {},
   "source": [
    "Complete the `CombinedAttributesAdderNewVersion` class declared below. "
   ]
  },
  {
   "cell_type": "code",
   "execution_count": 429,
   "metadata": {},
   "outputs": [],
   "source": [
    "# column index\n",
    "longitude_id, latitude_ix  = [\"LONGITUDE\", \"LATITUDE\"] # dataframe column indices for these cols\n",
    "\n",
    "class CombinedAttributesAdderNewVersion(BaseEstimator, TransformerMixin):\n",
    "    def __init__(self,attributes_name): # no *args or **kargs\n",
    "        self.attributes_name=attributes_name\n",
    "        \n",
    "    def fit(self, X, y=None):\n",
    "        return self\n",
    "        # return the object itself\n",
    "        \n",
    "    def transform(self, X):\n",
    "        X = np.array(X[self.attributes_name])# convert the train set to numpy array\n",
    "        new_feature =X[:,0]*X[:,1] # combine the two attributes of the given dataframe\n",
    "        # return as dataframe created from the new_feature variable declared before\n",
    "        return pd.DataFrame(new_feature)"
   ]
  },
  {
   "cell_type": "markdown",
   "metadata": {},
   "source": [
    "Initialize the `CombinedAttributesAdderNewVersion` and use the `fit_transform` method on the `LONGITUDE` and `LATITUDE` features."
   ]
  },
  {
   "cell_type": "code",
   "execution_count": 430,
   "metadata": {},
   "outputs": [],
   "source": [
    "attr_adder = CombinedAttributesAdderNewVersion(num_attribs)# instance of CombinedAttributesAdderNewVersion\n",
    "X_train_new_att = attr_adder.fit_transform(X_train)# fit_transform on the right columns"
   ]
  },
  {
   "cell_type": "code",
   "execution_count": 431,
   "metadata": {},
   "outputs": [
    {
     "data": {
      "text/html": [
       "<div>\n",
       "<style scoped>\n",
       "    .dataframe tbody tr th:only-of-type {\n",
       "        vertical-align: middle;\n",
       "    }\n",
       "\n",
       "    .dataframe tbody tr th {\n",
       "        vertical-align: top;\n",
       "    }\n",
       "\n",
       "    .dataframe thead th {\n",
       "        text-align: right;\n",
       "    }\n",
       "</style>\n",
       "<table border=\"1\" class=\"dataframe\">\n",
       "  <thead>\n",
       "    <tr style=\"text-align: right;\">\n",
       "      <th></th>\n",
       "      <th>0</th>\n",
       "    </tr>\n",
       "  </thead>\n",
       "  <tbody>\n",
       "    <tr>\n",
       "      <td>0</td>\n",
       "      <td>257.673367</td>\n",
       "    </tr>\n",
       "    <tr>\n",
       "      <td>1</td>\n",
       "      <td>259.236618</td>\n",
       "    </tr>\n",
       "    <tr>\n",
       "      <td>2</td>\n",
       "      <td>257.571366</td>\n",
       "    </tr>\n",
       "    <tr>\n",
       "      <td>3</td>\n",
       "      <td>258.180319</td>\n",
       "    </tr>\n",
       "    <tr>\n",
       "      <td>4</td>\n",
       "      <td>258.356793</td>\n",
       "    </tr>\n",
       "    <tr>\n",
       "      <td>...</td>\n",
       "      <td>...</td>\n",
       "    </tr>\n",
       "    <tr>\n",
       "      <td>23545</td>\n",
       "      <td>258.184832</td>\n",
       "    </tr>\n",
       "    <tr>\n",
       "      <td>23546</td>\n",
       "      <td>258.889512</td>\n",
       "    </tr>\n",
       "    <tr>\n",
       "      <td>23547</td>\n",
       "      <td>259.154182</td>\n",
       "    </tr>\n",
       "    <tr>\n",
       "      <td>23548</td>\n",
       "      <td>258.138488</td>\n",
       "    </tr>\n",
       "    <tr>\n",
       "      <td>23549</td>\n",
       "      <td>258.449489</td>\n",
       "    </tr>\n",
       "  </tbody>\n",
       "</table>\n",
       "<p>23550 rows × 1 columns</p>\n",
       "</div>"
      ],
      "text/plain": [
       "                0\n",
       "0      257.673367\n",
       "1      259.236618\n",
       "2      257.571366\n",
       "3      258.180319\n",
       "4      258.356793\n",
       "...           ...\n",
       "23545  258.184832\n",
       "23546  258.889512\n",
       "23547  259.154182\n",
       "23548  258.138488\n",
       "23549  258.449489\n",
       "\n",
       "[23550 rows x 1 columns]"
      ]
     },
     "execution_count": 431,
     "metadata": {},
     "output_type": "execute_result"
    }
   ],
   "source": [
    "CombinedAttributesAdderNewVersion(num_attribs).fit_transform(X_train)"
   ]
  },
  {
   "cell_type": "markdown",
   "metadata": {},
   "source": [
    "display the new attributes"
   ]
  },
  {
   "cell_type": "code",
   "execution_count": 432,
   "metadata": {},
   "outputs": [
    {
     "data": {
      "text/html": [
       "<div>\n",
       "<style scoped>\n",
       "    .dataframe tbody tr th:only-of-type {\n",
       "        vertical-align: middle;\n",
       "    }\n",
       "\n",
       "    .dataframe tbody tr th {\n",
       "        vertical-align: top;\n",
       "    }\n",
       "\n",
       "    .dataframe thead th {\n",
       "        text-align: right;\n",
       "    }\n",
       "</style>\n",
       "<table border=\"1\" class=\"dataframe\">\n",
       "  <thead>\n",
       "    <tr style=\"text-align: right;\">\n",
       "      <th></th>\n",
       "      <th>0</th>\n",
       "    </tr>\n",
       "  </thead>\n",
       "  <tbody>\n",
       "    <tr>\n",
       "      <td>0</td>\n",
       "      <td>257.673367</td>\n",
       "    </tr>\n",
       "    <tr>\n",
       "      <td>1</td>\n",
       "      <td>259.236618</td>\n",
       "    </tr>\n",
       "    <tr>\n",
       "      <td>2</td>\n",
       "      <td>257.571366</td>\n",
       "    </tr>\n",
       "    <tr>\n",
       "      <td>3</td>\n",
       "      <td>258.180319</td>\n",
       "    </tr>\n",
       "    <tr>\n",
       "      <td>4</td>\n",
       "      <td>258.356793</td>\n",
       "    </tr>\n",
       "    <tr>\n",
       "      <td>...</td>\n",
       "      <td>...</td>\n",
       "    </tr>\n",
       "    <tr>\n",
       "      <td>23545</td>\n",
       "      <td>258.184832</td>\n",
       "    </tr>\n",
       "    <tr>\n",
       "      <td>23546</td>\n",
       "      <td>258.889512</td>\n",
       "    </tr>\n",
       "    <tr>\n",
       "      <td>23547</td>\n",
       "      <td>259.154182</td>\n",
       "    </tr>\n",
       "    <tr>\n",
       "      <td>23548</td>\n",
       "      <td>258.138488</td>\n",
       "    </tr>\n",
       "    <tr>\n",
       "      <td>23549</td>\n",
       "      <td>258.449489</td>\n",
       "    </tr>\n",
       "  </tbody>\n",
       "</table>\n",
       "<p>23550 rows × 1 columns</p>\n",
       "</div>"
      ],
      "text/plain": [
       "                0\n",
       "0      257.673367\n",
       "1      259.236618\n",
       "2      257.571366\n",
       "3      258.180319\n",
       "4      258.356793\n",
       "...           ...\n",
       "23545  258.184832\n",
       "23546  258.889512\n",
       "23547  259.154182\n",
       "23548  258.138488\n",
       "23549  258.449489\n",
       "\n",
       "[23550 rows x 1 columns]"
      ]
     },
     "execution_count": 432,
     "metadata": {},
     "output_type": "execute_result"
    }
   ],
   "source": [
    "# code here\n",
    "X_train_new_att"
   ]
  },
  {
   "cell_type": "markdown",
   "metadata": {},
   "source": [
    "Use the pipelines created before and a new feature pipeline in order to create a full_pipeline which includes the newly created feature."
   ]
  },
  {
   "cell_type": "code",
   "execution_count": 433,
   "metadata": {},
   "outputs": [],
   "source": [
    "num_attribs = ['LONGITUDE', 'LATITUDE']\n",
    "cat_attribs = [\"ADR_SECTEUR\", 'COLLECTIVITE', 'STADEDEDEVELOPPEMENT']\n",
    "\n",
    "#numerical features pipeline\n",
    "#categorical features pipeline\n",
    "\n",
    "new_features=pi.FeatureUnion([(\"num\",CombinedAttributesAdderNewVersion(num_attribs)),(\"cat\",CombinedAttributesAdderNewVersion(cat_attribs))])\n",
    "full_pipeline=pi.FeatureUnion([(\"num\",Num_pipeline),(\"cat\",Cat_pipeline),(\"new\",new_features)])"
   ]
  },
  {
   "cell_type": "code",
   "execution_count": 434,
   "metadata": {},
   "outputs": [
    {
     "data": {
      "text/plain": [
       "array([[257.6733666766892,\n",
       "        'Ville de GrenobleVille de GrenobleVille de Grenoble'],\n",
       "       [259.2366181966532,\n",
       "        'Grenoble Alpes MétropoleGrenoble Alpes MétropoleGrenoble Alpes MétropoleGrenoble Alpes MétropoleGrenoble Alpes Métropole'],\n",
       "       [257.5713660144842,\n",
       "        'Ville de GrenobleVille de GrenobleVille de Grenoble'],\n",
       "       ...,\n",
       "       [259.1541819075855,\n",
       "        'Ville de GrenobleVille de GrenobleVille de GrenobleVille de GrenobleVille de Grenoble'],\n",
       "       [258.13848768534643,\n",
       "        'Ville de GrenobleVille de GrenobleVille de Grenoble'],\n",
       "       [258.4494885837818,\n",
       "        'Grenoble Alpes MétropoleGrenoble Alpes Métropole']], dtype=object)"
      ]
     },
     "execution_count": 434,
     "metadata": {},
     "output_type": "execute_result"
    }
   ],
   "source": [
    "new_features.fit_transform(X_train)"
   ]
  },
  {
   "cell_type": "markdown",
   "metadata": {},
   "source": [
    "Create a full pipeline with the pipeline created before.\n",
    "\n",
    "This full pipeline has to create two new features : \n",
    "- the first combines the `LONGITUDE`and `LATITUDE` columns\n",
    "- the other combines the `LONGITUDE` and `ADR_SECTEUR` columns\n",
    "\n",
    "Complete the cell below."
   ]
  },
  {
   "cell_type": "code",
   "execution_count": 435,
   "metadata": {},
   "outputs": [],
   "source": [
    "first_pipeline=pi.make_pipeline(CombinedAttributesAdderNewVersion(num_attribs))\n",
    "second_pipeline=pi.make_pipeline(CombinedAttributesAdderNewVersion([\"ADR_SECTEUR\",\"LONGITUDE\"]))"
   ]
  },
  {
   "cell_type": "code",
   "execution_count": 436,
   "metadata": {},
   "outputs": [],
   "source": [
    "full_pipeline = pi.FeatureUnion([(\"first\",first_pipeline),(\"second\",second_pipeline)])\n",
    "\n",
    "# code here "
   ]
  },
  {
   "cell_type": "markdown",
   "metadata": {},
   "source": [
    "Use the `fit_transform` method of the new pipeline on the train dataset."
   ]
  },
  {
   "cell_type": "code",
   "execution_count": 437,
   "metadata": {},
   "outputs": [],
   "source": [
    "X_trainT = full_pipeline.fit_transform(X_train)#code here"
   ]
  },
  {
   "cell_type": "markdown",
   "metadata": {},
   "source": [
    "Display the `X_trainT` by instanciating a dataframe with it."
   ]
  },
  {
   "cell_type": "code",
   "execution_count": 438,
   "metadata": {},
   "outputs": [
    {
     "data": {
      "text/plain": [
       "array([[257.67336668, 135.48839521],\n",
       "       [259.2366182 , 225.86156945],\n",
       "       [257.57136601, 135.48982739],\n",
       "       ...,\n",
       "       [259.15418191, 225.92260394],\n",
       "       [258.13848769, 135.5244283 ],\n",
       "       [258.44948858,  90.37838975]])"
      ]
     },
     "execution_count": 438,
     "metadata": {},
     "output_type": "execute_result"
    }
   ],
   "source": [
    "#code here\n",
    "X_trainT\n"
   ]
  },
  {
   "cell_type": "markdown",
   "metadata": {},
   "source": [
    "# Model Build"
   ]
  },
  {
   "cell_type": "markdown",
   "metadata": {},
   "source": [
    "### Linear regression\n",
    "\n",
    "Import the `LinearRegression` model from the scikit-learn `linear_model` package.\n",
    "\n",
    "Import `cross_val_score` from the scikit-learn `model_selection` package."
   ]
  },
  {
   "cell_type": "code",
   "execution_count": 439,
   "metadata": {},
   "outputs": [],
   "source": [
    "# code here\n",
    "from sklearn.linear_model import LinearRegression as LR\n",
    "from sklearn.model_selection import cross_val_score as CVS\n"
   ]
  },
  {
   "cell_type": "markdown",
   "metadata": {},
   "source": [
    "Create the LinearRegression object."
   ]
  },
  {
   "cell_type": "code",
   "execution_count": 440,
   "metadata": {},
   "outputs": [
    {
     "data": {
      "text/plain": [
       "dict_keys(['explained_variance', 'r2', 'max_error', 'neg_median_absolute_error', 'neg_mean_absolute_error', 'neg_mean_squared_error', 'neg_mean_squared_log_error', 'accuracy', 'roc_auc', 'balanced_accuracy', 'average_precision', 'neg_log_loss', 'brier_score_loss', 'adjusted_rand_score', 'homogeneity_score', 'completeness_score', 'v_measure_score', 'mutual_info_score', 'adjusted_mutual_info_score', 'normalized_mutual_info_score', 'fowlkes_mallows_score', 'precision', 'precision_macro', 'precision_micro', 'precision_samples', 'precision_weighted', 'recall', 'recall_macro', 'recall_micro', 'recall_samples', 'recall_weighted', 'f1', 'f1_macro', 'f1_micro', 'f1_samples', 'f1_weighted', 'jaccard', 'jaccard_macro', 'jaccard_micro', 'jaccard_samples', 'jaccard_weighted'])"
      ]
     },
     "execution_count": 440,
     "metadata": {},
     "output_type": "execute_result"
    }
   ],
   "source": [
    "# code here*\n",
    "L=LR()\n",
    "sk.metrics.SCORERS.keys()\n"
   ]
  },
  {
   "cell_type": "markdown",
   "metadata": {},
   "source": [
    "Build linear regresion model and estimate test error using cross validation (10 folds).\n",
    "\n",
    "Store the cross validation scores in a `scores` variable. \n",
    "\n",
    "*Use the Negative Mean Square Error ($NMSE$) as scoring metric.*"
   ]
  },
  {
   "cell_type": "code",
   "execution_count": null,
   "metadata": {},
   "outputs": [],
   "source": [
    "# code here\n",
    "m=Y_train.mean()\n",
    "m\n",
    "y=Y_train.fillna(m)\n",
    "#y=Imputer_nb.fit_transform(Y_train)\n",
    "#scores=CVS(L,X_trainT,y,cv=10,scoring='neg_mean_squared_error')\n",
    "#scores"
   ]
  },
  {
   "cell_type": "markdown",
   "metadata": {},
   "source": [
    "describe the scores"
   ]
  },
  {
   "cell_type": "code",
   "execution_count": 442,
   "metadata": {},
   "outputs": [
    {
     "data": {
      "text/plain": [
       "array([-0.00033355, -0.00080863, -0.00064031, -0.00068214, -0.00080168,\n",
       "       -0.00042462, -0.00056739, -0.0005283 , -0.00025923, -0.00024561])"
      ]
     },
     "execution_count": 442,
     "metadata": {},
     "output_type": "execute_result"
    }
   ],
   "source": [
    "CVS(L,X_trainT,Y_trainT,cv=10,scoring='r2')"
   ]
  },
  {
   "cell_type": "code",
   "execution_count": 416,
   "metadata": {},
   "outputs": [
    {
     "data": {
      "text/html": [
       "<div>\n",
       "<style scoped>\n",
       "    .dataframe tbody tr th:only-of-type {\n",
       "        vertical-align: middle;\n",
       "    }\n",
       "\n",
       "    .dataframe tbody tr th {\n",
       "        vertical-align: top;\n",
       "    }\n",
       "\n",
       "    .dataframe thead th {\n",
       "        text-align: right;\n",
       "    }\n",
       "</style>\n",
       "<table border=\"1\" class=\"dataframe\">\n",
       "  <thead>\n",
       "    <tr style=\"text-align: right;\">\n",
       "      <th></th>\n",
       "      <th>0</th>\n",
       "    </tr>\n",
       "  </thead>\n",
       "  <tbody>\n",
       "    <tr>\n",
       "      <td>count</td>\n",
       "      <td>10.000000</td>\n",
       "    </tr>\n",
       "    <tr>\n",
       "      <td>mean</td>\n",
       "      <td>-0.267816</td>\n",
       "    </tr>\n",
       "    <tr>\n",
       "      <td>std</td>\n",
       "      <td>0.003836</td>\n",
       "    </tr>\n",
       "    <tr>\n",
       "      <td>min</td>\n",
       "      <td>-0.275362</td>\n",
       "    </tr>\n",
       "    <tr>\n",
       "      <td>25%</td>\n",
       "      <td>-0.270288</td>\n",
       "    </tr>\n",
       "    <tr>\n",
       "      <td>50%</td>\n",
       "      <td>-0.266926</td>\n",
       "    </tr>\n",
       "    <tr>\n",
       "      <td>75%</td>\n",
       "      <td>-0.265267</td>\n",
       "    </tr>\n",
       "    <tr>\n",
       "      <td>max</td>\n",
       "      <td>-0.263176</td>\n",
       "    </tr>\n",
       "  </tbody>\n",
       "</table>\n",
       "</div>"
      ],
      "text/plain": [
       "               0\n",
       "count  10.000000\n",
       "mean   -0.267816\n",
       "std     0.003836\n",
       "min    -0.275362\n",
       "25%    -0.270288\n",
       "50%    -0.266926\n",
       "75%    -0.265267\n",
       "max    -0.263176"
      ]
     },
     "execution_count": 416,
     "metadata": {},
     "output_type": "execute_result"
    }
   ],
   "source": [
    "# code here\n",
    "pd.DataFrame(scores).describe()"
   ]
  },
  {
   "cell_type": "markdown",
   "metadata": {},
   "source": [
    "std is really low so there is a low spread which means that data set selection is not likely to be related to the model by much:\n",
    "all the 10 model gave more or less the the same error onto the tested set\n",
    "the low mean_squared_error will lead me to think that the interpolation is good\n",
    "\n",
    "Whereas r2 score give the complete opposite, it seems like an unlikely case"
   ]
  },
  {
   "cell_type": "markdown",
   "metadata": {},
   "source": [
    "### Decision tree regressor\n",
    "\n",
    "Now, import the `DecisionTreeRegressor` from the scikit-learn `tree` package."
   ]
  },
  {
   "cell_type": "code",
   "execution_count": 358,
   "metadata": {},
   "outputs": [],
   "source": [
    "#code here\n",
    "from sklearn.tree import DecisionTreeRegressor as DTR\n",
    "\n",
    "\n"
   ]
  },
  {
   "cell_type": "markdown",
   "metadata": {},
   "source": [
    "Build a `DecisionTreeRegressor` with a random state equals to 42."
   ]
  },
  {
   "cell_type": "code",
   "execution_count": 359,
   "metadata": {},
   "outputs": [],
   "source": [
    "# code here\n",
    "Decision_tree=DTR(random_state=42)"
   ]
  },
  {
   "cell_type": "markdown",
   "metadata": {},
   "source": [
    "use the `cross_val_score` method to train and evaluate the built model, with the **NMSE** scoring metric."
   ]
  },
  {
   "cell_type": "code",
   "execution_count": 370,
   "metadata": {},
   "outputs": [
    {
     "name": "stdout",
     "output_type": "stream",
     "text": [
      "[-0.54621789 -0.53173533 -0.54041853 -0.55086895 -0.53051308 -0.53151445\n",
      " -0.53612869 -0.5456087  -0.54012688 -0.52854691] [-1.06659913 -1.00812355 -1.02902294 -1.08523457 -1.04078141 -1.0069556\n",
      " -1.01669168 -1.0009122  -1.01106489 -1.00994336]\n"
     ]
    }
   ],
   "source": [
    "# code here\n",
    "scores=CVS(Decision_tree,X_trainT,Y_trainT,scoring='neg_mean_squared_error',cv=10)\n",
    "scores2=CVS(Decision_tree,X_trainT,Y_trainT,scoring='r2',cv=10)\n",
    "print(scores,scores2)"
   ]
  },
  {
   "cell_type": "markdown",
   "metadata": {},
   "source": [
    "Describe the scores"
   ]
  },
  {
   "cell_type": "code",
   "execution_count": 371,
   "metadata": {},
   "outputs": [
    {
     "data": {
      "text/html": [
       "<div>\n",
       "<style scoped>\n",
       "    .dataframe tbody tr th:only-of-type {\n",
       "        vertical-align: middle;\n",
       "    }\n",
       "\n",
       "    .dataframe tbody tr th {\n",
       "        vertical-align: top;\n",
       "    }\n",
       "\n",
       "    .dataframe thead th {\n",
       "        text-align: right;\n",
       "    }\n",
       "</style>\n",
       "<table border=\"1\" class=\"dataframe\">\n",
       "  <thead>\n",
       "    <tr style=\"text-align: right;\">\n",
       "      <th></th>\n",
       "      <th>0</th>\n",
       "    </tr>\n",
       "  </thead>\n",
       "  <tbody>\n",
       "    <tr>\n",
       "      <td>count</td>\n",
       "      <td>10.000000</td>\n",
       "    </tr>\n",
       "    <tr>\n",
       "      <td>mean</td>\n",
       "      <td>-0.538168</td>\n",
       "    </tr>\n",
       "    <tr>\n",
       "      <td>std</td>\n",
       "      <td>0.007684</td>\n",
       "    </tr>\n",
       "    <tr>\n",
       "      <td>min</td>\n",
       "      <td>-0.550869</td>\n",
       "    </tr>\n",
       "    <tr>\n",
       "      <td>25%</td>\n",
       "      <td>-0.544311</td>\n",
       "    </tr>\n",
       "    <tr>\n",
       "      <td>50%</td>\n",
       "      <td>-0.538128</td>\n",
       "    </tr>\n",
       "    <tr>\n",
       "      <td>75%</td>\n",
       "      <td>-0.531570</td>\n",
       "    </tr>\n",
       "    <tr>\n",
       "      <td>max</td>\n",
       "      <td>-0.528547</td>\n",
       "    </tr>\n",
       "  </tbody>\n",
       "</table>\n",
       "</div>"
      ],
      "text/plain": [
       "               0\n",
       "count  10.000000\n",
       "mean   -0.538168\n",
       "std     0.007684\n",
       "min    -0.550869\n",
       "25%    -0.544311\n",
       "50%    -0.538128\n",
       "75%    -0.531570\n",
       "max    -0.528547"
      ]
     },
     "execution_count": 371,
     "metadata": {},
     "output_type": "execute_result"
    }
   ],
   "source": [
    "# code here\n",
    "pd.DataFrame(scores).describe()"
   ]
  },
  {
   "cell_type": "markdown",
   "metadata": {},
   "source": [
    "more reliant onto train set for approximation fonction\n"
   ]
  },
  {
   "cell_type": "markdown",
   "metadata": {},
   "source": [
    "### random forest - small number of trees\n",
    "\n",
    "Now, import the `RandomForestRegressor` from the scikit-learn `ensemble` package."
   ]
  },
  {
   "cell_type": "code",
   "execution_count": 374,
   "metadata": {},
   "outputs": [],
   "source": [
    "#code here\n",
    "from sklearn.ensemble import RandomForestRegressor\n"
   ]
  },
  {
   "cell_type": "markdown",
   "metadata": {},
   "source": [
    "Build a `RandomForestRegressor` with 4 `estimators` and 8 `max_features`."
   ]
  },
  {
   "cell_type": "code",
   "execution_count": 408,
   "metadata": {},
   "outputs": [],
   "source": [
    "# code here\n",
    "RFR=RandomForestRegressor(n_estimators=4 )"
   ]
  },
  {
   "cell_type": "markdown",
   "metadata": {},
   "source": [
    "use the `cross_val_score` method to train and evaluate the built model, with the **NMSE** scoring metric."
   ]
  },
  {
   "cell_type": "code",
   "execution_count": 409,
   "metadata": {},
   "outputs": [
    {
     "name": "stderr",
     "output_type": "stream",
     "text": [
      "C:\\Users\\33695\\Anaconda3\\lib\\site-packages\\sklearn\\model_selection\\_split.py:1978: FutureWarning: The default value of cv will change from 3 to 5 in version 0.22. Specify it explicitly to silence this warning.\n",
      "  warnings.warn(CV_WARNING, FutureWarning)\n",
      "C:\\Users\\33695\\Anaconda3\\lib\\site-packages\\sklearn\\model_selection\\_split.py:1978: FutureWarning: The default value of cv will change from 3 to 5 in version 0.22. Specify it explicitly to silence this warning.\n",
      "  warnings.warn(CV_WARNING, FutureWarning)\n"
     ]
    }
   ],
   "source": [
    "# code here\n",
    "scores=CVS(RFR,X_trainT,Y_trainT,scoring='neg_mean_squared_error')\n",
    "scores_2=CVS(RFR,X_trainT,Y_trainT,scoring='r2')"
   ]
  },
  {
   "cell_type": "markdown",
   "metadata": {},
   "source": [
    "Describe the scores"
   ]
  },
  {
   "cell_type": "code",
   "execution_count": 410,
   "metadata": {},
   "outputs": [
    {
     "data": {
      "text/plain": [
       "(array([-0.37833439, -0.36860146, -0.37486301]),\n",
       " array([-0.38555117, -0.4012262 , -0.39651992]))"
      ]
     },
     "execution_count": 410,
     "metadata": {},
     "output_type": "execute_result"
    }
   ],
   "source": [
    "# code here\n",
    "scores,scores_2"
   ]
  },
  {
   "cell_type": "markdown",
   "metadata": {},
   "source": [
    "### Conclusion"
   ]
  },
  {
   "cell_type": "markdown",
   "metadata": {},
   "source": [
    "Does these new features improve the model performance?"
   ]
  },
  {
   "cell_type": "code",
   "execution_count": null,
   "metadata": {},
   "outputs": [],
   "source": [
    "No, but I wasn't able to"
   ]
  }
 ],
 "metadata": {
  "kernelspec": {
   "display_name": "Python 3",
   "language": "python",
   "name": "python3"
  },
  "language_info": {
   "codemirror_mode": {
    "name": "ipython",
    "version": 3
   },
   "file_extension": ".py",
   "mimetype": "text/x-python",
   "name": "python",
   "nbconvert_exporter": "python",
   "pygments_lexer": "ipython3",
   "version": "3.7.4"
  }
 },
 "nbformat": 4,
 "nbformat_minor": 4
}
