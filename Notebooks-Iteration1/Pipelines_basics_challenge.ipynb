{
 "cells": [
  {
   "cell_type": "markdown",
   "metadata": {},
   "source": [
    "# Learn and practice Pipelines notebook!\n",
    "\n",
    "\n",
    "Objective \n",
    "* break down Transformers and Pipelines so that they can be understood better.\n",
    "\n",
    "Definitions:\n",
    "\n",
    "\n",
    "A sklearn Transformer is usually used to pass data from one stage to another (but they can actually be used to pass anything). Examples include:\n",
    "* OneHotEncoder\n",
    "* StandardScaler\n",
    "* ....etc\n",
    "\n",
    "A sklearn `Pipeline` is used to chain multiple transformers together.\n",
    "\n",
    "Pipeline is also a generic term used to describe the process of moving data from one form/state to another."
   ]
  },
  {
   "cell_type": "markdown",
   "metadata": {},
   "source": [
    "##### To begin\n",
    "Inspect the scikit learn documentation corresponding to the following: `SimpleImputer`,  `Pipeline`, `StandardScaler`, `OneHotEncoder`. For each of these read its purpose and an example of use. \n",
    "\n",
    "Add the necessary import statements to use them."
   ]
  },
  {
   "cell_type": "code",
   "execution_count": null,
   "metadata": {},
   "outputs": [],
   "source": [
    "# code here"
   ]
  },
  {
   "cell_type": "code",
   "execution_count": null,
   "metadata": {},
   "outputs": [],
   "source": [
    "import pandas as pd\n",
    "import numpy as np"
   ]
  },
  {
   "cell_type": "markdown",
   "metadata": {},
   "source": [
    "# Transformers"
   ]
  },
  {
   "cell_type": "markdown",
   "metadata": {},
   "source": [
    "## Numeric transformers"
   ]
  },
  {
   "cell_type": "markdown",
   "metadata": {},
   "source": [
    "### Inputer"
   ]
  },
  {
   "cell_type": "code",
   "execution_count": null,
   "metadata": {},
   "outputs": [],
   "source": [
    "num_data1 = {'scores':[5,5,7,1,8,np.nan]}\n",
    "df_num1 = pd.DataFrame(num_data1)\n",
    "df_num1"
   ]
  },
  {
   "cell_type": "markdown",
   "metadata": {},
   "source": [
    "Instatiate a variable `imputer` to a `SimpleImputer` with `median` value as strategy. Run `.fit_transform()` on the numeric dataframe above and save the result in the `imputed_data` variable."
   ]
  },
  {
   "cell_type": "code",
   "execution_count": null,
   "metadata": {},
   "outputs": [],
   "source": [
    "# code here\n",
    "imputer = None\n",
    "\n",
    "imputed_data = None\n",
    "\n",
    "imputed_data"
   ]
  },
  {
   "cell_type": "markdown",
   "metadata": {},
   "source": [
    "Check the changes for the object passed as input to the imputer (`df_num1`).\n",
    "\n",
    "\n",
    "It is not longer a dataframe. What type is it? What values are changed? Answer below."
   ]
  },
  {
   "cell_type": "markdown",
   "metadata": {},
   "source": [
    "*Answer here*"
   ]
  },
  {
   "cell_type": "markdown",
   "metadata": {},
   "source": [
    "Try changing the `stratergy` input.\n",
    "\n",
    "Observe the difference in results and write them down in the cell below."
   ]
  },
  {
   "cell_type": "code",
   "execution_count": null,
   "metadata": {},
   "outputs": [],
   "source": [
    "# code here\n"
   ]
  },
  {
   "cell_type": "markdown",
   "metadata": {},
   "source": [
    "*Observations here*"
   ]
  },
  {
   "cell_type": "markdown",
   "metadata": {},
   "source": [
    "### Scaler"
   ]
  },
  {
   "cell_type": "code",
   "execution_count": null,
   "metadata": {},
   "outputs": [],
   "source": [
    "num_data2 = {'scores':[1,2,3,1,2,3]}\n",
    "df_num2 = pd.DataFrame(num_data2)\n",
    "df_num2"
   ]
  },
  {
   "cell_type": "markdown",
   "metadata": {},
   "source": [
    "Instatiate a variable `scaler`to a `StandardScaler`. Run `fit_transform()` and save the result in a new variable `scaled_data`. Inspect the output and write down your observations below."
   ]
  },
  {
   "cell_type": "code",
   "execution_count": null,
   "metadata": {},
   "outputs": [],
   "source": [
    "# code here\n"
   ]
  },
  {
   "cell_type": "markdown",
   "metadata": {},
   "source": [
    "*Write down your observations here*"
   ]
  },
  {
   "cell_type": "markdown",
   "metadata": {},
   "source": [
    "Calulate the mean and standard deviation of your data and save them in two variables. Print the content of these variables."
   ]
  },
  {
   "cell_type": "code",
   "execution_count": null,
   "metadata": {},
   "outputs": [],
   "source": [
    "# code here\n",
    "std = 0\n",
    "mean = 0"
   ]
  },
  {
   "cell_type": "markdown",
   "metadata": {},
   "source": [
    "Compute the values obtained if you substract from each element in `df_num2` the mean and then divide by the standard deviation.\n",
    "`(value - mean)/std`. Save the results in an array."
   ]
  },
  {
   "cell_type": "code",
   "execution_count": null,
   "metadata": {},
   "outputs": [],
   "source": [
    "# code here"
   ]
  },
  {
   "cell_type": "markdown",
   "metadata": {},
   "source": [
    "How do the results compare to the values in `scaled_data`? Why are they different?"
   ]
  },
  {
   "cell_type": "markdown",
   "metadata": {},
   "source": [
    "*Answer here*"
   ]
  },
  {
   "cell_type": "markdown",
   "metadata": {},
   "source": [
    "Make the necessary modifications to obtain the same results as in `scaled_data`. Hint: Inspect the default parameter values for the functions called."
   ]
  },
  {
   "cell_type": "code",
   "execution_count": null,
   "metadata": {},
   "outputs": [],
   "source": [
    "# code here"
   ]
  },
  {
   "cell_type": "markdown",
   "metadata": {},
   "source": [
    "## Non-numeric transformers"
   ]
  },
  {
   "cell_type": "code",
   "execution_count": null,
   "metadata": {},
   "outputs": [],
   "source": [
    "cat_data1 = {'names':['Sophie','Michael','Eric','Eric','Sopie', 'Xavier']} \n",
    "df_cat = pd.DataFrame(cat_data1)\n",
    "df_cat"
   ]
  },
  {
   "cell_type": "markdown",
   "metadata": {},
   "source": [
    "Look up the documentation for `OrdinalEncoder`, add the necessary import statement, and initialize a variable `ord_encoder` to a `OrdinalEncoder`. Use `fit_transform()` and save the result in a variable `ord_encoded_data`. Print the content of the variable."
   ]
  },
  {
   "cell_type": "code",
   "execution_count": null,
   "metadata": {},
   "outputs": [],
   "source": [
    "# code here"
   ]
  },
  {
   "cell_type": "markdown",
   "metadata": {},
   "source": [
    "Import `OneHotEncoder` and use `fit_transform()` on the same data,  (set `sparse = False` for readability). Save the result in a variable and print its content."
   ]
  },
  {
   "cell_type": "code",
   "execution_count": null,
   "metadata": {},
   "outputs": [],
   "source": [
    "# code here"
   ]
  },
  {
   "cell_type": "markdown",
   "metadata": {},
   "source": [
    "What is this returning? How does it relate to the data saved in `ord_encoded_data`?\n",
    "\n",
    "HINT: look at the `.catagories_` attribute after you have used `fit_transform()`. Write your observations below."
   ]
  },
  {
   "cell_type": "markdown",
   "metadata": {},
   "source": [
    "*Answer here*"
   ]
  },
  {
   "cell_type": "markdown",
   "metadata": {},
   "source": [
    "# Using on test set\n",
    "\n",
    "\n",
    "In general, the idea is to use the `fit_transform()` method on the train data, followed by the `transform()` method on the test data. This allows one to make sure exactly the same processing steps are applied on both data sets. \n",
    "\n",
    "\n",
    "#### Non-numerical data\n"
   ]
  },
  {
   "cell_type": "code",
   "execution_count": null,
   "metadata": {},
   "outputs": [],
   "source": [
    "#The encoder saved in `ord_encoder` has already been fit to the train data and so is ready to be used to transform the test data\n",
    "ord_encoder"
   ]
  },
  {
   "cell_type": "markdown",
   "metadata": {},
   "source": [
    "For example using our `ord_encoder` above, we can pass new data to the `transform()` function. Let there be a new dataframe `df_cat3` below."
   ]
  },
  {
   "cell_type": "code",
   "execution_count": null,
   "metadata": {},
   "outputs": [],
   "source": [
    "cat_data3 = {'names':['Xavier','Xavier','Eric']} #'Antoine','Xavier',\n",
    "df_cat3 = pd.DataFrame(cat_data3)\n",
    "df_cat3"
   ]
  },
  {
   "cell_type": "markdown",
   "metadata": {},
   "source": [
    "Call `transform()` on using this new data set. What do you see has happened? Answer in the space below."
   ]
  },
  {
   "cell_type": "code",
   "execution_count": null,
   "metadata": {},
   "outputs": [],
   "source": [
    "# code here"
   ]
  },
  {
   "cell_type": "markdown",
   "metadata": {},
   "source": [
    "*Answer here*"
   ]
  },
  {
   "cell_type": "markdown",
   "metadata": {},
   "source": [
    "Note that the above will throw an error if the new data has categories not present in the training data. What are possible solutions to avoid that? Answer below."
   ]
  },
  {
   "cell_type": "markdown",
   "metadata": {},
   "source": [
    "*Answer here*"
   ]
  },
  {
   "cell_type": "markdown",
   "metadata": {},
   "source": [
    "#### Numerical data\n",
    "\n",
    "Let's take a look now at how to employ a similar process on new numerical data."
   ]
  },
  {
   "cell_type": "code",
   "execution_count": null,
   "metadata": {},
   "outputs": [],
   "source": [
    "num_data3 = {'scores':[4,8,12]}\n",
    "df_num3 = pd.DataFrame(num_data3)\n",
    "df_num3"
   ]
  },
  {
   "cell_type": "markdown",
   "metadata": {},
   "source": [
    "Now use the previously fitted `StandardScaler` to `transform()` the new data in `df_num3`. Which are the observed effects? Answer in the space below."
   ]
  },
  {
   "cell_type": "code",
   "execution_count": null,
   "metadata": {},
   "outputs": [],
   "source": [
    "# code here"
   ]
  },
  {
   "cell_type": "markdown",
   "metadata": {},
   "source": [
    "*Answer here*"
   ]
  },
  {
   "cell_type": "markdown",
   "metadata": {},
   "source": [
    "# Pipeline\n",
    "\n",
    "We can chain multiple commands together in a pipeline. The pipeline will run by preserving the order in which the commands are placed."
   ]
  },
  {
   "cell_type": "markdown",
   "metadata": {},
   "source": [
    "Make the necessary import from scikit learn to use `Pipeline`."
   ]
  },
  {
   "cell_type": "code",
   "execution_count": null,
   "metadata": {},
   "outputs": [],
   "source": [
    "# code here"
   ]
  },
  {
   "cell_type": "markdown",
   "metadata": {},
   "source": [
    "#### Numerical data\n",
    "\n",
    "Define a `Pipeline` consisting of two operations: the application of a `SimpleImputer` and the application of a `StandardScaler`. Save the result in a variable `num_pipeline`. "
   ]
  },
  {
   "cell_type": "code",
   "execution_count": null,
   "metadata": {},
   "outputs": [],
   "source": [
    "# code here"
   ]
  },
  {
   "cell_type": "markdown",
   "metadata": {},
   "source": [
    "Call `fit_transform()` on the `df_num1` data using the `num_pipeline` and look at the output. What do you observe? Answer below."
   ]
  },
  {
   "cell_type": "code",
   "execution_count": null,
   "metadata": {},
   "outputs": [],
   "source": [
    "# code here"
   ]
  },
  {
   "cell_type": "markdown",
   "metadata": {},
   "source": [
    "*Answer here*"
   ]
  },
  {
   "cell_type": "markdown",
   "metadata": {},
   "source": [
    "Comment the whole part of the code containing the `StandardScaler`. What happens now? Answer below."
   ]
  },
  {
   "cell_type": "code",
   "execution_count": null,
   "metadata": {},
   "outputs": [],
   "source": [
    "# code here"
   ]
  },
  {
   "cell_type": "markdown",
   "metadata": {},
   "source": [
    "*Answer here*"
   ]
  },
  {
   "cell_type": "markdown",
   "metadata": {},
   "source": [
    "What order is the code executing the transformers in? What happens if you try putting the transformers the other way around? Answer below."
   ]
  },
  {
   "cell_type": "code",
   "execution_count": null,
   "metadata": {},
   "outputs": [],
   "source": [
    "# code here"
   ]
  },
  {
   "cell_type": "markdown",
   "metadata": {},
   "source": [
    "*Answer here*"
   ]
  },
  {
   "cell_type": "markdown",
   "metadata": {},
   "source": [
    "#### Non-numerical data\n",
    "\n",
    "Create a catagorical pipeline to process the `df_cat` dataframe. Use a `OrdinalEncoder` within this (yes you can make a pipeline with only one Transformer). "
   ]
  },
  {
   "cell_type": "code",
   "execution_count": null,
   "metadata": {},
   "outputs": [],
   "source": [
    "# code here"
   ]
  },
  {
   "cell_type": "markdown",
   "metadata": {},
   "source": [
    "# Combining Pipelines"
   ]
  },
  {
   "cell_type": "markdown",
   "metadata": {},
   "source": [
    "In the following we will see how we can combine multiple pipelines together. Let's take a new dataframe `df_data` containing both numerical and non-numerical data. "
   ]
  },
  {
   "cell_type": "code",
   "execution_count": null,
   "metadata": {},
   "outputs": [],
   "source": [
    "df_data = {\n",
    "    'names':['Sophie','Michael','Eric','Eric','Sopie', 'Xavier'],\n",
    "    'scores':[5,5,7,1,8,np.nan],\n",
    "            }\n",
    "\n",
    "df = pd.DataFrame(df_data)\n",
    "df"
   ]
  },
  {
   "cell_type": "markdown",
   "metadata": {},
   "source": [
    "As the dataframe above has both types of data: numerical and categorical, we must create seperate pipelines for processing the different types of data. We can then use a `ColumnTransfomer` to put them together. \n",
    "\n",
    "Make the necessary imports from scikit learn to be able to use `ColumnTransformer`. Read the corresponding documentation page to understand its purpose and the way to use it."
   ]
  },
  {
   "cell_type": "code",
   "execution_count": null,
   "metadata": {},
   "outputs": [],
   "source": [
    "# code here"
   ]
  },
  {
   "cell_type": "code",
   "execution_count": null,
   "metadata": {},
   "outputs": [],
   "source": [
    "# num_attribs and cat_attribs should be each a list of strings, the strings being column names\n",
    "\n",
    "num_attribs = [] # put here the column names (from the dataframe above) corresponding to the numerical attributes you wish to include\n",
    "cat_attribs = [] # put here the column names (from the dataframe above) corresponding to the categorical attributes you wish to include\n",
    "\n",
    "# make the full pipeline\n",
    "full_pipeline = None\n"
   ]
  },
  {
   "cell_type": "markdown",
   "metadata": {},
   "source": [
    "You can call `fit_transform()` on the dataframe `df` using the `full_pipeline` you have created. The `ColumnTransformer` runs the `num_pipeline` on each of the columns contained in `num_attribs`. Then it runs the `cat_pipeline` on the columns contained in `cat_attributes`. It then merges the output together to return one array containing everything."
   ]
  },
  {
   "cell_type": "code",
   "execution_count": null,
   "metadata": {},
   "outputs": [],
   "source": [
    "# code here"
   ]
  },
  {
   "cell_type": "markdown",
   "metadata": {},
   "source": [
    "Try `transforming` (only) the below new test set using the `full_pipeline` above. Are the results what you expected? Answer below."
   ]
  },
  {
   "cell_type": "code",
   "execution_count": null,
   "metadata": {},
   "outputs": [],
   "source": [
    "df_data_test = {\n",
    "    'names':['Xavier','Michael','Michael'],\n",
    "    'scores':[100,9,np.nan],\n",
    "            }\n",
    "\n",
    "df_test = pd.DataFrame(df_data_test)\n",
    "df_test"
   ]
  },
  {
   "cell_type": "code",
   "execution_count": null,
   "metadata": {},
   "outputs": [],
   "source": [
    "# code here"
   ]
  },
  {
   "cell_type": "markdown",
   "metadata": {},
   "source": [
    "*Answer here*"
   ]
  },
  {
   "cell_type": "markdown",
   "metadata": {},
   "source": [
    "Try now on this new  data below. Not working? Can you fix it?"
   ]
  },
  {
   "cell_type": "code",
   "execution_count": null,
   "metadata": {},
   "outputs": [],
   "source": [
    "df_data_test2 = {\n",
    "    'names':['Xavier','Michael',np.nan],\n",
    "    'scores':[100,9,np.nan],\n",
    "            }\n",
    "\n",
    "df_test2 = pd.DataFrame(df_data_test2)\n",
    "df_test2"
   ]
  },
  {
   "cell_type": "code",
   "execution_count": null,
   "metadata": {},
   "outputs": [],
   "source": [
    "# code here"
   ]
  },
  {
   "cell_type": "markdown",
   "metadata": {},
   "source": [
    "*Answer here*"
   ]
  },
  {
   "cell_type": "markdown",
   "metadata": {},
   "source": [
    "# Customised Transformers"
   ]
  },
  {
   "cell_type": "markdown",
   "metadata": {},
   "source": [
    "In order to create custom transformers we must write our own class. It takes the form below. Try running `fit_transform()` on the dataframe `df_num2` below. What happens?"
   ]
  },
  {
   "cell_type": "code",
   "execution_count": null,
   "metadata": {},
   "outputs": [],
   "source": [
    "# we must import these\n",
    "from sklearn.base import BaseEstimator, TransformerMixin\n",
    "\n",
    "class DontChangeAnything(BaseEstimator, TransformerMixin):\n",
    "    def __init__(self):\n",
    "        pass\n",
    "    def fit(self, X, y=None):\n",
    "        return self\n",
    "    def transform(self, X):\n",
    "        return X\n",
    "\n",
    "    "
   ]
  },
  {
   "cell_type": "code",
   "execution_count": null,
   "metadata": {},
   "outputs": [],
   "source": [
    "df_num2"
   ]
  },
  {
   "cell_type": "code",
   "execution_count": null,
   "metadata": {},
   "outputs": [],
   "source": [
    "# code here"
   ]
  },
  {
   "cell_type": "markdown",
   "metadata": {},
   "source": [
    "*Answer here*"
   ]
  },
  {
   "cell_type": "markdown",
   "metadata": {},
   "source": [
    "Now try using only `fit()`. What happens? Why?"
   ]
  },
  {
   "cell_type": "code",
   "execution_count": null,
   "metadata": {},
   "outputs": [],
   "source": [
    "# code here"
   ]
  },
  {
   "cell_type": "markdown",
   "metadata": {},
   "source": [
    "*Answer here*"
   ]
  },
  {
   "cell_type": "markdown",
   "metadata": {},
   "source": [
    "Make a copy of the transformer class above. Edit it to return the `.describe()` of the dataframe only."
   ]
  },
  {
   "cell_type": "code",
   "execution_count": null,
   "metadata": {},
   "outputs": [],
   "source": [
    "# code here"
   ]
  },
  {
   "cell_type": "markdown",
   "metadata": {},
   "source": [
    "# Edit your own custom transformer\n",
    "\n",
    "Copy the `DontChangeAnything` transformer. Assuming that its input will be a numpy array - edit it so that the numpy array is put into a dataframe which is returned. Test it on the array data below. "
   ]
  },
  {
   "cell_type": "code",
   "execution_count": null,
   "metadata": {},
   "outputs": [],
   "source": [
    "array = np.array(df_test2)\n",
    "array"
   ]
  },
  {
   "cell_type": "code",
   "execution_count": null,
   "metadata": {},
   "outputs": [],
   "source": [
    "# code here"
   ]
  },
  {
   "cell_type": "markdown",
   "metadata": {},
   "source": [
    "##### Congratulations! You have reached the end of this notebook! At this point you should be able to use Transformers and Pipelines to tackle new exercises!"
   ]
  },
  {
   "cell_type": "code",
   "execution_count": null,
   "metadata": {},
   "outputs": [],
   "source": []
  }
 ],
 "metadata": {
  "kernelspec": {
   "display_name": "Python 3",
   "language": "python",
   "name": "python3"
  },
  "language_info": {
   "codemirror_mode": {
    "name": "ipython",
    "version": 3
   },
   "file_extension": ".py",
   "mimetype": "text/x-python",
   "name": "python",
   "nbconvert_exporter": "python",
   "pygments_lexer": "ipython3",
   "version": "3.7.1"
  }
 },
 "nbformat": 4,
 "nbformat_minor": 4
}
